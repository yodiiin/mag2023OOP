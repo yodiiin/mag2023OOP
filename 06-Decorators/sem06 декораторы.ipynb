{
 "cells": [
  {
   "cell_type": "code",
   "execution_count": 1,
   "metadata": {},
   "outputs": [],
   "source": [
    "def funcfactory(k, b):\n",
    "    def func(x):\n",
    "        return k * x + b\n",
    "    return func"
   ]
  },
  {
   "cell_type": "code",
   "execution_count": 2,
   "metadata": {},
   "outputs": [
    {
     "data": {
      "text/plain": [
       "<function __main__.funcfactory.<locals>.func(x)>"
      ]
     },
     "execution_count": 2,
     "metadata": {},
     "output_type": "execute_result"
    }
   ],
   "source": [
    "funcfactory(2, 3)"
   ]
  },
  {
   "cell_type": "code",
   "execution_count": 3,
   "metadata": {},
   "outputs": [
    {
     "ename": "ZeroDivisionError",
     "evalue": "division by zero",
     "output_type": "error",
     "traceback": [
      "\u001b[1;31m---------------------------------------------------------------------------\u001b[0m",
      "\u001b[1;31mZeroDivisionError\u001b[0m                         Traceback (most recent call last)",
      "Cell \u001b[1;32mIn[3], line 4\u001b[0m\n\u001b[0;32m      1\u001b[0m \u001b[38;5;28;01mdef\u001b[39;00m \u001b[38;5;21mdivision\u001b[39m(x, y):\n\u001b[0;32m      2\u001b[0m     \u001b[38;5;28;01mreturn\u001b[39;00m x \u001b[38;5;241m/\u001b[39m y\n\u001b[1;32m----> 4\u001b[0m \u001b[43mdivision\u001b[49m\u001b[43m(\u001b[49m\u001b[38;5;241;43m2\u001b[39;49m\u001b[43m,\u001b[49m\u001b[43m \u001b[49m\u001b[38;5;241;43m0\u001b[39;49m\u001b[43m)\u001b[49m\n",
      "Cell \u001b[1;32mIn[3], line 2\u001b[0m, in \u001b[0;36mdivision\u001b[1;34m(x, y)\u001b[0m\n\u001b[0;32m      1\u001b[0m \u001b[38;5;28;01mdef\u001b[39;00m \u001b[38;5;21mdivision\u001b[39m(x, y):\n\u001b[1;32m----> 2\u001b[0m     \u001b[38;5;28;01mreturn\u001b[39;00m \u001b[43mx\u001b[49m\u001b[43m \u001b[49m\u001b[38;5;241;43m/\u001b[39;49m\u001b[43m \u001b[49m\u001b[43my\u001b[49m\n",
      "\u001b[1;31mZeroDivisionError\u001b[0m: division by zero"
     ]
    }
   ],
   "source": [
    "def division(x, y):\n",
    "    return x / y\n",
    "\n",
    "division(2, 0)"
   ]
  },
  {
   "cell_type": "code",
   "execution_count": 5,
   "metadata": {},
   "outputs": [
    {
     "name": "stdout",
     "output_type": "stream",
     "text": [
      "Cannot divide by zero.\n"
     ]
    }
   ],
   "source": [
    "# а если мы эту функцию исмпортировали из другого модуля и получили ее в качестве объекта, который не можем изменить?\n",
    "# closure\n",
    "def nozero(d):\n",
    "    def inner(x, y):\n",
    "        if y == 0:\n",
    "            print('Cannot divide by zero.')\n",
    "            return\n",
    "        d(x, y)\n",
    "    return inner\n",
    "\n",
    "@nozero\n",
    "def division(x, y):\n",
    "    return x / y\n",
    "\n",
    "@nozero\n",
    "def func(x, y):\n",
    "    return (x - y) ** 2 / y\n",
    "\n",
    "# division = nozero(division)\n",
    "division(2, 0)"
   ]
  },
  {
   "cell_type": "code",
   "execution_count": 1,
   "metadata": {},
   "outputs": [],
   "source": [
    "def metafunc(func):\n",
    "    print('I am a metafunc')\n",
    "    def wrapper(x, y):\n",
    "        print(f'I am a wrapper. I call {func.__name__}')\n",
    "        func(x, y)\n",
    "    return wrapper\n",
    "\n",
    "def func(x, y):\n",
    "    print(f'My args are {x}, {y}')"
   ]
  },
  {
   "cell_type": "code",
   "execution_count": 2,
   "metadata": {},
   "outputs": [
    {
     "name": "stdout",
     "output_type": "stream",
     "text": [
      "I am a metafunc\n"
     ]
    }
   ],
   "source": [
    "func = metafunc(func) # тут лежит wrapper(x, y)"
   ]
  },
  {
   "cell_type": "code",
   "execution_count": 3,
   "metadata": {},
   "outputs": [
    {
     "name": "stdout",
     "output_type": "stream",
     "text": [
      "I am a wrapper. I call func\n",
      "My args are 1, 2\n"
     ]
    }
   ],
   "source": [
    "func(1, 2)"
   ]
  },
  {
   "cell_type": "code",
   "execution_count": 12,
   "metadata": {},
   "outputs": [
    {
     "name": "stdout",
     "output_type": "stream",
     "text": [
      "I am a metafunc\n"
     ]
    }
   ],
   "source": [
    "def metafunc(func):\n",
    "    print('I am a metafunc')\n",
    "    def wrapper(x, y):\n",
    "        print(f'I am a wrapper. I call {func.__name__}')\n",
    "        func(x, y)\n",
    "    return wrapper\n",
    "\n",
    "@metafunc # декоратор\n",
    "def func(x, y):\n",
    "    print(f'My args are {x}, {y}')"
   ]
  },
  {
   "cell_type": "code",
   "execution_count": 13,
   "metadata": {},
   "outputs": [
    {
     "name": "stdout",
     "output_type": "stream",
     "text": [
      "I am a wrapper. I call func\n",
      "My args are 1, 2\n"
     ]
    }
   ],
   "source": [
    "func(1, 2)"
   ]
  },
  {
   "cell_type": "code",
   "execution_count": 14,
   "metadata": {},
   "outputs": [],
   "source": [
    "class A:\n",
    "    @staticmethod # встроенный декортаор\n",
    "    def method():\n",
    "        print('I am static.')\n",
    "    \n",
    "    @classmethod\n",
    "    def cmethod(cls):\n",
    "        print(f\"I am class {cls.__name__}\")"
   ]
  },
  {
   "cell_type": "code",
   "execution_count": 15,
   "metadata": {},
   "outputs": [],
   "source": [
    "a = A()"
   ]
  },
  {
   "cell_type": "code",
   "execution_count": 16,
   "metadata": {},
   "outputs": [
    {
     "name": "stdout",
     "output_type": "stream",
     "text": [
      "I am class A\n"
     ]
    }
   ],
   "source": [
    "a.cmethod()"
   ]
  },
  {
   "cell_type": "code",
   "execution_count": 17,
   "metadata": {},
   "outputs": [],
   "source": [
    "class Person:\n",
    "    def __init__(self):\n",
    "        self.__name = ''\n",
    "    \n",
    "    def getname(self):\n",
    "        return self.__name\n",
    "    \n",
    "    def setname(self, value):\n",
    "        if isinstance(value, str):\n",
    "            self.__name = value\n",
    "    \n",
    "    def delname(self):\n",
    "        # del self.__name\n",
    "        self.__name = ''\n",
    "    \n",
    "    name = property(getname, setname, delname)"
   ]
  },
  {
   "cell_type": "code",
   "execution_count": 26,
   "metadata": {},
   "outputs": [],
   "source": [
    "p = Person()"
   ]
  },
  {
   "cell_type": "code",
   "execution_count": 27,
   "metadata": {},
   "outputs": [
    {
     "data": {
      "text/plain": [
       "'Vasya'"
      ]
     },
     "execution_count": 27,
     "metadata": {},
     "output_type": "execute_result"
    }
   ],
   "source": [
    "p.name = 'Vasya'\n",
    "p.name"
   ]
  },
  {
   "cell_type": "code",
   "execution_count": 33,
   "metadata": {},
   "outputs": [
    {
     "data": {
      "text/plain": [
       "'Vasya'"
      ]
     },
     "execution_count": 33,
     "metadata": {},
     "output_type": "execute_result"
    }
   ],
   "source": [
    "p.name"
   ]
  },
  {
   "cell_type": "code",
   "execution_count": 32,
   "metadata": {},
   "outputs": [],
   "source": [
    "# с декоратором\n",
    "class Person:\n",
    "    def __init__(self):\n",
    "        self.__name = ''\n",
    "    \n",
    "    @property\n",
    "    def name(self):\n",
    "        return self.__name\n",
    "    \n",
    "    @name.setter\n",
    "    def name(self, value):\n",
    "        if isinstance(value, str):\n",
    "            self.__name = value\n",
    "    \n",
    "    @name.deleter\n",
    "    def name(self):\n",
    "        # del self.__name\n",
    "        self.__name = ''\n",
    "    \n",
    "    # name = property(getname, setname, delname)"
   ]
  },
  {
   "cell_type": "markdown",
   "metadata": {},
   "source": [
    "----------------------------------------------"
   ]
  },
  {
   "cell_type": "code",
   "execution_count": 64,
   "metadata": {},
   "outputs": [
    {
     "name": "stdout",
     "output_type": "stream",
     "text": [
      "I am a decorator fabric!\n",
      "I am a decorator for func concat\n",
      "I am a decorator fabric!\n",
      "I am a decorator for func summ\n"
     ]
    }
   ],
   "source": [
    "def decfactory(dataType): # передаем тип данных, который хотим проверить\n",
    "    print('I am a decorator fabric!')\n",
    "    # \"\"\"Decorator for concat()\"\"\"\n",
    "    def decorator(func):\n",
    "        print(f'I am a decorator for func {func.__name__}')\n",
    "        def wrapper(*args, **kwargs):\n",
    "            print(f'I am nested function for func {func.__name__}')\n",
    "            if all([type(arg) == dataType for arg in args]): # собираем список из true, false для каждого аргумента функции\n",
    "                return func(*args, **kwargs)\n",
    "            return 'Invalid input'\n",
    "        return wrapper\n",
    "    return decorator\n",
    "\n",
    "@decfactory(str)\n",
    "def concat(*args):\n",
    "    \"\"\"This is a function for concatenating strings\"\"\"\n",
    "    res = ''\n",
    "    for arg in args:\n",
    "        res += arg\n",
    "    return res\n",
    "\n",
    "@decfactory(int)\n",
    "def summ(*args):\n",
    "    \"\"\"This is a function for adding numbers\"\"\"\n",
    "    res = 0\n",
    "    for arg in args:\n",
    "        res += arg\n",
    "    return res"
   ]
  },
  {
   "cell_type": "code",
   "execution_count": 65,
   "metadata": {},
   "outputs": [
    {
     "name": "stdout",
     "output_type": "stream",
     "text": [
      "I am nested function for func concat\n"
     ]
    },
    {
     "data": {
      "text/plain": [
       "'123456'"
      ]
     },
     "execution_count": 65,
     "metadata": {},
     "output_type": "execute_result"
    }
   ],
   "source": [
    "concat('123', '456') # wrapper('123', '456')"
   ]
  },
  {
   "cell_type": "code",
   "execution_count": 66,
   "metadata": {},
   "outputs": [
    {
     "name": "stdout",
     "output_type": "stream",
     "text": [
      "I am nested function for func concat\n"
     ]
    },
    {
     "data": {
      "text/plain": [
       "'Invalid input'"
      ]
     },
     "execution_count": 66,
     "metadata": {},
     "output_type": "execute_result"
    }
   ],
   "source": [
    "concat('123', 456)"
   ]
  },
  {
   "cell_type": "code",
   "execution_count": 67,
   "metadata": {},
   "outputs": [
    {
     "name": "stdout",
     "output_type": "stream",
     "text": [
      "I am nested function for func summ\n"
     ]
    },
    {
     "data": {
      "text/plain": [
       "11"
      ]
     },
     "execution_count": 67,
     "metadata": {},
     "output_type": "execute_result"
    }
   ],
   "source": [
    "summ(4, 7)"
   ]
  },
  {
   "cell_type": "code",
   "execution_count": 68,
   "metadata": {},
   "outputs": [
    {
     "name": "stdout",
     "output_type": "stream",
     "text": [
      "I am nested function for func summ\n"
     ]
    },
    {
     "data": {
      "text/plain": [
       "'Invalid input'"
      ]
     },
     "execution_count": 68,
     "metadata": {},
     "output_type": "execute_result"
    }
   ],
   "source": [
    "summ('4', 7)"
   ]
  },
  {
   "cell_type": "code",
   "execution_count": 48,
   "metadata": {},
   "outputs": [],
   "source": [
    "instances = {}\n",
    "\n",
    "def singleton(cls):\n",
    "    def onCall(*args, **kwargs):\n",
    "        if cls not in instances:\n",
    "            instances[cls] = cls(*args, **kwargs) # __init__\n",
    "        return instances[cls]\n",
    "    return onCall\n",
    "\n",
    "@singleton\n",
    "class University:\n",
    "    def __init__(self, name):\n",
    "        self.name = name\n",
    "    def __repr__(self):\n",
    "        return f\"{self.__class__.__name__}('{self.name}')\""
   ]
  },
  {
   "cell_type": "code",
   "execution_count": 49,
   "metadata": {},
   "outputs": [],
   "source": [
    "u = University('RSUH')"
   ]
  },
  {
   "cell_type": "code",
   "execution_count": 50,
   "metadata": {},
   "outputs": [
    {
     "data": {
      "text/plain": [
       "University('RSUH')"
      ]
     },
     "execution_count": 50,
     "metadata": {},
     "output_type": "execute_result"
    }
   ],
   "source": [
    "u"
   ]
  },
  {
   "cell_type": "code",
   "execution_count": 51,
   "metadata": {},
   "outputs": [],
   "source": [
    "m = University('MSU')"
   ]
  },
  {
   "cell_type": "code",
   "execution_count": 47,
   "metadata": {},
   "outputs": [
    {
     "data": {
      "text/plain": [
       "University('RSUH')"
      ]
     },
     "execution_count": 47,
     "metadata": {},
     "output_type": "execute_result"
    }
   ],
   "source": [
    "m # новый экземпляр не создается"
   ]
  },
  {
   "cell_type": "markdown",
   "metadata": {},
   "source": [
    "##### dataclass"
   ]
  },
  {
   "cell_type": "code",
   "execution_count": 61,
   "metadata": {},
   "outputs": [],
   "source": [
    "from dataclasses import dataclass\n",
    "import typing"
   ]
  },
  {
   "cell_type": "code",
   "execution_count": 58,
   "metadata": {},
   "outputs": [],
   "source": [
    "@dataclass\n",
    "class Book:\n",
    "    # def __init__(self, title, author, year):\n",
    "    #     self.title = title\n",
    "    #     self.author = author\n",
    "    #     self.year = year\n",
    "    title: str\n",
    "    author: str = 'Unknown'\n",
    "    year: int = 0"
   ]
  },
  {
   "cell_type": "code",
   "execution_count": 59,
   "metadata": {},
   "outputs": [],
   "source": [
    "b = Book('War and Peace', 'Tolstoy', 1860)\n",
    "a = Book('War and Peace')"
   ]
  },
  {
   "cell_type": "code",
   "execution_count": 60,
   "metadata": {},
   "outputs": [
    {
     "data": {
      "text/plain": [
       "Book(title='War and Peace', author='Unknown', year=0)"
      ]
     },
     "execution_count": 60,
     "metadata": {},
     "output_type": "execute_result"
    }
   ],
   "source": [
    "a"
   ]
  },
  {
   "cell_type": "code",
   "execution_count": 56,
   "metadata": {},
   "outputs": [
    {
     "data": {
      "text/plain": [
       "True"
      ]
     },
     "execution_count": 56,
     "metadata": {},
     "output_type": "execute_result"
    }
   ],
   "source": [
    "a == b # __eq__"
   ]
  },
  {
   "cell_type": "code",
   "execution_count": null,
   "metadata": {},
   "outputs": [],
   "source": []
  }
 ],
 "metadata": {
  "kernelspec": {
   "display_name": "Python 3",
   "language": "python",
   "name": "python3"
  },
  "language_info": {
   "codemirror_mode": {
    "name": "ipython",
    "version": 3
   },
   "file_extension": ".py",
   "mimetype": "text/x-python",
   "name": "python",
   "nbconvert_exporter": "python",
   "pygments_lexer": "ipython3",
   "version": "3.12.4"
  }
 },
 "nbformat": 4,
 "nbformat_minor": 2
}
