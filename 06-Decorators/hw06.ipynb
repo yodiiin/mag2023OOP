{
 "cells": [
  {
   "cell_type": "markdown",
   "id": "3aeca3a5-940d-4215-80f8-6388eb48e484",
   "metadata": {},
   "source": [
    "#### Задача 1. \n",
    "\n",
    "С помощью модуля time реализуйте декоратор, который будет высчитывать время выполнения функции."
   ]
  },
  {
   "cell_type": "code",
   "execution_count": null,
   "id": "ae317c56-0fe9-461e-a7fc-4f4821a4aac6",
   "metadata": {},
   "outputs": [],
   "source": [
    "# your code here"
   ]
  },
  {
   "cell_type": "markdown",
   "id": "bb1c47da-f6d7-4aec-b94b-fed9014def15",
   "metadata": {},
   "source": [
    "#### Задача 2. \n",
    "\n",
    "Перепишите класс Token с использованием декоратора dataclass."
   ]
  },
  {
   "cell_type": "code",
   "execution_count": null,
   "id": "313a477f-c41d-454b-8367-69377d5ba96c",
   "metadata": {},
   "outputs": [],
   "source": [
    "# your code here"
   ]
  },
  {
   "cell_type": "markdown",
   "id": "b62e85a9-0a1d-4b69-a779-f1c7ac67ea9f",
   "metadata": {},
   "source": [
    "#### Задача 3.\n",
    "\n",
    "Расширьте декоратор таким образом, чтобы а) элементов в кортеже могло быть сколько угодно и они суммировались все б) декоратор был рекурсивным и умел отыскивать самые вложенные кортежи/списки и складывать их элементы, например: \n",
    "[[1, 2], [3, 4]], [[3, 4]] = 17\n",
    "При этом вложенные числа должны быть все на одном уровне (то есть, не может оказаться, чтобы в списке был и список, и число)."
   ]
  },
  {
   "cell_type": "code",
   "execution_count": null,
   "id": "deeed015-687e-4699-a25a-c5855570375e",
   "metadata": {},
   "outputs": [],
   "source": [
    "# your code here"
   ]
  }
 ],
 "metadata": {
  "kernelspec": {
   "display_name": "Python 3 (ipykernel)",
   "language": "python",
   "name": "python3"
  },
  "language_info": {
   "codemirror_mode": {
    "name": "ipython",
    "version": 3
   },
   "file_extension": ".py",
   "mimetype": "text/x-python",
   "name": "python",
   "nbconvert_exporter": "python",
   "pygments_lexer": "ipython3",
   "version": "3.9.12"
  }
 },
 "nbformat": 4,
 "nbformat_minor": 5
}
