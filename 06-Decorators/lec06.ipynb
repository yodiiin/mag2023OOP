{
 "cells": [
  {
   "cell_type": "markdown",
   "id": "1318fb2e-d94e-48e9-84bf-06ddf5f5184b",
   "metadata": {},
   "source": [
    "## Декораторы"
   ]
  },
  {
   "cell_type": "markdown",
   "id": "d2bc55c4-bd04-4188-b37e-1414c6690230",
   "metadata": {},
   "source": [
    "Декораторы - это объекты, которые дополняют определения функций или классов. Они задают специальные режимы работы для простых функций и методов классов путем их помещения в добавочный уровень логики, реализованный как еще одна функция, которая обычно называется метафункцией. \n",
    "\n",
    "Декораторы классов дополняют определения классов. Они делают то же самое для классов, добавляя поддержку управления целыми объектами и их интерфейсами. Часто пересекаются в ролях с метаклассами. \n",
    "\n",
    "Соответственно, декораторы бывают:\n",
    "\n",
    "    а). классов или функций\n",
    "    б). сами либо классы, либо функции\n",
    "    \n",
    "Синтаксически декоратор выглядит как:\n",
    "\n",
    "    @декоратор\n",
    "    def | class"
   ]
  },
  {
   "cell_type": "markdown",
   "id": "63d49588-ba58-4c46-b5d0-5cb2a8644dfa",
   "metadata": {},
   "source": [
    "**Известные нам вещи в декораторах**\n",
    "\n",
    "Во-первых, декораторный синтаксис поддерживает property:"
   ]
  },
  {
   "cell_type": "code",
   "execution_count": null,
   "id": "2e169d82-ebe3-4f47-9569-bf69c82c9239",
   "metadata": {},
   "outputs": [],
   "source": [
    "class Person:\n",
    "    def __init__(self):\n",
    "        self.__name = ''\n",
    "    \n",
    "    @property\n",
    "    def name(self):\n",
    "        return self.__name\n",
    "    \n",
    "    @name.setter\n",
    "    def name(self, val):\n",
    "        self.__name = val\n",
    "        \n",
    "    @name.deleter\n",
    "    def name(self):\n",
    "        del self.__name"
   ]
  },
  {
   "cell_type": "markdown",
   "id": "670ae02a-a124-49f7-aab0-1774ee128dee",
   "metadata": {},
   "source": [
    "А во-вторых, статические методы и методы классов:"
   ]
  },
  {
   "cell_type": "code",
   "execution_count": null,
   "id": "f520bb23-201a-43ef-8381-22b839fac010",
   "metadata": {},
   "outputs": [],
   "source": [
    "class MyClass:\n",
    "    @staticmethod\n",
    "    def staticm():\n",
    "        pass \n",
    "    @classmethod\n",
    "    def clsmethod(cls):\n",
    "        pass"
   ]
  },
  {
   "cell_type": "markdown",
   "id": "aa1a0a5e-bdf2-4b19-8a65-8a0aa4022eb6",
   "metadata": {},
   "source": [
    "Вообще все вещи, которые вы используете в виде:\n",
    "\n",
    "    func = mything(func)\n",
    "\n",
    "могут использоваться с синтаксисом декораторов, например, вспомните ipywidgets и интерактивные штуки к графикам. "
   ]
  },
  {
   "cell_type": "markdown",
   "id": "a679a807-ca3f-4d9c-8993-26f560cfe49d",
   "metadata": {},
   "source": [
    "#### Декораторы функций\n",
    "\n",
    "Прежде чем приступим к декораторам, следует вспомнить, что функция в питоне - это точно такой же объект, который может сам быть аргументом другой функции, и его можно возвращать. Получается, что любую функцию можно чем-нибудь дополнить:"
   ]
  },
  {
   "cell_type": "code",
   "execution_count": 2,
   "id": "4efd8462-3f6e-4206-bba2-f53f0daccd22",
   "metadata": {},
   "outputs": [
    {
     "name": "stdout",
     "output_type": "stream",
     "text": [
      "Я ничего не делаю...\n",
      "Я возвращаю неизменную функцию func\n",
      "Вот мои аргументы: 1 2\n"
     ]
    }
   ],
   "source": [
    "def metafunc(func):\n",
    "    print('Я ничего не делаю...')\n",
    "    def inner_func(x, y):\n",
    "        print('Я возвращаю неизменную функцию', func.__name__)\n",
    "        return func(x, y)\n",
    "    return inner_func\n",
    "\n",
    "def func(x, y):\n",
    "    print('Вот мои аргументы:', x, y)\n",
    "    \n",
    "func = metafunc(func)\n",
    "\n",
    "func(1, 2)"
   ]
  },
  {
   "cell_type": "markdown",
   "id": "c02d7bed-901c-4e62-8f85-019ea0fb95df",
   "metadata": {},
   "source": [
    "Для чего нам обязательно приходится прописывать эту внутреннюю функцию? А чтобы получить доступ к нашим аргументам: попробуйте написать metafunc без нее. Получится:\n",
    "\n",
    "    def metafunc(func):\n",
    "        return func(???)\n",
    "        \n",
    "Откуда взять x, y? Мы можем только завести их во внутренней определяемой функции. Обратите внимание, что эти внутренние x, y никак практически не связаны с теми x, y, что мы задали в определении func: нам никто не запретит назвать их по-другому и даже передать их другое количество, но с другим количеством возникнут проблемы. Что реально происходит?\n",
    "\n",
    "- metafunc принимает объект func, который сам по себе ничего не делает, он объект (мы его не вызываем). \n",
    "- Внутри у metafunc создается новый объект, тоже функция, который тоже ничего не делает, но принимает такое же количество параметров, как и исходная функция func, и вызывает ее внутри себя, чтобы вернуть ее результат. Должен вызывать, точнее говоря, когда мы его самого вызовем. \n",
    "- Содержимое переменной func перезаписывается этой новой функцией inner_func, которую мы вернули в metafunc. То есть, metafunc - это создатель функции, а inner_func добавляет какие-то действия к вызову func. "
   ]
  },
  {
   "cell_type": "markdown",
   "id": "ece2b144-aea2-417a-abc1-7917aed6ec8d",
   "metadata": {},
   "source": [
    "Таким образом, в декораторе metafunc мы переопределяем нашу функцию, добавляя к ней чего-нибудь. Для чего это нужно? Как раз в таких случаях, когда нам нужно добавить подобную логику к куче разных функций и мы не хотим ее копипастить (а еще эти функции хотим использовать иногда и без этой логики). \n",
    "\n",
    "Таким образом, наш декоратор для проверки деления на ноль может приписываться к самым разным функциям, где такое деление используется. "
   ]
  },
  {
   "cell_type": "code",
   "execution_count": 6,
   "id": "f915aa71-bb77-482f-948a-7975523b6887",
   "metadata": {},
   "outputs": [],
   "source": [
    "# closure, замыкание\n",
    "\n",
    "def guard_zero(operate):\n",
    "    def inner(x, y):  \n",
    "        if y == 0:\n",
    "            print('Cannot divide by zero')\n",
    "            return\n",
    "        return operate(x, y)\n",
    "    return inner\n",
    "\n",
    "@guard_zero\n",
    "def true_divide(x, y):\n",
    "    return x / y\n",
    "\n",
    "@guard_zero\n",
    "def divide(x, y):\n",
    "    return x // y"
   ]
  },
  {
   "cell_type": "markdown",
   "id": "462c33ee-93b1-4d17-905f-b741041c4a4e",
   "metadata": {},
   "source": [
    "**Вложенные декораторы**\n",
    "\n",
    "Иногда (редко) нам может захотеться написать такой декоратор, который будет принимать какие-то параметры, то есть, по сути, создать фабрику декораторов, которая будет их штамповать наподобие такой штуки:"
   ]
  },
  {
   "cell_type": "code",
   "execution_count": null,
   "id": "34c5498b-ff47-4dbe-98ce-7f34106871a7",
   "metadata": {},
   "outputs": [],
   "source": [
    "def func_factory(k, b):\n",
    "    return lambda x: k * x + b"
   ]
  },
  {
   "cell_type": "markdown",
   "id": "1f4df4d3-1ea9-4273-8f29-91e82397fddb",
   "metadata": {},
   "source": [
    "Функция func_factory сама по себе ничего не делает, но штампует функции для описания прямых линий с самыми разными коэффициентами. \n",
    "\n",
    "Фабрика декораторов будет делать то же самое. Давайте сразу рассмотрим рабочий пример, какой у нас был на семинаре:"
   ]
  },
  {
   "cell_type": "code",
   "execution_count": 18,
   "id": "374b1494-1fcc-492b-a945-58b4a70cd6b0",
   "metadata": {},
   "outputs": [
    {
     "name": "stdout",
     "output_type": "stream",
     "text": [
      "Decorator for concatenation\n",
      "Decorator for summation\n"
     ]
    }
   ],
   "source": [
    "def decodedecorator(dataType, message1, message2):\n",
    "    '''это фабрика декораторов, верхний уровень. Она штампует декораторы для проверки на тип данных'''\n",
    "    def decorator(func):\n",
    "        '''это шаблон будущего декоратора: у него меняются его k и b - сообщение об ошибке и тип данных'''\n",
    "        print(message1)\n",
    "        def wrapper(*args, **kwargs):\n",
    "            print(message2)\n",
    "            if all([type(arg) == dataType for arg in args]):   # all = все True, any = хотя бы одно True type(arg) == tuple for arg in args\n",
    "                return func(*args, **kwargs)\n",
    "            return \"Invalid input\"\n",
    "        return wrapper\n",
    "    return decorator\n",
    "\n",
    "# передавая тип данных \"строка\", мы проверяем аргументы нашей функции stringJoin на строковость\n",
    "@decodedecorator(str, \"Decorator for concatenation\", \"stringJoin started...\")\n",
    "def stringJoin(*args):\n",
    "    res = ''\n",
    "    for arg in args:\n",
    "        res += arg\n",
    "    return res\n",
    "\n",
    "# а здесь, наоборот, на интовость\n",
    "@decodedecorator(int, \"Decorator for summation\", \"summation started...\")\n",
    "def summation(*args):\n",
    "    res = 0\n",
    "    for arg in args:\n",
    "        res += arg\n",
    "    return res"
   ]
  },
  {
   "cell_type": "code",
   "execution_count": 20,
   "id": "096c9840-1ad1-4d12-90d0-7cc003e66454",
   "metadata": {},
   "outputs": [
    {
     "name": "stdout",
     "output_type": "stream",
     "text": [
      "stringJoin started...\n"
     ]
    },
    {
     "data": {
      "text/plain": [
       "'123'"
      ]
     },
     "execution_count": 20,
     "metadata": {},
     "output_type": "execute_result"
    }
   ],
   "source": [
    "stringJoin('1', '2', '3')"
   ]
  },
  {
   "cell_type": "code",
   "execution_count": 21,
   "id": "e1afddac-01f5-4b61-9476-90ebdb28fb59",
   "metadata": {},
   "outputs": [
    {
     "name": "stdout",
     "output_type": "stream",
     "text": [
      "summation started...\n"
     ]
    },
    {
     "data": {
      "text/plain": [
       "6"
      ]
     },
     "execution_count": 21,
     "metadata": {},
     "output_type": "execute_result"
    }
   ],
   "source": [
    "summation(1, 2, 3)"
   ]
  },
  {
   "cell_type": "markdown",
   "id": "0b6ff59e-f385-48f9-bf78-2ab136c95ea1",
   "metadata": {},
   "source": [
    "Получается, нам не нужно писать два отдельных декоратора для проверки на строки и на инты: profit! "
   ]
  },
  {
   "cell_type": "markdown",
   "id": "358e9c13-ab98-4dc6-9656-6fb3caf5a62e",
   "metadata": {},
   "source": [
    "**Декораторы-классы**\n",
    "\n",
    "Декоратор может выглядеть и как класс, тогда основную нагрузку несет его метод \\_\\_call\\_\\_, а какие-то данные могут храниться в атрибутах. "
   ]
  },
  {
   "cell_type": "code",
   "execution_count": 23,
   "id": "44f1b428-d9f3-4dcd-bd18-74a633ffab93",
   "metadata": {},
   "outputs": [],
   "source": [
    "class tracer:\n",
    "    '''декоратор-класс для функции'''\n",
    "    def __init__(self, func):\n",
    "        self.calls = 0\n",
    "        self.func = func\n",
    "        \n",
    "    def __call__(self, *args):\n",
    "        self.calls += 1\n",
    "        print(f'# of calls: {self.calls}, function: {self.func.__name__}')\n",
    "        return self.func(*args)\n",
    "    \n",
    "@tracer\n",
    "def func(a, b, c):\n",
    "    print(a, b, c)\n",
    "    \n",
    "# func = tracer(func)"
   ]
  },
  {
   "cell_type": "code",
   "execution_count": 26,
   "id": "8272d852-70c9-4e03-b8c0-2bdc48904152",
   "metadata": {},
   "outputs": [
    {
     "name": "stdout",
     "output_type": "stream",
     "text": [
      "# of calls: 3, function: func\n",
      "1 6 3\n"
     ]
    }
   ],
   "source": [
    "func(1, 6, 3)"
   ]
  },
  {
   "cell_type": "markdown",
   "id": "da567790-2ab5-4a4e-bc21-c33ad973e58c",
   "metadata": {},
   "source": [
    "То есть, по сути, когда мы его используем, в переменную с именем нашей функции func на самом деле кладется экземпляр класса tracer, который и будет вызываться вместо функции. "
   ]
  },
  {
   "cell_type": "markdown",
   "id": "a5ecafca-b2f2-48bb-97fc-e9d884d0b148",
   "metadata": {},
   "source": [
    "#### Декораторы классов\n",
    "\n",
    "По сути, делаем мы все то же самое. Для чего они могут быть нужны? Ну например, мы хотим, чтобы в каждую единицу времени существовал только один экземпляр нашего класса. Декоратор способен перехватывать вызовы имени класса при создании объектов, поэтому самое время его применить (код взят из учебника Лутца):"
   ]
  },
  {
   "cell_type": "code",
   "execution_count": 3,
   "id": "c69f5320-9b5f-43f4-b07c-3e42a4ca7fd6",
   "metadata": {},
   "outputs": [
    {
     "name": "stdout",
     "output_type": "stream",
     "text": [
      "Вася Вася\n"
     ]
    }
   ],
   "source": [
    "instances = {}\n",
    "\n",
    "def singleton(aClass):\n",
    "    def onCall(*args, **kwargs):\n",
    "        if aClass not in instances:\n",
    "            # если мы еще не создавали такой объект\n",
    "            instances[aClass] = aClass(*args, **kwargs)\n",
    "        # а если создавали, то вернем уже созданный\n",
    "        return instances[aClass]\n",
    "    return onCall\n",
    "\n",
    "@singleton\n",
    "class Person:\n",
    "    def __init__(self, name):\n",
    "        self.name = name\n",
    "        \n",
    "@singleton\n",
    "class Tokenizer:\n",
    "    def __init__(self):\n",
    "        self.tokens = []\n",
    "        \n",
    "p = Person('Вася')\n",
    "f = Person('Петя')\n",
    "print(p.name, f.name)"
   ]
  },
  {
   "cell_type": "markdown",
   "id": "cb80471b-acf7-471e-8140-32c27c869fae",
   "metadata": {},
   "source": [
    "В действительности, когда мы пишем Person('Петя'), вызывается не конструктор класса, а функция onCall, которая и возвращает нам уже существующий объект. Класс Tokenizer() я не задействовала, но причина не желать создавать много экземпляров классов одновременно может быть понятной: если в атрибутах класса содержится гигантский список..."
   ]
  },
  {
   "cell_type": "markdown",
   "id": "16e98526-5016-4199-a1bd-0fd7e2e6638a",
   "metadata": {},
   "source": [
    "**Декоратор dataclass**\n",
    "\n",
    "Это вообще отличная вещь, о которой советую просто почитать [статью на хабре](https://habr.com/ru/post/415829/). Примеры я брала оттуда. "
   ]
  }
 ],
 "metadata": {
  "kernelspec": {
   "display_name": "Python 3 (ipykernel)",
   "language": "python",
   "name": "python3"
  },
  "language_info": {
   "codemirror_mode": {
    "name": "ipython",
    "version": 3
   },
   "file_extension": ".py",
   "mimetype": "text/x-python",
   "name": "python",
   "nbconvert_exporter": "python",
   "pygments_lexer": "ipython3",
   "version": "3.9.12"
  }
 },
 "nbformat": 4,
 "nbformat_minor": 5
}
