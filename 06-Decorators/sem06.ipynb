{
 "cells": [
  {
   "cell_type": "markdown",
   "id": "d9d35ff7-cc85-40a6-9a1a-28abd2b53091",
   "metadata": {},
   "source": [
    "#### Задача 1. \n",
    "\n",
    "Перепишите класс с пациентом, у которого есть температура, с использованием декоратора. "
   ]
  },
  {
   "cell_type": "code",
   "execution_count": null,
   "id": "74410e9a-5668-458b-815a-d30936373833",
   "metadata": {},
   "outputs": [],
   "source": [
    "# your code here"
   ]
  },
  {
   "cell_type": "markdown",
   "id": "4c6c463d-6a03-40fa-9614-76b6b23f6a65",
   "metadata": {},
   "source": [
    "#### Задача 2. \n",
    "\n",
    "Напишите декоратор, который будет конвертировать результат выполнения функции в bool. "
   ]
  },
  {
   "cell_type": "code",
   "execution_count": null,
   "id": "195d6863-af7e-44eb-a08e-fdc27f0a1a4f",
   "metadata": {},
   "outputs": [],
   "source": [
    "# your code here"
   ]
  },
  {
   "cell_type": "markdown",
   "id": "68c85a1a-261b-4da7-b22c-acbad39ab2e8",
   "metadata": {},
   "source": [
    "#### Задача 3. \n",
    "\n",
    "Напишите декоратор-класс, который будет пытаться вызывать функцию повторно, если во время ее выполнения возникла какая-то ошибка (представим себе, что у нас есть функции API, которые иногда возвращают ошибку при сбое соединения: тогда нужно подождать и повторно их вызвать). "
   ]
  },
  {
   "cell_type": "code",
   "execution_count": null,
   "id": "9f948e76-c358-4bcb-a9c8-4f2495dc43fa",
   "metadata": {},
   "outputs": [],
   "source": [
    "# your code here"
   ]
  },
  {
   "cell_type": "markdown",
   "id": "ba14cf2f-22d1-4bab-9693-02246f533dc0",
   "metadata": {},
   "source": [
    "#### Задача 4. \n",
    "\n",
    "Допустим, у нас есть функция, которая возвращает сумму своих аргументов. Напишите декоратор, который будет позволять такой функции складывать попарно элементы в кортежах, которые передаются списком, то есть, список [(1, 2), (3, 4)] вернет [3, 7]."
   ]
  },
  {
   "cell_type": "code",
   "execution_count": null,
   "id": "ffbcbb55-1422-42b1-a736-cd80614f866c",
   "metadata": {},
   "outputs": [],
   "source": [
    "# your code here"
   ]
  }
 ],
 "metadata": {
  "kernelspec": {
   "display_name": "Python 3 (ipykernel)",
   "language": "python",
   "name": "python3"
  },
  "language_info": {
   "codemirror_mode": {
    "name": "ipython",
    "version": 3
   },
   "file_extension": ".py",
   "mimetype": "text/x-python",
   "name": "python",
   "nbconvert_exporter": "python",
   "pygments_lexer": "ipython3",
   "version": "3.9.12"
  }
 },
 "nbformat": 4,
 "nbformat_minor": 5
}
