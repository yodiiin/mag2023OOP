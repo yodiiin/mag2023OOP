{
 "cells": [
  {
   "cell_type": "markdown",
   "id": "d9d35ff7-cc85-40a6-9a1a-28abd2b53091",
   "metadata": {},
   "source": [
    "#### Задача 1. \n",
    "\n",
    "Перепишите класс с пациентом, у которого есть температура, с использованием декоратора. "
   ]
  },
  {
   "cell_type": "code",
   "execution_count": 47,
   "id": "74410e9a-5668-458b-815a-d30936373833",
   "metadata": {},
   "outputs": [],
   "source": [
    "class Patient:\n",
    "    def __init__(self, name):\n",
    "        self.__name = name\n",
    "        self.__diagnosis = ''\n",
    "        self.__temperature = 0\n",
    "\n",
    "    @property\n",
    "    def name(self):\n",
    "        return self.__name\n",
    "    \n",
    "    @name.setter\n",
    "    def name(self, value):\n",
    "        if isinstance(value, str):\n",
    "            self.__name = value\n",
    "\n",
    "    @property\n",
    "    def diagnosis(self):\n",
    "        return self.__diagnosis\n",
    "    \n",
    "    @diagnosis.setter\n",
    "    def diagnosis(self, value):\n",
    "        self.__diagnosis = value\n",
    "    \n",
    "    @property\n",
    "    def temperature(self):\n",
    "        return self.__temperature\n",
    "    \n",
    "    @temperature.setter\n",
    "    def temperature(self, value):\n",
    "        if not 30 <= value <= 42:\n",
    "            raise ValueError('Can\\'t set!')\n",
    "        self.__temperature = value"
   ]
  },
  {
   "cell_type": "code",
   "execution_count": 48,
   "id": "0c65ea01",
   "metadata": {},
   "outputs": [],
   "source": [
    "p = Patient('Vasya')"
   ]
  },
  {
   "cell_type": "code",
   "execution_count": 49,
   "id": "ce33ad0c",
   "metadata": {},
   "outputs": [
    {
     "data": {
      "text/plain": [
       "'flu'"
      ]
     },
     "execution_count": 49,
     "metadata": {},
     "output_type": "execute_result"
    }
   ],
   "source": [
    "p.diagnosis = 'flu'\n",
    "p.diagnosis"
   ]
  },
  {
   "cell_type": "code",
   "execution_count": 50,
   "id": "8dbe49b1",
   "metadata": {},
   "outputs": [
    {
     "data": {
      "text/plain": [
       "'Vasya'"
      ]
     },
     "execution_count": 50,
     "metadata": {},
     "output_type": "execute_result"
    }
   ],
   "source": [
    "p.name"
   ]
  },
  {
   "cell_type": "code",
   "execution_count": 51,
   "id": "ece63ae1",
   "metadata": {},
   "outputs": [
    {
     "data": {
      "text/plain": [
       "37.8"
      ]
     },
     "execution_count": 51,
     "metadata": {},
     "output_type": "execute_result"
    }
   ],
   "source": [
    "p.temperature = 37.8\n",
    "p.temperature"
   ]
  },
  {
   "cell_type": "code",
   "execution_count": 52,
   "id": "cae5a795",
   "metadata": {},
   "outputs": [
    {
     "ename": "ValueError",
     "evalue": "Can't set!",
     "output_type": "error",
     "traceback": [
      "\u001b[1;31m---------------------------------------------------------------------------\u001b[0m",
      "\u001b[1;31mValueError\u001b[0m                                Traceback (most recent call last)",
      "Cell \u001b[1;32mIn[52], line 1\u001b[0m\n\u001b[1;32m----> 1\u001b[0m \u001b[43mp\u001b[49m\u001b[38;5;241;43m.\u001b[39;49m\u001b[43mtemperature\u001b[49m \u001b[38;5;241m=\u001b[39m \u001b[38;5;241m46\u001b[39m\n",
      "Cell \u001b[1;32mIn[47], line 31\u001b[0m, in \u001b[0;36mPatient.temperature\u001b[1;34m(self, value)\u001b[0m\n\u001b[0;32m     28\u001b[0m \u001b[38;5;129m@temperature\u001b[39m\u001b[38;5;241m.\u001b[39msetter\n\u001b[0;32m     29\u001b[0m \u001b[38;5;28;01mdef\u001b[39;00m \u001b[38;5;21mtemperature\u001b[39m(\u001b[38;5;28mself\u001b[39m, value):\n\u001b[0;32m     30\u001b[0m     \u001b[38;5;28;01mif\u001b[39;00m \u001b[38;5;129;01mnot\u001b[39;00m \u001b[38;5;241m30\u001b[39m \u001b[38;5;241m<\u001b[39m\u001b[38;5;241m=\u001b[39m value \u001b[38;5;241m<\u001b[39m\u001b[38;5;241m=\u001b[39m \u001b[38;5;241m42\u001b[39m:\n\u001b[1;32m---> 31\u001b[0m         \u001b[38;5;28;01mraise\u001b[39;00m \u001b[38;5;167;01mValueError\u001b[39;00m(\u001b[38;5;124m'\u001b[39m\u001b[38;5;124mCan\u001b[39m\u001b[38;5;130;01m\\'\u001b[39;00m\u001b[38;5;124mt set!\u001b[39m\u001b[38;5;124m'\u001b[39m)\n\u001b[0;32m     32\u001b[0m     \u001b[38;5;28mself\u001b[39m\u001b[38;5;241m.\u001b[39m__temperature \u001b[38;5;241m=\u001b[39m value\n",
      "\u001b[1;31mValueError\u001b[0m: Can't set!"
     ]
    }
   ],
   "source": [
    "p.temperature = 46"
   ]
  },
  {
   "cell_type": "markdown",
   "id": "4c6c463d-6a03-40fa-9614-76b6b23f6a65",
   "metadata": {},
   "source": [
    "#### Задача 2. \n",
    "\n",
    "Напишите декоратор, который будет конвертировать результат выполнения функции в bool. "
   ]
  },
  {
   "cell_type": "code",
   "execution_count": 36,
   "id": "195d6863-af7e-44eb-a08e-fdc27f0a1a4f",
   "metadata": {},
   "outputs": [],
   "source": [
    "def bool_decorator(func):\n",
    "    def wrapper(*args, **kwargs):\n",
    "        res = func(*args, **kwargs)\n",
    "        return bool(res)\n",
    "    return wrapper"
   ]
  },
  {
   "cell_type": "code",
   "execution_count": 46,
   "id": "9fcaad96",
   "metadata": {},
   "outputs": [
    {
     "name": "stdout",
     "output_type": "stream",
     "text": [
      "True\n",
      "False\n",
      "True\n",
      "False\n"
     ]
    }
   ],
   "source": [
    "@bool_decorator\n",
    "def summ(x, y):\n",
    "    return x + y\n",
    "\n",
    "@bool_decorator\n",
    "def string_length(string):\n",
    "    return len(string)\n",
    "\n",
    "print(summ(5, 10))\n",
    "print(summ(-4, 4)) # 0\n",
    "print(string_length('I am a decorator'))\n",
    "print(string_length('')) # 0"
   ]
  },
  {
   "cell_type": "markdown",
   "id": "68c85a1a-261b-4da7-b22c-acbad39ab2e8",
   "metadata": {},
   "source": [
    "#### Задача 3. \n",
    "\n",
    "Напишите декоратор-класс, который будет пытаться вызывать функцию повторно, если во время ее выполнения возникла какая-то ошибка (представим себе, что у нас есть функции API, которые иногда возвращают ошибку при сбое соединения: тогда нужно подождать и повторно их вызвать). "
   ]
  },
  {
   "cell_type": "code",
   "execution_count": null,
   "id": "9f948e76-c358-4bcb-a9c8-4f2495dc43fa",
   "metadata": {},
   "outputs": [],
   "source": [
    "# your code here"
   ]
  },
  {
   "cell_type": "markdown",
   "id": "ba14cf2f-22d1-4bab-9693-02246f533dc0",
   "metadata": {},
   "source": [
    "#### Задача 4. \n",
    "\n",
    "Допустим, у нас есть функция, которая возвращает сумму своих аргументов. Напишите декоратор, который будет позволять такой функции складывать попарно элементы в кортежах, которые передаются списком, то есть, список [(1, 2), (3, 4)] вернет [3, 7]."
   ]
  },
  {
   "cell_type": "code",
   "execution_count": null,
   "id": "ffbcbb55-1422-42b1-a736-cd80614f866c",
   "metadata": {},
   "outputs": [],
   "source": []
  },
  {
   "cell_type": "code",
   "execution_count": 58,
   "id": "f9588b6f",
   "metadata": {},
   "outputs": [],
   "source": [
    "def pairwise_sum_dec(func):\n",
    "    def wrapper(pairs):\n",
    "        if not isinstance(pairs, list) or not all(isinstance(pair, tuple) and len(pair) == 2 for pair in pairs):\n",
    "            raise ValueError('В функцию нужно передать список с кортежами по 2 элемента.')\n",
    "        return [func(pair[0], pair[1]) for pair in pairs]\n",
    "    return wrapper"
   ]
  },
  {
   "cell_type": "code",
   "execution_count": 60,
   "id": "9232daf1",
   "metadata": {},
   "outputs": [
    {
     "name": "stdout",
     "output_type": "stream",
     "text": [
      "[3, 7]\n"
     ]
    }
   ],
   "source": [
    "@pairwise_sum_dec\n",
    "def summ(*args):\n",
    "    return sum(args)\n",
    "\n",
    "res = summ([(1, 2), (3, 4)])\n",
    "print(res)"
   ]
  }
 ],
 "metadata": {
  "kernelspec": {
   "display_name": "Python 3",
   "language": "python",
   "name": "python3"
  },
  "language_info": {
   "codemirror_mode": {
    "name": "ipython",
    "version": 3
   },
   "file_extension": ".py",
   "mimetype": "text/x-python",
   "name": "python",
   "nbconvert_exporter": "python",
   "pygments_lexer": "ipython3",
   "version": "3.12.4"
  }
 },
 "nbformat": 4,
 "nbformat_minor": 5
}
