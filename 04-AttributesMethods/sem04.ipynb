{
 "cells": [
  {
   "cell_type": "markdown",
   "id": "c019d62c-fc6f-49c6-90c8-08d935853b68",
   "metadata": {},
   "source": [
    "#### Задача 1. \n",
    "\n",
    "Напишем класс - имитацию класса Token в spacy: у класса должен быть определенный набор атрибутов, создавать новые нельзя. По умолчанию все атрибуты, кроме text, устанавливаются в None, у класса есть методы для установления этих атрибутов (обычные методы экземпляра). "
   ]
  },
  {
   "cell_type": "code",
   "execution_count": null,
   "id": "e3b0480d-8108-45c8-8a27-2a1a246bbca8",
   "metadata": {},
   "outputs": [],
   "source": [
    "# your code here"
   ]
  },
  {
   "cell_type": "markdown",
   "id": "e582d545-5b83-4d05-9b71-2a162d4ae920",
   "metadata": {
    "tags": []
   },
   "source": [
    "#### Задача 2. \n",
    "\n",
    "Добавим нашему токену функциональность: пусть при попытке обратиться к его атрибуту lemma, если таковой не существует, экземпляр класса автоматически вызывает лемматизатор (можно пользоваться pymorphy) и возвращает лемму. Если атрибут lemma уже есть, то достаточно вернуть его содержимое."
   ]
  },
  {
   "cell_type": "code",
   "execution_count": null,
   "id": "ce9c94ec-b46e-4ed9-ae24-57aadc42f3a3",
   "metadata": {},
   "outputs": [],
   "source": [
    "# your code here"
   ]
  },
  {
   "cell_type": "markdown",
   "id": "63c9bf48-1db1-4309-b1b9-93733f10e9a4",
   "metadata": {},
   "source": [
    "#### Задача 3. \n",
    "\n",
    "Перепишем задачу 2 с полноценным дескриптором Lemmatize."
   ]
  },
  {
   "cell_type": "code",
   "execution_count": null,
   "id": "dfb9dc5d-2a6b-4d84-a12d-5a461bd6ad13",
   "metadata": {},
   "outputs": [],
   "source": [
    "# your code here"
   ]
  },
  {
   "cell_type": "markdown",
   "id": "21203f86-cea8-4da0-8f0e-eac0abf0f5ec",
   "metadata": {},
   "source": [
    "#### Задача 4. \n",
    "\n",
    "Напишите класс \"пациент\", у которого есть устанавливаемые атрибуты \"диагноз\" и \"температура\". Атрибут \"температура\" должен устанавливаться таким образом, чтобы пользователь не мог установить нереалистичное значение типа 15, даже используя синтаксис Patient.temperature = 15. "
   ]
  },
  {
   "cell_type": "code",
   "execution_count": null,
   "id": "0dabfdab-fe9e-4f5e-b188-203792008ddf",
   "metadata": {},
   "outputs": [],
   "source": [
    "# your code here"
   ]
  },
  {
   "cell_type": "markdown",
   "id": "4491d252-8d9d-4e1c-9233-d4dc707864b1",
   "metadata": {},
   "source": [
    "#### Задача 5. \n",
    "\n",
    "Вернемся к нашему классу Token (первому) и добавим ему метод для подсчета количества созданных токенов. Реализуйте два варианта: через статические методы и методы класса. "
   ]
  },
  {
   "cell_type": "code",
   "execution_count": null,
   "id": "9f371e58-0ef6-4218-b229-3a07c9009abe",
   "metadata": {
    "tags": []
   },
   "outputs": [],
   "source": [
    "# your code here"
   ]
  }
 ],
 "metadata": {
  "kernelspec": {
   "display_name": "Python 3 (ipykernel)",
   "language": "python",
   "name": "python3"
  },
  "language_info": {
   "codemirror_mode": {
    "name": "ipython",
    "version": 3
   },
   "file_extension": ".py",
   "mimetype": "text/x-python",
   "name": "python",
   "nbconvert_exporter": "python",
   "pygments_lexer": "ipython3",
   "version": "3.11.5"
  }
 },
 "nbformat": 4,
 "nbformat_minor": 5
}
