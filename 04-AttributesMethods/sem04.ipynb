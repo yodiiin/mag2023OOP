{
 "cells": [
  {
   "cell_type": "markdown",
   "id": "c019d62c-fc6f-49c6-90c8-08d935853b68",
   "metadata": {},
   "source": [
    "#### Задача 1. \n",
    "\n",
    "Напишем класс - имитацию класса Token в spacy: у класса должен быть определенный набор атрибутов, создавать новые нельзя. По умолчанию все атрибуты, кроме text, устанавливаются в None, у класса есть методы для установления этих атрибутов (обычные методы экземпляра)."
   ]
  },
  {
   "cell_type": "code",
   "execution_count": 5,
   "id": "e3b0480d-8108-45c8-8a27-2a1a246bbca8",
   "metadata": {},
   "outputs": [],
   "source": [
    "class Token:\n",
    "    __slots__ = ('text', 'length', 'is_alpha', 'is_punct', 'is_digit')\n",
    "    def __init__(self, text, length=None, is_alpha=None, is_punct=None, is_digit=None):\n",
    "        self.text = text\n",
    "        self.set_length()\n",
    "        self.set_is_alpha()\n",
    "        self.set_is_punct()\n",
    "        self.set_is_digit()\n",
    "\n",
    "    def set_length(self):\n",
    "        self.length = len(self.text)\n",
    "\n",
    "    def set_is_alpha(self):\n",
    "        self.is_alpha = self.text.isalpha()\n",
    "    \n",
    "    def set_is_punct(self):\n",
    "        self.is_punct = all(char in '.,?!:\"' for char in self.text)\n",
    "    \n",
    "    def set_is_digit(self):\n",
    "        self.is_digit = self.text.isdigit()\n",
    "    \n",
    "    def __repr__(self):\n",
    "        return f\"Token(text={self.text}, length={self.length}, is_alpha={self.is_alpha}, is_punct={self.is_punct}, is_digit={self.is_digit})\\n\""
   ]
  },
  {
   "cell_type": "code",
   "execution_count": 7,
   "id": "73189640",
   "metadata": {},
   "outputs": [
    {
     "data": {
      "text/plain": [
       "Token(text=aisvnskavjd, length=11, is_alpha=True, is_punct=False, is_digit=False)"
      ]
     },
     "execution_count": 7,
     "metadata": {},
     "output_type": "execute_result"
    }
   ],
   "source": [
    "token = Token('aisvnskavjd')\n",
    "token"
   ]
  },
  {
   "cell_type": "code",
   "execution_count": 9,
   "id": "454c701f",
   "metadata": {},
   "outputs": [
    {
     "ename": "AttributeError",
     "evalue": "'Token' object has no attribute 'a'",
     "output_type": "error",
     "traceback": [
      "\u001b[1;31m---------------------------------------------------------------------------\u001b[0m",
      "\u001b[1;31mAttributeError\u001b[0m                            Traceback (most recent call last)",
      "Cell \u001b[1;32mIn[9], line 1\u001b[0m\n\u001b[1;32m----> 1\u001b[0m \u001b[43mtoken\u001b[49m\u001b[38;5;241;43m.\u001b[39;49m\u001b[43ma\u001b[49m \u001b[38;5;241m=\u001b[39m \u001b[38;5;241m3\u001b[39m\n",
      "\u001b[1;31mAttributeError\u001b[0m: 'Token' object has no attribute 'a'"
     ]
    }
   ],
   "source": [
    "token.a = 3"
   ]
  },
  {
   "cell_type": "markdown",
   "id": "e582d545-5b83-4d05-9b71-2a162d4ae920",
   "metadata": {
    "tags": []
   },
   "source": [
    "#### Задача 2. \n",
    "\n",
    "Добавим нашему токену функциональность: пусть при попытке обратиться к его атрибуту lemma, если таковой не существует, экземпляр класса автоматически вызывает лемматизатор (можно пользоваться pymorphy) и возвращает лемму. Если атрибут lemma уже есть, то достаточно вернуть его содержимое."
   ]
  },
  {
   "cell_type": "code",
   "execution_count": 25,
   "id": "ce9c94ec-b46e-4ed9-ae24-57aadc42f3a3",
   "metadata": {},
   "outputs": [],
   "source": [
    "import pymorphy3"
   ]
  },
  {
   "cell_type": "code",
   "execution_count": 36,
   "id": "fa48a769",
   "metadata": {},
   "outputs": [],
   "source": [
    "class Token:\n",
    "    __slots__ = ('text', 'length', 'is_alpha', 'is_punct', 'is_digit', '_lemma')\n",
    "    def __init__(self, text, length=None, is_alpha=None, is_punct=None, is_digit=None):\n",
    "        self.text = text\n",
    "        self.set_length()\n",
    "        self.set_is_alpha()\n",
    "        self.set_is_punct()\n",
    "        self.set_is_digit()\n",
    "        self._lemma = None\n",
    "\n",
    "    def set_length(self):\n",
    "        self.length = len(self.text)\n",
    "\n",
    "    def set_is_alpha(self):\n",
    "        self.is_alpha = self.text.isalpha()\n",
    "    \n",
    "    def set_is_punct(self):\n",
    "        self.is_punct = all(char in '.,?!:\"' for char in self.text)\n",
    "    \n",
    "    def set_is_digit(self):\n",
    "        self.is_digit = self.text.isdigit()\n",
    "    \n",
    "    # def __getattr__(self, attr):\n",
    "    #     if attr == 'lemma':\n",
    "    #         if self._lemma == None:\n",
    "    #             morph = pymorphy3.MorphAnalyzer()\n",
    "    #             self._lemma = morph.parse(self.text)[0].normal_form\n",
    "    #         return self._lemma\n",
    "    #     else:\n",
    "    #         raise AttributeError\n",
    "\n",
    "    def get_lemma(self):\n",
    "        if self._lemma is None:\n",
    "            morph = pymorphy3.MorphAnalyzer()\n",
    "            self._lemma = morph.parse(self.text)[0].normal_form\n",
    "        return self._lemma\n",
    "    \n",
    "    def set_lemma(self, attr):\n",
    "        self._lemma = attr\n",
    "\n",
    "    def __repr__(self):\n",
    "        return f\"Token(text={self.text}, length={self.length}, is_alpha={self.is_alpha}, is_punct={self.is_punct}, is_digit={self.is_digit})\\n\"\n",
    "    \n",
    "    lemma = "
   ]
  },
  {
   "cell_type": "code",
   "execution_count": 37,
   "id": "08ba8ec2",
   "metadata": {},
   "outputs": [
    {
     "data": {
      "text/plain": [
       "Token(text=плачу, length=5, is_alpha=True, is_punct=False, is_digit=False)"
      ]
     },
     "execution_count": 37,
     "metadata": {},
     "output_type": "execute_result"
    }
   ],
   "source": [
    "token = Token('плачу')\n",
    "token"
   ]
  },
  {
   "cell_type": "code",
   "execution_count": 38,
   "id": "ba2a3908",
   "metadata": {},
   "outputs": [
    {
     "data": {
      "text/plain": [
       "'плач'"
      ]
     },
     "execution_count": 38,
     "metadata": {},
     "output_type": "execute_result"
    }
   ],
   "source": [
    "token.lemma"
   ]
  },
  {
   "cell_type": "code",
   "execution_count": null,
   "id": "d63eaba4",
   "metadata": {},
   "outputs": [],
   "source": [
    "morph = pymorphy2.MorphAnalyzer()\n",
    "parsed = morph.parse(плачу)[0].normal_form"
   ]
  },
  {
   "cell_type": "code",
   "execution_count": 23,
   "id": "db057778",
   "metadata": {},
   "outputs": [
    {
     "ename": "AttributeError",
     "evalue": "module 'inspect' has no attribute 'getargspec'",
     "output_type": "error",
     "traceback": [
      "\u001b[1;31m---------------------------------------------------------------------------\u001b[0m",
      "\u001b[1;31mAttributeError\u001b[0m                            Traceback (most recent call last)",
      "Cell \u001b[1;32mIn[23], line 1\u001b[0m\n\u001b[1;32m----> 1\u001b[0m \u001b[43mtoken\u001b[49m\u001b[38;5;241;43m.\u001b[39;49m\u001b[43mlemma\u001b[49m\n",
      "Cell \u001b[1;32mIn[21], line 26\u001b[0m, in \u001b[0;36mToken.__getattr__\u001b[1;34m(self, attr)\u001b[0m\n\u001b[0;32m     24\u001b[0m \u001b[38;5;28;01mif\u001b[39;00m attr \u001b[38;5;241m==\u001b[39m \u001b[38;5;124m'\u001b[39m\u001b[38;5;124mlemma\u001b[39m\u001b[38;5;124m'\u001b[39m:\n\u001b[0;32m     25\u001b[0m     \u001b[38;5;28;01mif\u001b[39;00m \u001b[38;5;28mself\u001b[39m\u001b[38;5;241m.\u001b[39m_lemma \u001b[38;5;241m==\u001b[39m \u001b[38;5;28;01mNone\u001b[39;00m:\n\u001b[1;32m---> 26\u001b[0m         morph \u001b[38;5;241m=\u001b[39m \u001b[43mpymorphy2\u001b[49m\u001b[38;5;241;43m.\u001b[39;49m\u001b[43mMorphAnalyzer\u001b[49m\u001b[43m(\u001b[49m\u001b[43m)\u001b[49m\n\u001b[0;32m     27\u001b[0m         \u001b[38;5;28mself\u001b[39m\u001b[38;5;241m.\u001b[39m_lemma \u001b[38;5;241m=\u001b[39m morph\u001b[38;5;241m.\u001b[39mparse(\u001b[38;5;28mself\u001b[39m\u001b[38;5;241m.\u001b[39mtext)[\u001b[38;5;241m0\u001b[39m]\u001b[38;5;241m.\u001b[39mnormal_form\n\u001b[0;32m     28\u001b[0m     \u001b[38;5;28;01mreturn\u001b[39;00m \u001b[38;5;28mself\u001b[39m\u001b[38;5;241m.\u001b[39m_lemma\n",
      "File \u001b[1;32mc:\\Users\\PC\\AppData\\Local\\Programs\\Python\\Python312\\Lib\\site-packages\\pymorphy2\\analyzer.py:224\u001b[0m, in \u001b[0;36mMorphAnalyzer.__init__\u001b[1;34m(self, path, lang, result_type, units, probability_estimator_cls, char_substitutes)\u001b[0m\n\u001b[0;32m    222\u001b[0m \u001b[38;5;28mself\u001b[39m\u001b[38;5;241m.\u001b[39m_result_type_orig \u001b[38;5;241m=\u001b[39m result_type\n\u001b[0;32m    223\u001b[0m \u001b[38;5;28mself\u001b[39m\u001b[38;5;241m.\u001b[39m_init_char_substitutes(char_substitutes)\n\u001b[1;32m--> 224\u001b[0m \u001b[38;5;28;43mself\u001b[39;49m\u001b[38;5;241;43m.\u001b[39;49m\u001b[43m_init_units\u001b[49m\u001b[43m(\u001b[49m\u001b[43munits\u001b[49m\u001b[43m)\u001b[49m\n",
      "File \u001b[1;32mc:\\Users\\PC\\AppData\\Local\\Programs\\Python\\Python312\\Lib\\site-packages\\pymorphy2\\analyzer.py:235\u001b[0m, in \u001b[0;36mMorphAnalyzer._init_units\u001b[1;34m(self, units_unbound)\u001b[0m\n\u001b[0;32m    233\u001b[0m \u001b[38;5;28;01mif\u001b[39;00m \u001b[38;5;28misinstance\u001b[39m(item, (\u001b[38;5;28mlist\u001b[39m, \u001b[38;5;28mtuple\u001b[39m)):\n\u001b[0;32m    234\u001b[0m     \u001b[38;5;28;01mfor\u001b[39;00m unit \u001b[38;5;129;01min\u001b[39;00m item[:\u001b[38;5;241m-\u001b[39m\u001b[38;5;241m1\u001b[39m]:\n\u001b[1;32m--> 235\u001b[0m         \u001b[38;5;28mself\u001b[39m\u001b[38;5;241m.\u001b[39m_units\u001b[38;5;241m.\u001b[39mappend((\u001b[38;5;28;43mself\u001b[39;49m\u001b[38;5;241;43m.\u001b[39;49m\u001b[43m_bound_unit\u001b[49m\u001b[43m(\u001b[49m\u001b[43munit\u001b[49m\u001b[43m)\u001b[49m, \u001b[38;5;28;01mFalse\u001b[39;00m))\n\u001b[0;32m    236\u001b[0m     \u001b[38;5;28mself\u001b[39m\u001b[38;5;241m.\u001b[39m_units\u001b[38;5;241m.\u001b[39mappend((\u001b[38;5;28mself\u001b[39m\u001b[38;5;241m.\u001b[39m_bound_unit(item[\u001b[38;5;241m-\u001b[39m\u001b[38;5;241m1\u001b[39m]), \u001b[38;5;28;01mTrue\u001b[39;00m))\n\u001b[0;32m    237\u001b[0m \u001b[38;5;28;01melse\u001b[39;00m:\n",
      "File \u001b[1;32mc:\\Users\\PC\\AppData\\Local\\Programs\\Python\\Python312\\Lib\\site-packages\\pymorphy2\\analyzer.py:246\u001b[0m, in \u001b[0;36mMorphAnalyzer._bound_unit\u001b[1;34m(self, unit)\u001b[0m\n\u001b[0;32m    245\u001b[0m \u001b[38;5;28;01mdef\u001b[39;00m \u001b[38;5;21m_bound_unit\u001b[39m(\u001b[38;5;28mself\u001b[39m, unit):\n\u001b[1;32m--> 246\u001b[0m     unit \u001b[38;5;241m=\u001b[39m \u001b[43munit\u001b[49m\u001b[38;5;241;43m.\u001b[39;49m\u001b[43mclone\u001b[49m\u001b[43m(\u001b[49m\u001b[43m)\u001b[49m\n\u001b[0;32m    247\u001b[0m     unit\u001b[38;5;241m.\u001b[39minit(\u001b[38;5;28mself\u001b[39m)\n\u001b[0;32m    248\u001b[0m     \u001b[38;5;28;01mreturn\u001b[39;00m unit\n",
      "File \u001b[1;32mc:\\Users\\PC\\AppData\\Local\\Programs\\Python\\Python312\\Lib\\site-packages\\pymorphy2\\units\\base.py:35\u001b[0m, in \u001b[0;36mBaseAnalyzerUnit.clone\u001b[1;34m(self)\u001b[0m\n\u001b[0;32m     34\u001b[0m \u001b[38;5;28;01mdef\u001b[39;00m \u001b[38;5;21mclone\u001b[39m(\u001b[38;5;28mself\u001b[39m):\n\u001b[1;32m---> 35\u001b[0m     \u001b[38;5;28;01mreturn\u001b[39;00m \u001b[38;5;28mself\u001b[39m\u001b[38;5;241m.\u001b[39m\u001b[38;5;18m__class__\u001b[39m(\u001b[38;5;241m*\u001b[39m\u001b[38;5;241m*\u001b[39m\u001b[38;5;28;43mself\u001b[39;49m\u001b[38;5;241;43m.\u001b[39;49m\u001b[43m_get_params\u001b[49m\u001b[43m(\u001b[49m\u001b[43m)\u001b[49m)\n",
      "File \u001b[1;32mc:\\Users\\PC\\AppData\\Local\\Programs\\Python\\Python312\\Lib\\site-packages\\pymorphy2\\units\\base.py:76\u001b[0m, in \u001b[0;36mBaseAnalyzerUnit._get_params\u001b[1;34m(self)\u001b[0m\n\u001b[0;32m     73\u001b[0m \u001b[38;5;28;01mdef\u001b[39;00m \u001b[38;5;21m_get_params\u001b[39m(\u001b[38;5;28mself\u001b[39m):\n\u001b[0;32m     74\u001b[0m \u001b[38;5;250m    \u001b[39m\u001b[38;5;124;03m\"\"\" Return a dict with the parameters for this analyzer unit. \"\"\"\u001b[39;00m\n\u001b[0;32m     75\u001b[0m     \u001b[38;5;28;01mreturn\u001b[39;00m \u001b[38;5;28mdict\u001b[39m(\n\u001b[1;32m---> 76\u001b[0m         (key, \u001b[38;5;28mgetattr\u001b[39m(\u001b[38;5;28mself\u001b[39m, key, \u001b[38;5;28;01mNone\u001b[39;00m)) \u001b[38;5;28;01mfor\u001b[39;00m key \u001b[38;5;129;01min\u001b[39;00m \u001b[38;5;28;43mself\u001b[39;49m\u001b[38;5;241;43m.\u001b[39;49m\u001b[43m_get_param_names\u001b[49m\u001b[43m(\u001b[49m\u001b[43m)\u001b[49m\n\u001b[0;32m     77\u001b[0m     )\n",
      "File \u001b[1;32mc:\\Users\\PC\\AppData\\Local\\Programs\\Python\\Python312\\Lib\\site-packages\\pymorphy2\\units\\base.py:70\u001b[0m, in \u001b[0;36mBaseAnalyzerUnit._get_param_names\u001b[1;34m(cls)\u001b[0m\n\u001b[0;32m     68\u001b[0m \u001b[38;5;28;01mif\u001b[39;00m \u001b[38;5;28mcls\u001b[39m\u001b[38;5;241m.\u001b[39m\u001b[38;5;21m__init__\u001b[39m \u001b[38;5;129;01mis\u001b[39;00m \u001b[38;5;28mobject\u001b[39m\u001b[38;5;241m.\u001b[39m\u001b[38;5;21m__init__\u001b[39m:\n\u001b[0;32m     69\u001b[0m     \u001b[38;5;28;01mreturn\u001b[39;00m []\n\u001b[1;32m---> 70\u001b[0m args, varargs, kw, default \u001b[38;5;241m=\u001b[39m \u001b[43minspect\u001b[49m\u001b[38;5;241;43m.\u001b[39;49m\u001b[43mgetargspec\u001b[49m(\u001b[38;5;28mcls\u001b[39m\u001b[38;5;241m.\u001b[39m\u001b[38;5;21m__init__\u001b[39m)\n\u001b[0;32m     71\u001b[0m \u001b[38;5;28;01mreturn\u001b[39;00m \u001b[38;5;28msorted\u001b[39m(args[\u001b[38;5;241m1\u001b[39m:])\n",
      "\u001b[1;31mAttributeError\u001b[0m: module 'inspect' has no attribute 'getargspec'"
     ]
    }
   ],
   "source": [
    "token.lemma"
   ]
  },
  {
   "cell_type": "markdown",
   "id": "63c9bf48-1db1-4309-b1b9-93733f10e9a4",
   "metadata": {},
   "source": [
    "#### Задача 3. \n",
    "\n",
    "Перепишем задачу 2 с полноценным дескриптором Lemmatize."
   ]
  },
  {
   "cell_type": "code",
   "execution_count": null,
   "id": "dfb9dc5d-2a6b-4d84-a12d-5a461bd6ad13",
   "metadata": {},
   "outputs": [],
   "source": [
    "# your code here"
   ]
  },
  {
   "cell_type": "markdown",
   "id": "21203f86-cea8-4da0-8f0e-eac0abf0f5ec",
   "metadata": {},
   "source": [
    "#### Задача 4. \n",
    "\n",
    "Напишите класс \"пациент\", у которого есть устанавливаемые атрибуты \"диагноз\" и \"температура\". Атрибут \"температура\" должен устанавливаться таким образом, чтобы пользователь не мог установить нереалистичное значение типа 15, даже используя синтаксис Patient.temperature = 15. "
   ]
  },
  {
   "cell_type": "code",
   "execution_count": null,
   "id": "0dabfdab-fe9e-4f5e-b188-203792008ddf",
   "metadata": {},
   "outputs": [],
   "source": [
    "# your code here"
   ]
  },
  {
   "cell_type": "markdown",
   "id": "4491d252-8d9d-4e1c-9233-d4dc707864b1",
   "metadata": {},
   "source": [
    "#### Задача 5. \n",
    "\n",
    "Вернемся к нашему классу Token (первому) и добавим ему метод для подсчета количества созданных токенов. Реализуйте два варианта: через статические методы и методы класса. "
   ]
  },
  {
   "cell_type": "code",
   "execution_count": null,
   "id": "9f371e58-0ef6-4218-b229-3a07c9009abe",
   "metadata": {
    "tags": []
   },
   "outputs": [],
   "source": [
    "# your code here"
   ]
  }
 ],
 "metadata": {
  "kernelspec": {
   "display_name": "Python 3 (ipykernel)",
   "language": "python",
   "name": "python3"
  },
  "language_info": {
   "codemirror_mode": {
    "name": "ipython",
    "version": 3
   },
   "file_extension": ".py",
   "mimetype": "text/x-python",
   "name": "python",
   "nbconvert_exporter": "python",
   "pygments_lexer": "ipython3",
   "version": "3.12.4"
  }
 },
 "nbformat": 4,
 "nbformat_minor": 5
}
