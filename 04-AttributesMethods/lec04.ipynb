{
 "cells": [
  {
   "cell_type": "markdown",
   "id": "8c1c45e1-3464-498b-9689-f32a061801e3",
   "metadata": {},
   "source": [
    "## Механизмы инкапсуляции. Статические методы и методы классов. "
   ]
  },
  {
   "cell_type": "markdown",
   "id": "8a98d979-8572-4ee4-9ac5-5fde54ff4a40",
   "metadata": {},
   "source": [
    "Инкапсуляция в ООП - это сокрытие внутреннего устройства класса от внешних пользователей для того, чтобы взаимодействовать с экземплярами класса можно было только через интерфейс (методы). В питоне готовых инструментов для инкапсуляции, в отличие от объектно-ориентированных языков типа Java, нет, но есть средства их реализации. \n",
    "\n",
    "Прежде чем разбираться с тем, как это делается, давайте уясним себе, когда может пригодиться инкапсуляция. Наши с вами классы пока довольно простые, но в реальной жизни класс может быть устроен сложным образом, и у него могут быть какие-то внутренние переменные и методы, которые вызываются в нем самом для обеспечения его работы и не должны вызываться извне сами по себе, чтобы ничего не поломалось. Условно говоря, если у нас есть автомобиль, его водитель, если только он не инженер-автомеханик, не должен иметь возможности вручную заставлять двигаться форсунки или чего-нибудь в этом роде, у водителя должен быть руль, газ, тормоз и коробка передач. Если неопытный водитель полезет копаться в моторе, он рискует все поломать. \n",
    "\n",
    "Также специальные средства работы с атрибутами классов позволяют, например, проверять их значения на корректность, прежде чем присваивать, выполнять логгирование (вести логи) и т.п. "
   ]
  },
  {
   "cell_type": "markdown",
   "id": "d53f67ea-27bf-4f15-b52a-1389d4e371d4",
   "metadata": {},
   "source": [
    "Скрывать атрибуты в питоне можно несколькими разными способами, часть которых мы уже рассмотрели. \n",
    "\n",
    "1. Использование псевдозакрытых атрибутов \\_\\_: к этим атрибутам можно обращаться извне, но сам факт наличия подчеркивания как бы намекает, что этого лучше не делать. \n",
    "2. Перегрузка методов \\_\\_getattr\\_\\_ & \\_\\_setattr\\_\\_.\n",
    "\n",
    "Также можно использовать слоты. Что это такое? "
   ]
  },
  {
   "cell_type": "markdown",
   "id": "6d6c4406-7f89-4840-8be3-b47361d41eb1",
   "metadata": {},
   "source": [
    "Обычно атрибуты у класса хранятся в специальном внутреннем словарике \\_\\_dict\\_\\_: такой словарик есть как у самого класса (статические атрибуты), так и у его экземпляров (динамические атрибуты). Словарь - он и в Африке словарь, мы можем в него в любой момент добавить новый атрибут, присвоив ему значение, а можем перезаписать имеющиеся (или удалить). Словарь в памяти хранится таким образом, чтобы можно было его расширять, у него нет фиксированного объема памяти. \n",
    "\n",
    "Атрибут \\_\\_slots\\_\\_ - это альтернатива словарю, если мы его объявляем, то словаря у нашего класса уже не будет. Он обычно объявляется на верхнем уровне определения класса, и в нем в виде списка или кортежа перечисляются атрибуты, которые нашему классу иметь дозволено:"
   ]
  },
  {
   "cell_type": "code",
   "execution_count": null,
   "id": "b393471d-5aca-43a3-ac70-9140901c1f14",
   "metadata": {},
   "outputs": [],
   "source": [
    "class Slots:\n",
    "    __slots__ = ('a', 'b')\n",
    "    def __init__(self, a, b):\n",
    "        self.a = a\n",
    "        self.b = b"
   ]
  },
  {
   "cell_type": "markdown",
   "id": "9b5a942b-6032-423b-8a97-2317ac13b3ea",
   "metadata": {},
   "source": [
    "Экземпляру такого класса нельзя будет создать новый атрибут, как бы мы ни хотели, а еще они гораздо быстрее работают, потому что у слотов заранее ограниченная (и известная) память. Мы с вами это тестили на занятии:"
   ]
  },
  {
   "cell_type": "code",
   "execution_count": 35,
   "id": "a37b6dd7-13fb-4204-aefb-254b82f7ec2b",
   "metadata": {},
   "outputs": [],
   "source": [
    "class Slots:\n",
    "    __slots__ = ('a',)\n",
    "    \n",
    "class NoSlots:\n",
    "    pass\n",
    "\n",
    "def get_set_delete(obj):\n",
    "    obj.a = 1\n",
    "    obj.a\n",
    "    del obj.a"
   ]
  },
  {
   "cell_type": "code",
   "execution_count": 36,
   "id": "c221b692-fd52-47a3-b161-3d7f56ddf886",
   "metadata": {},
   "outputs": [],
   "source": [
    "s = Slots()\n",
    "ns = NoSlots()"
   ]
  },
  {
   "cell_type": "code",
   "execution_count": 37,
   "id": "eef6b85b-c162-421f-81c2-a5c0437190c1",
   "metadata": {},
   "outputs": [
    {
     "name": "stdout",
     "output_type": "stream",
     "text": [
      "89.8 ns ± 0.0728 ns per loop (mean ± std. dev. of 7 runs, 10,000,000 loops each)\n"
     ]
    }
   ],
   "source": [
    "%timeit get_set_delete(s)"
   ]
  },
  {
   "cell_type": "code",
   "execution_count": 38,
   "id": "eb4de834-f55a-4abf-b5c0-cc8414562230",
   "metadata": {},
   "outputs": [
    {
     "name": "stdout",
     "output_type": "stream",
     "text": [
      "101 ns ± 1.21 ns per loop (mean ± std. dev. of 7 runs, 10,000,000 loops each)\n"
     ]
    }
   ],
   "source": [
    "%timeit get_set_delete(ns)"
   ]
  },
  {
   "cell_type": "markdown",
   "id": "830bafc1-41c9-4028-bf68-fb137c88b4b6",
   "metadata": {},
   "source": [
    "Проблемы возникают при наследовании от таких классов. Если мы наследуемся от класса со слотами, то его дочерний класс все равно может получить словарь \\_\\_dict\\_\\_, и тогда весь смысл использования слотов пойдет насмарку. Следовательно, в дочернем классе тоже нужно обязательно прописывать слоты, тогда они сложатся со слотами родительского класса. \n",
    "\n",
    "А вот если мы хотим наследоваться сразу от двух классов со слотами, то не выйдет: "
   ]
  },
  {
   "cell_type": "code",
   "execution_count": 2,
   "id": "2b357fa6-41d6-4e5b-9c98-c65e2177ca26",
   "metadata": {},
   "outputs": [
    {
     "ename": "TypeError",
     "evalue": "multiple bases have instance lay-out conflict",
     "output_type": "error",
     "traceback": [
      "\u001b[0;31m---------------------------------------------------------------------------\u001b[0m",
      "\u001b[0;31mTypeError\u001b[0m                                 Traceback (most recent call last)",
      "Input \u001b[0;32mIn [2]\u001b[0m, in \u001b[0;36m<cell line: 7>\u001b[0;34m()\u001b[0m\n\u001b[1;32m      4\u001b[0m \u001b[38;5;28;01mclass\u001b[39;00m \u001b[38;5;21;01mBaseTwo\u001b[39;00m:\n\u001b[1;32m      5\u001b[0m     \u001b[38;5;18m__slots__\u001b[39m \u001b[38;5;241m=\u001b[39m (\u001b[38;5;124m'\u001b[39m\u001b[38;5;124mparam2\u001b[39m\u001b[38;5;124m'\u001b[39m,)\n\u001b[0;32m----> 7\u001b[0m \u001b[38;5;28;01mclass\u001b[39;00m \u001b[38;5;21;01mChild\u001b[39;00m(BaseOne, BaseTwo):\n\u001b[1;32m      8\u001b[0m     \u001b[38;5;18m__slots__\u001b[39m \u001b[38;5;241m=\u001b[39m ()\n",
      "\u001b[0;31mTypeError\u001b[0m: multiple bases have instance lay-out conflict"
     ]
    }
   ],
   "source": [
    "class BaseOne:\n",
    "    __slots__ = ('param',)\n",
    "    \n",
    "class BaseTwo:\n",
    "    __slots__ = ('param2',)\n",
    "\n",
    "class Child(BaseOne, BaseTwo):\n",
    "    __slots__ = ()"
   ]
  },
  {
   "cell_type": "markdown",
   "id": "8592ad0f-1b44-4235-8cac-65088e51fd4c",
   "metadata": {},
   "source": [
    "Обойти этот конфликт можно с помощью использования абстрактных классов. \n",
    "\n",
    "Основная мораль такова:\n",
    "\n",
    "- Без переменной словаря dict экземплярам нельзя назначить атрибуты, не указанные в определении slots. Так можно ограничить создание левых атрибутов. \n",
    "- Атрибуты slots, объявленные в родительских классах, доступны в дочерних классах. Однако дочерние классы получат dict, если они не переопределяют slots. \n",
    "- Если класс определяет слот, также определенный в базовом классе, переменная экземпляра, определенная слотом базового класса, недоступна. Это приводит к неоднозначному поведению программы (не указывайте одинаковые атрибуты в классе-родителе и классе-ребенке). \n",
    "- Атрибуту slots может быть назначен любой нестроковый итерируемый объект. Могут использоваться словари, а значениям, соответствующим каждому ключу, может быть присвоено особое значение. \n",
    "- Множественное наследование от классов, которые оба имеют слоты, невозможно без абстрактных классов. \n",
    "- Слоты в подклассах бессмысленны, если их нет в суперклассе\n",
    "- И наоборот. \n",
    "- Слоты реализуют атрибуты экземпляров, которые физически не хранятся в словарях пространств имен экземпляров и основаны на понятии дескрипторов атрибутов уровня класса. \n",
    "- Слоты работают быстрее словарей!"
   ]
  },
  {
   "cell_type": "markdown",
   "id": "d8a52529-ee40-4418-b2d7-0c6e2fc77f3e",
   "metadata": {},
   "source": [
    "Далее рассмотрим переопределение нескольких магических методов:\n",
    "\n",
    "    __setattr__ & __getattr__\n",
    "    __setattribute & __getattribute__\n",
    "    __set__, __get__, __delete__\n",
    "  "
   ]
  },
  {
   "cell_type": "markdown",
   "id": "8698b4e7-5ec9-4204-9d71-6b39d13b49b4",
   "metadata": {},
   "source": [
    "#### Свойства (properties)"
   ]
  },
  {
   "cell_type": "markdown",
   "id": "8c2dfcb6-826d-4717-8b58-a4bb1a6d048b",
   "metadata": {},
   "source": [
    "Мы с вами пользовались для делегирования переопределением методов \\_\\_setattr\\_\\_ & \\_\\_getattr\\_\\_. Эти методы вызываются только тогда, когда мы обращаемся к атрибуту экземпляра, которого у него нет. Например:"
   ]
  },
  {
   "cell_type": "code",
   "execution_count": 3,
   "id": "c5d22f09-4991-4ff3-8b78-3a5ad455bdd2",
   "metadata": {},
   "outputs": [],
   "source": [
    "class A:\n",
    "    def __init__(self, a):\n",
    "        self.a = a\n",
    "    def __getattr__(self, attr):\n",
    "        print('getattr')"
   ]
  },
  {
   "cell_type": "code",
   "execution_count": 4,
   "id": "20c4aedb-d84a-4ab5-97e0-c3d0977c3f57",
   "metadata": {},
   "outputs": [
    {
     "data": {
      "text/plain": [
       "1"
      ]
     },
     "execution_count": 4,
     "metadata": {},
     "output_type": "execute_result"
    }
   ],
   "source": [
    "a = A(1)\n",
    "a.a # обращаемся к атрибуту, который есть"
   ]
  },
  {
   "cell_type": "code",
   "execution_count": 5,
   "id": "be6d7cb1-7f9e-408b-a232-f8a2ad0407bc",
   "metadata": {},
   "outputs": [
    {
     "name": "stdout",
     "output_type": "stream",
     "text": [
      "getattr\n"
     ]
    }
   ],
   "source": [
    "a.b  # обращаемся к атрибуту, которого нет"
   ]
  },
  {
   "cell_type": "markdown",
   "id": "c17c7db1-2a95-4e14-be85-2b47770bb186",
   "metadata": {},
   "source": [
    "Нужно быть осторожнее с этими методами, потому что если их неаккуратно переопределить, можно уйти в бесконечный цикл: если мы напишем в getattr getattr(self, attr), уйдем в рекурсию, можете проверить. \n",
    "\n",
    "Еще осторожнее нужно быть с методами \\_\\_getattribute\\_\\_ & \\_\\_setattribute\\_\\_, которые делают то же самое, но для всех атрибутов вообще, существуют они или нет. "
   ]
  },
  {
   "cell_type": "markdown",
   "id": "49db6351-c543-4368-90f8-38b74a3ca98f",
   "metadata": {},
   "source": [
    "Если же нам нужно переопределить способ обращения к какому-то атрибуту класса (например, добавить проверку при присваивании), можно воспользоваться встроенной функцией property, которая обеспечивает интерфейс для атрибутов экземпляра класса. Сам метод принимает четыре аргумента:\n",
    "\n",
    "    property(get, set, del, doc)\n",
    "    \n",
    "Как правило, если вы используете этот метод, вы точно захотите передать ему get, а дальше по убыванию: doc передается реже всего. Ни один из них по сути не обязательный, но get, наверное, хотелось бы передавать. \n",
    "\n",
    "Как это все реализуется:"
   ]
  },
  {
   "cell_type": "code",
   "execution_count": 71,
   "id": "54ca96b3-f7c8-44c7-b570-987ab9545c0e",
   "metadata": {},
   "outputs": [],
   "source": [
    "class Person:\n",
    "    def __init__(self):\n",
    "        self.__name = ''\n",
    "        \n",
    "    def getname(self):\n",
    "        print('getting name')\n",
    "        return self.__name\n",
    "        \n",
    "    def setname(self, name):\n",
    "        if name.isalpha():\n",
    "            self.__name = name\n",
    "    \n",
    "    def delname(self):\n",
    "        print('deleting name')\n",
    "        del self.__name\n",
    "    name = property(getname, setname, delname)  # property(get, set, del, doc)"
   ]
  },
  {
   "cell_type": "code",
   "execution_count": 72,
   "id": "79f2de29-076b-425b-a838-c0300f693053",
   "metadata": {},
   "outputs": [],
   "source": [
    "p = Person()"
   ]
  },
  {
   "cell_type": "code",
   "execution_count": 73,
   "id": "46992ff5-d7bc-42e1-98fe-5d6fb518746b",
   "metadata": {},
   "outputs": [],
   "source": [
    "p.name = 'Vasya'"
   ]
  },
  {
   "cell_type": "code",
   "execution_count": 74,
   "id": "ede6230d-7f5e-46d8-bf9b-bf4e8db35089",
   "metadata": {},
   "outputs": [
    {
     "name": "stdout",
     "output_type": "stream",
     "text": [
      "getting name\n"
     ]
    },
    {
     "data": {
      "text/plain": [
       "'Vasya'"
      ]
     },
     "execution_count": 74,
     "metadata": {},
     "output_type": "execute_result"
    }
   ],
   "source": [
    "p.name"
   ]
  },
  {
   "cell_type": "markdown",
   "id": "3c3855b5-5964-4502-a3c1-29278c564c17",
   "metadata": {},
   "source": [
    "В каком порядке я определяю функции getname, setname & delname (а также как я их называю - можно называть их как угодно), неважно: важно только, в каком порядке я их передаю в метод property. \n",
    "\n",
    "Переменная name находится на верхнем уровне определения класса, на одном уровне с определениями методов. Но при этом сам атрибут name (точнее говоря, \\_\\_name) будет принадлежать конкретному экземпляру. Мы самому классу приписали свойство, которое теперь будет взаимодействовать со всеми его экземплярами, устанавливая им внутренний атрибут \\_\\_name. Это надо четко себе уяснить: name - не атрибут экземпляра. Это атрибут класса, который хранит в себе *дескриптор*. А дескриптор - это объект, который управляет внутренним атрибутом \\_\\_name. \n",
    "\n",
    "Да:  property - это разновидность дескриптора вообще. Давайте посмотрим про дескрипторы. "
   ]
  },
  {
   "cell_type": "markdown",
   "id": "8e9c9035-d792-498c-b086-debbd085e811",
   "metadata": {},
   "source": [
    "#### Дескрипторы. Введение"
   ]
  },
  {
   "cell_type": "markdown",
   "id": "9be7f752-93b1-4f28-a779-826be7a05c63",
   "metadata": {},
   "source": [
    "Дескриптор - это такой объект питона, который имплементирует метод протокола дескриптора. Что такое протокол дескриптора? (descriptor protocol) Это то, каким образом питон работает с атрибутами объектов (классов или экземпляров). Мы с атрибутами что можем делать:\n",
    "\n",
    "- Запрашивать их значение (\\_\\_get\\_\\_)\n",
    "- Устанавливать их значение (\\_\\_set\\_\\_)\n",
    "- Удалять их (\\_\\_delete\\_\\_)\n",
    "- и устанавливать им имя и объект-хозяина (\\_\\_set\\_name\\_\\_)\n",
    "\n",
    "Все эти вещи и переопределяет дескриптор, чтобы можно было их делать каким-нибудь особенным образом. Дескрипторы бывают двух видов: data & non-data. Первый переопределяет метод \\_\\_set\\_\\_, а второй нет. \n",
    "\n",
    "Итак, как это все выглядит:"
   ]
  },
  {
   "cell_type": "code",
   "execution_count": 114,
   "id": "2e9ea188-c47a-4506-bf7c-d97479014643",
   "metadata": {},
   "outputs": [],
   "source": [
    "class Temperature:\n",
    "    \"\"\"descriptor\"\"\"\n",
    "    def __get__(self, person, type=None):\n",
    "        if hasattr(person, 'temp'):\n",
    "            return person.temp\n",
    "        raise AttributeError\n",
    "    \n",
    "    def __set__(self, person, value):\n",
    "        if 30 <= value <= 42:\n",
    "            person.temp = value\n",
    "        else:\n",
    "            print('Can\\'t set!')\n",
    "\n",
    "class Person:\n",
    "    temperature = Temperature()"
   ]
  },
  {
   "cell_type": "code",
   "execution_count": 115,
   "id": "6e5263eb-54d6-49d1-abbc-be1822bcca94",
   "metadata": {},
   "outputs": [],
   "source": [
    "vasya = Person()"
   ]
  },
  {
   "cell_type": "code",
   "execution_count": 116,
   "id": "c064d023-0d6e-4bdd-a8e8-f22094c78af9",
   "metadata": {},
   "outputs": [
    {
     "name": "stdout",
     "output_type": "stream",
     "text": [
      "Can't set!\n"
     ]
    }
   ],
   "source": [
    "vasya.temperature = 43"
   ]
  },
  {
   "cell_type": "code",
   "execution_count": 117,
   "id": "97c53a84-f3a8-441f-b7a1-072170a80d19",
   "metadata": {},
   "outputs": [],
   "source": [
    "vasya.temperature = 36"
   ]
  },
  {
   "cell_type": "markdown",
   "id": "160c85e2-2c6f-4fe0-8368-ea75d9e468dd",
   "metadata": {},
   "source": [
    "Дескриптор - это **отдельный класс**. Это и имеется в виду, когда мы говорим \"объект\". Когда мы определяем класс Person, у него заводим его статический атрибут, в который помещаем конкретный экземпляр класса \"дескриптор\". Теперь, когда мы будем писать vasya.temperature, мы на самом деле обращаемся к дескриптору, а не к атрибуту с целочисленным значением! А дескриптор уже вызывает нужные методы. То есть, что происходит, если совсем подробно:\n",
    "\n",
    "    vasya = Person()  \n",
    "    # у васи, как у экземпляра класса, образуется атрибут Temperature(), \n",
    "    то есть, создается конкретный объект-дескриптор. Никаких динамических атрибутов у васи нет!\n",
    "    \n",
    "    vasya.temperature \n",
    "    # мы обращаемся к дескриптору! У него в этот момент неявным образом вызывается метод __get__, который принимает что? \n",
    "    Сам экземпляр дескриптора (self), объект person = vasya, type, он же owner - это класс (мы можем его не передавать). \n",
    "    \n",
    "    vasya.temperature = 36\n",
    "    # мы опять обращаемся к дескриптору, но оператор присваивания заставляет вызваться метод __set__, который принимает опять\n",
    "    сам экземпляр дескриптора, объект vasya и значение 36. Именно поэтому пишем person.temp = value: мы записываем значение уже в реальный динамический атрибут. \n",
    "    \n",
    "    del vasya.temperature \n",
    "    # должен был бы вызвать метод __delete__, но мы его не определили. "
   ]
  },
  {
   "cell_type": "markdown",
   "id": "7dbd7f6e-5ffe-49ba-9a02-b5bd90de61c2",
   "metadata": {},
   "source": [
    "Дескрипторы, как и более простой их вариант property, обычно используются с синтаксисом декораторов (скоро посмотрим). Нужны они все для того же самого: для проверок, логов и всяческого разнообразного контроля над атрибутами, а еще чтоб жизнь малиной не казалась. :)"
   ]
  },
  {
   "cell_type": "markdown",
   "id": "070aa9bc-b3f9-4323-8b6f-28fa31aa5500",
   "metadata": {},
   "source": [
    "#### Статические методы и методы класса"
   ]
  },
  {
   "cell_type": "markdown",
   "id": "accc3848-7aa9-4379-a3dc-f216cba55bce",
   "metadata": {},
   "source": [
    "Статические методы не принимают экземпляр класса: собственно говоря, эти методы могли бы существовать как отдельные функции, но часто их удобно запихивать в класс, чтобы а) не импортировать из модуля кучу имен б) лучшая структура программы в) переопределять их при наследовании!\n",
    "\n",
    "Методы класса вместо экземпляра принимают сам класс. \n",
    "\n",
    "Допустим, у нас есть класс \"Пицца\", у которого хотим сделать метод, чтобы вычислять тупо площадь пиццы по ее диаметру: при этом начинка пиццы, которая нам важна для других методов, здесь не играет роли. Можно это сделать отдельной функцией:"
   ]
  },
  {
   "cell_type": "code",
   "execution_count": 10,
   "id": "30763817-2617-4ac6-b0af-5188d2d3ff6b",
   "metadata": {},
   "outputs": [],
   "source": [
    "import math\n",
    "\n",
    "def pizza_area(d):\n",
    "    return math.pi * (d / 2) ** 2\n",
    "\n",
    "class Pizza:\n",
    "    def __init__(self, *ingrs):\n",
    "        self.ingredients = ingrs\n",
    "    \n",
    "    def price(self):\n",
    "        return len(self.ingredients)  # это, конечно, глупость, но мне лень писать адекватно :)"
   ]
  },
  {
   "cell_type": "markdown",
   "id": "a9c75602-7a78-40f8-b953-21a395926462",
   "metadata": {},
   "source": [
    "В таком варианте, если мы захотим импортировать класс \"Пицца\" в другой скрипт, придется импортировать и функцию вместе с ним. Хочется включить метод в класс:"
   ]
  },
  {
   "cell_type": "code",
   "execution_count": 11,
   "id": "ac34f345-e4d2-4be2-bf4c-27aca8a8dbf8",
   "metadata": {},
   "outputs": [],
   "source": [
    "class Pizza:\n",
    "    def __init__(self, *ingrs):\n",
    "        self.ingredients = ingrs\n",
    "    \n",
    "    def price(self):\n",
    "        return len(self.ingredients)  \n",
    "    \n",
    "    def pizza_area(d):\n",
    "        return math.pi * (d / 2) ** 2"
   ]
  },
  {
   "cell_type": "markdown",
   "id": "46a29e2a-27c2-4e99-a19e-d0a6fda84d9e",
   "metadata": {},
   "source": [
    "Такой код не будет работать:"
   ]
  },
  {
   "cell_type": "code",
   "execution_count": 8,
   "id": "6c971204-e6cb-45f6-9c8a-cea5588ccac3",
   "metadata": {},
   "outputs": [
    {
     "ename": "TypeError",
     "evalue": "pizza_area() takes 1 positional argument but 2 were given",
     "output_type": "error",
     "traceback": [
      "\u001b[0;31m---------------------------------------------------------------------------\u001b[0m",
      "\u001b[0;31mTypeError\u001b[0m                                 Traceback (most recent call last)",
      "Input \u001b[0;32mIn [8]\u001b[0m, in \u001b[0;36m<cell line: 2>\u001b[0;34m()\u001b[0m\n\u001b[1;32m      1\u001b[0m pizza \u001b[38;5;241m=\u001b[39m Pizza(\u001b[38;5;124m'\u001b[39m\u001b[38;5;124mcheese\u001b[39m\u001b[38;5;124m'\u001b[39m, \u001b[38;5;124m'\u001b[39m\u001b[38;5;124msausage\u001b[39m\u001b[38;5;124m'\u001b[39m, \u001b[38;5;124m'\u001b[39m\u001b[38;5;124molives\u001b[39m\u001b[38;5;124m'\u001b[39m)\n\u001b[0;32m----> 2\u001b[0m \u001b[43mpizza\u001b[49m\u001b[38;5;241;43m.\u001b[39;49m\u001b[43mpizza_area\u001b[49m\u001b[43m(\u001b[49m\u001b[38;5;241;43m30\u001b[39;49m\u001b[43m)\u001b[49m\n",
      "\u001b[0;31mTypeError\u001b[0m: pizza_area() takes 1 positional argument but 2 were given"
     ]
    }
   ],
   "source": [
    "pizza = Pizza('cheese', 'sausage', 'olives')\n",
    "pizza.pizza_area(30)"
   ]
  },
  {
   "cell_type": "markdown",
   "id": "de7de866-14d0-4352-8a17-55e68a23d52d",
   "metadata": {},
   "source": [
    "Будет работать такой:"
   ]
  },
  {
   "cell_type": "code",
   "execution_count": 12,
   "id": "cb61056d-511d-4859-abb9-68995c5e5cc0",
   "metadata": {},
   "outputs": [
    {
     "data": {
      "text/plain": [
       "706.8583470577034"
      ]
     },
     "execution_count": 12,
     "metadata": {},
     "output_type": "execute_result"
    }
   ],
   "source": [
    "Pizza.pizza_area(30)"
   ]
  },
  {
   "cell_type": "markdown",
   "id": "4d8cbdd6-2d58-436e-be16-d1e75a19b809",
   "metadata": {},
   "source": [
    "Но, кстати говоря, во 2 питоне и такой не сработает (сейчас никто не пользуется 2 питоном, но мало ли...)\n",
    "\n",
    "Тут-то и можно использовать статические методы:"
   ]
  },
  {
   "cell_type": "code",
   "execution_count": 13,
   "id": "be0d1170-70d5-45b0-b40f-a94891290162",
   "metadata": {},
   "outputs": [],
   "source": [
    "class Pizza:\n",
    "    def __init__(self, *ingrs):\n",
    "        self.ingredients = ingrs\n",
    "    \n",
    "    def price(self):\n",
    "        return len(self.ingredients)  \n",
    "    \n",
    "    def pizza_area(d):\n",
    "        return math.pi * (d / 2) ** 2\n",
    "    pizza_area = staticmethod(pizza_area)"
   ]
  },
  {
   "cell_type": "code",
   "execution_count": 14,
   "id": "91623262-a118-4cba-aeee-50b20356355c",
   "metadata": {},
   "outputs": [
    {
     "data": {
      "text/plain": [
       "706.8583470577034"
      ]
     },
     "execution_count": 14,
     "metadata": {},
     "output_type": "execute_result"
    }
   ],
   "source": [
    "pizza = Pizza('cheese', 'sausage', 'olives')\n",
    "pizza.pizza_area(30)"
   ]
  },
  {
   "cell_type": "markdown",
   "id": "a2d82324-c16f-4ff9-bdc7-59ab590726f2",
   "metadata": {},
   "source": [
    "Ура, все заработало и так. Теперь мы можем как хотим обращаться к нашему статическому методу, и возможно, с точки зрения логики будет правильно обращаться к нему все равно от экземпляра. \n",
    "\n",
    "Метод класса работает примерно так же, только еще принимает аргумент - ссылочку на сам класс. Можно устроить этакое:"
   ]
  },
  {
   "cell_type": "code",
   "execution_count": 15,
   "id": "2597ab7b-0f7a-4a26-8335-42ab548157b5",
   "metadata": {},
   "outputs": [],
   "source": [
    "class Pizza:\n",
    "    def __init__(self, *ingrs):\n",
    "        self.ingredients = ingrs\n",
    "    \n",
    "    def price(self):\n",
    "        return len(self.ingredients)  \n",
    "    \n",
    "    def pizza_area(cls, d):\n",
    "        return f'{cls.__name__}: {math.pi * (d / 2) ** 2}'\n",
    "    pizza_area = classmethod(pizza_area)"
   ]
  },
  {
   "cell_type": "code",
   "execution_count": 16,
   "id": "0ad1b9b2-5650-4180-90a5-4d3089768196",
   "metadata": {},
   "outputs": [
    {
     "data": {
      "text/plain": [
       "'Pizza: 706.8583470577034'"
      ]
     },
     "execution_count": 16,
     "metadata": {},
     "output_type": "execute_result"
    }
   ],
   "source": [
    "pizza = Pizza('cheese', 'sausage', 'olives')\n",
    "pizza.pizza_area(30)"
   ]
  },
  {
   "cell_type": "markdown",
   "id": "1adce1a7-299d-42ab-a35b-f8bfe1540a71",
   "metadata": {},
   "source": [
    "Про super() и подробнее про дескрипторы еще поговорим на следующем занятии. "
   ]
  }
 ],
 "metadata": {
  "kernelspec": {
   "display_name": "Python 3 (ipykernel)",
   "language": "python",
   "name": "python3"
  },
  "language_info": {
   "codemirror_mode": {
    "name": "ipython",
    "version": 3
   },
   "file_extension": ".py",
   "mimetype": "text/x-python",
   "name": "python",
   "nbconvert_exporter": "python",
   "pygments_lexer": "ipython3",
   "version": "3.9.18"
  }
 },
 "nbformat": 4,
 "nbformat_minor": 5
}
