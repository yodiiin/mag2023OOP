{
  "cells": [
    {
      "cell_type": "code",
      "execution_count": 1,
      "metadata": {
        "id": "QNm30rOY6yoA"
      },
      "outputs": [],
      "source": [
        "from random import randint"
      ]
    },
    {
      "cell_type": "code",
      "execution_count": 2,
      "metadata": {
        "id": "UWF48TAv74IC"
      },
      "outputs": [],
      "source": [
        "class Homework:\n",
        "  def __init__(self, name):\n",
        "    self.name = name\n",
        "    self.quality = randint(0, 5)"
      ]
    },
    {
      "cell_type": "code",
      "execution_count": 21,
      "metadata": {
        "id": "DnOmBoP80S7o"
      },
      "outputs": [],
      "source": [
        "# конструктор класса\n",
        "class Student:\n",
        "  university = 'RSUH' # class attributes - static\n",
        "\n",
        "  # instance atributes - dynamic\n",
        "  # магический метод, конструктор\n",
        "  def __init__(self, name, surname, age, group):\n",
        "    self.name = name\n",
        "    self.surname = surname\n",
        "    self.age = age\n",
        "    self.group = group\n",
        "    self.homeworks = []\n",
        "    self.grade = 0\n",
        "    self.lazy = randint(0, 5)\n",
        "\n",
        "  # неявно вызывается тогда, когда экземпляр превращаем в строку + когда его принтим\n",
        "  def __str__(self):\n",
        "    return f'Студент {self.name}, группа {self.group}'\n",
        "\n",
        "  # отображает экземпляр класса в таком виде, в каком мы бы задавали этот экземпляр\n",
        "  def __repr__(self):\n",
        "    return f\"Student('{self.name}', '{self.surname}', {self.age}, '{self.group}')\"\n",
        "\n",
        "  # методы экземпляра класса\n",
        "  def turn_in_hw(self, hw):\n",
        "    quality = randint(0, 5)\n",
        "    if hw.quality == 5:\n",
        "      print(f'{self.name} благополучно сдал {hw.name}!')\n",
        "    elif hw.quality == 4:\n",
        "      print(f'{self.name} относительно благополучно сдал {hw.name}')\n",
        "    else:\n",
        "      print(f'{self.name} не благополучно сдал {hw.name}')\n",
        "      self.grade += hw.quality\n",
        "      self.homeworks.append(hw)\n",
        "\n",
        "  def do_homework(self, student):\n",
        "    self.quality = 5 - student.lazy"
      ]
    },
    {
      "cell_type": "code",
      "execution_count": 22,
      "metadata": {
        "id": "b8z7y5Ui0uYJ"
      },
      "outputs": [],
      "source": [
        "vasya = Student('Вася', 'Пупкин', 19, 'ФиПЛ-2022') # str() int() bool()\n",
        "petya = Student('Петя', 'Козлов', 20, 'ФиПЛ-2021')"
      ]
    },
    {
      "cell_type": "code",
      "execution_count": 23,
      "metadata": {
        "colab": {
          "base_uri": "https://localhost:8080/"
        },
        "id": "aoSiiy893W58",
        "outputId": "9d51e7f3-d2d5-443d-d235-22d2fcee648b"
      },
      "outputs": [
        {
          "output_type": "execute_result",
          "data": {
            "text/plain": [
              "('Вася', 'Петя')"
            ]
          },
          "metadata": {},
          "execution_count": 23
        }
      ],
      "source": [
        "vasya.name, petya.name"
      ]
    },
    {
      "cell_type": "code",
      "execution_count": 24,
      "metadata": {
        "colab": {
          "base_uri": "https://localhost:8080/"
        },
        "id": "KHuDuAcp3b1u",
        "outputId": "8bed622f-e06b-4397-e1cc-d9e83c693a1b"
      },
      "outputs": [
        {
          "output_type": "execute_result",
          "data": {
            "text/plain": [
              "(19, [])"
            ]
          },
          "metadata": {},
          "execution_count": 24
        }
      ],
      "source": [
        "vasya.age, petya.homeworks"
      ]
    },
    {
      "cell_type": "code",
      "execution_count": 25,
      "metadata": {
        "colab": {
          "base_uri": "https://localhost:8080/"
        },
        "id": "X2gY1-tf71H5",
        "outputId": "ec2c884a-3927-457a-e5ba-ea258bbe4556"
      },
      "outputs": [
        {
          "output_type": "execute_result",
          "data": {
            "text/plain": [
              "0"
            ]
          },
          "metadata": {},
          "execution_count": 25
        }
      ],
      "source": [
        "vasya.lazy"
      ]
    },
    {
      "cell_type": "code",
      "execution_count": 26,
      "metadata": {
        "colab": {
          "base_uri": "https://localhost:8080/"
        },
        "id": "c9yqSEMz06VS",
        "outputId": "1a931a24-6111-43f0-fb69-76c651316e97"
      },
      "outputs": [
        {
          "output_type": "execute_result",
          "data": {
            "text/plain": [
              "['hw01']"
            ]
          },
          "metadata": {},
          "execution_count": 26
        }
      ],
      "source": [
        "vasya.homeworks.append('hw01')\n",
        "vasya.homeworks"
      ]
    },
    {
      "cell_type": "code",
      "execution_count": 27,
      "metadata": {
        "colab": {
          "base_uri": "https://localhost:8080/"
        },
        "id": "WmDlBM1E9Z0z",
        "outputId": "dd72aaed-7075-4810-af60-8c3698967537"
      },
      "outputs": [
        {
          "output_type": "stream",
          "name": "stdout",
          "text": [
            "Вася не благополучно сдал Strings\n"
          ]
        }
      ],
      "source": [
        "hw01 = Homework('Strings')\n",
        "vasya.turn_in_hw(hw01)"
      ]
    },
    {
      "cell_type": "code",
      "source": [
        "vasya.homeworks"
      ],
      "metadata": {
        "colab": {
          "base_uri": "https://localhost:8080/"
        },
        "id": "H8FNSHNZaJDE",
        "outputId": "cdd1bb78-7962-43db-b753-05354f149c39"
      },
      "execution_count": 28,
      "outputs": [
        {
          "output_type": "execute_result",
          "data": {
            "text/plain": [
              "['hw01', <__main__.Homework at 0x7b51b752aec0>]"
            ]
          },
          "metadata": {},
          "execution_count": 28
        }
      ]
    },
    {
      "cell_type": "code",
      "execution_count": 29,
      "metadata": {
        "colab": {
          "base_uri": "https://localhost:8080/"
        },
        "id": "UmTJjZx51Ez3",
        "outputId": "117e9a68-fb90-488f-c96f-a065c8327c7b"
      },
      "outputs": [
        {
          "output_type": "execute_result",
          "data": {
            "text/plain": [
              "[Student('Вася', 'Пупкин', 19, 'ФиПЛ-2022'),\n",
              " Student('Петя', 'Козлов', 20, 'ФиПЛ-2021')]"
            ]
          },
          "metadata": {},
          "execution_count": 29
        }
      ],
      "source": [
        "[vasya, petya] # __repr__"
      ]
    },
    {
      "cell_type": "code",
      "source": [
        "vasya"
      ],
      "metadata": {
        "colab": {
          "base_uri": "https://localhost:8080/"
        },
        "id": "4whmoLHFx7kI",
        "outputId": "9b1844e7-b834-42d8-fc8c-7b21edb45777"
      },
      "execution_count": 30,
      "outputs": [
        {
          "output_type": "execute_result",
          "data": {
            "text/plain": [
              "Student('Вася', 'Пупкин', 19, 'ФиПЛ-2022')"
            ]
          },
          "metadata": {},
          "execution_count": 30
        }
      ]
    },
    {
      "cell_type": "code",
      "execution_count": 31,
      "metadata": {
        "colab": {
          "base_uri": "https://localhost:8080/"
        },
        "id": "wT_MIFa001pE",
        "outputId": "4cf9431f-bbee-404c-8a27-63e22fa4dec9"
      },
      "outputs": [
        {
          "output_type": "stream",
          "name": "stdout",
          "text": [
            "Студент Вася, группа ФиПЛ-2022\n"
          ]
        }
      ],
      "source": [
        "print(vasya) # __str__ str()"
      ]
    },
    {
      "cell_type": "code",
      "execution_count": null,
      "metadata": {
        "id": "3qJb0qy84j_F"
      },
      "outputs": [],
      "source": [
        "# методы\n",
        "\n",
        "# magic (dunder) -- instance methods\n",
        "# class methods\n",
        "# static methods"
      ]
    },
    {
      "cell_type": "markdown",
      "source": [
        "#### Приватные методы и **инкапсуляция**:"
      ],
      "metadata": {
        "id": "x4miDIht3cXX"
      }
    },
    {
      "cell_type": "code",
      "execution_count": 32,
      "metadata": {
        "id": "Mb_NvJtH1OYO"
      },
      "outputs": [],
      "source": [
        "class Student:\n",
        "  university = 'RSUH'\n",
        "\n",
        "  def __init__(self, name, surname, age, group):\n",
        "    self._name = name         # private attribute\n",
        "    self._surname = surname   # private attribute\n",
        "    self.age = age\n",
        "    self.group = group\n",
        "\n",
        "  def get_name(self): # get_sth(), set_sth() — интерфейсы\n",
        "    return self._name\n",
        "\n",
        "  def set_name(self, new_name):\n",
        "    self._name = new_name\n",
        "\n",
        "  def get_surname(self):\n",
        "    return self._surname\n",
        "\n",
        "  def set_surname(self, new_surname):\n",
        "    self._surname = new_surname\n",
        "\n",
        "  def __str__(self):\n",
        "    return f'Студент {self.get_name()}, группа {self.group}'\n",
        "\n",
        "  def __repr__(self):\n",
        "    return f\"Student('{self.get_name()}', '{self.get_surname()}', {self.age}, '{self.group}')\""
      ]
    },
    {
      "cell_type": "code",
      "source": [
        "student1 = Student(\"Вася\", \"Пупкин\", 21, \"ФиПЛ-2021\")"
      ],
      "metadata": {
        "id": "98RVl55z17Ex"
      },
      "execution_count": 33,
      "outputs": []
    },
    {
      "cell_type": "code",
      "source": [
        "student1"
      ],
      "metadata": {
        "colab": {
          "base_uri": "https://localhost:8080/"
        },
        "id": "8xs6w5Go2WvT",
        "outputId": "bd3f6191-dcae-4f64-9cd0-550a5b3a0fb4"
      },
      "execution_count": 34,
      "outputs": [
        {
          "output_type": "execute_result",
          "data": {
            "text/plain": [
              "Student('Вася', 'Пупкин', 21, 'ФиПЛ-2021')"
            ]
          },
          "metadata": {},
          "execution_count": 34
        }
      ]
    },
    {
      "cell_type": "code",
      "source": [
        "student1.get_surname()"
      ],
      "metadata": {
        "colab": {
          "base_uri": "https://localhost:8080/",
          "height": 35
        },
        "id": "9P7ZdVlq2iLZ",
        "outputId": "5edeef33-6c74-4786-8e0a-37dd4006e902"
      },
      "execution_count": 35,
      "outputs": [
        {
          "output_type": "execute_result",
          "data": {
            "text/plain": [
              "'Пупкин'"
            ],
            "application/vnd.google.colaboratory.intrinsic+json": {
              "type": "string"
            }
          },
          "metadata": {},
          "execution_count": 35
        }
      ]
    },
    {
      "cell_type": "code",
      "source": [
        "student1.set_name('Петя')\n",
        "student1"
      ],
      "metadata": {
        "colab": {
          "base_uri": "https://localhost:8080/"
        },
        "id": "d59VWkO_3Ipc",
        "outputId": "e08f4680-b509-4a17-e34a-53ce905dda9c"
      },
      "execution_count": 36,
      "outputs": [
        {
          "output_type": "execute_result",
          "data": {
            "text/plain": [
              "Student('Петя', 'Пупкин', 21, 'ФиПЛ-2021')"
            ]
          },
          "metadata": {},
          "execution_count": 36
        }
      ]
    },
    {
      "cell_type": "markdown",
      "source": [
        "#### Наследование"
      ],
      "metadata": {
        "id": "-VB_llck4Jp7"
      }
    },
    {
      "cell_type": "code",
      "source": [
        "class Speaker:\n",
        "  brand = \"Beatpill\"\n",
        "\n",
        "  def __init__(self, color, model):\n",
        "    self._color = color\n",
        "    self._model = model\n",
        "\n",
        "  def __str__(self):\n",
        "    return f'Speaker: {self._model}, color: {self._color}'\n",
        "\n",
        "  def __repr__(self):\n",
        "    return f\"Speaker('{self._color}', '{self._model}')\"\n",
        "\n",
        "  def power_on(self):\n",
        "    print(f\"Powering on {self._color} {self._model} speaker.\")\n",
        "\n",
        "  def power_off(self):\n",
        "    print(f\"Powering off {self._color} {self._model} speaker.\")"
      ],
      "metadata": {
        "id": "rntmYN3I4OCz"
      },
      "execution_count": 38,
      "outputs": []
    },
    {
      "cell_type": "code",
      "source": [
        "speaker_one = Speaker(\"black\", \"85XB5\")\n",
        "speaker_two = Speaker(\"red\", \"Y8F33\")"
      ],
      "metadata": {
        "id": "BVg20NGH4OIa"
      },
      "execution_count": 39,
      "outputs": []
    },
    {
      "cell_type": "code",
      "source": [
        "print(speaker_one)\n",
        "print(speaker_two)"
      ],
      "metadata": {
        "colab": {
          "base_uri": "https://localhost:8080/"
        },
        "id": "Wbwonte84ONx",
        "outputId": "0989ad49-bbc9-428a-83a1-85494a83ddd4"
      },
      "execution_count": 40,
      "outputs": [
        {
          "output_type": "stream",
          "name": "stdout",
          "text": [
            "Speaker: 85XB5, color: black\n",
            "Speaker: Y8F33, color: red\n"
          ]
        }
      ]
    },
    {
      "cell_type": "code",
      "source": [
        "# adding a SmartSpeaker class and making it inherit from the Speaker class\n",
        "class SmartSpeaker(Speaker):\n",
        "  def __init__(self, color, model, voice_assistant):\n",
        "    super().__init__(color, model)\n",
        "    self.voice_assistant = voice_assistant\n",
        "\n",
        "  def say_hello(self):\n",
        "    print(f'Hello! I am {self.voice_assistant}!')"
      ],
      "metadata": {
        "id": "m2U5MlBA5HRO"
      },
      "execution_count": 41,
      "outputs": []
    },
    {
      "cell_type": "code",
      "source": [
        "smart_speaker = SmartSpeaker('white', 'XYZ123', 'Alexa')"
      ],
      "metadata": {
        "id": "T2yq5wWs5Hc3"
      },
      "execution_count": 42,
      "outputs": []
    },
    {
      "cell_type": "code",
      "source": [
        "smart_speaker.power_on()"
      ],
      "metadata": {
        "colab": {
          "base_uri": "https://localhost:8080/"
        },
        "id": "lzP7EJMR4OVP",
        "outputId": "cb8b2b9c-c6b2-4961-b5d2-3e393bdbfda5"
      },
      "execution_count": 43,
      "outputs": [
        {
          "output_type": "stream",
          "name": "stdout",
          "text": [
            "Powering on white XYZ123 speaker.\n"
          ]
        }
      ]
    },
    {
      "cell_type": "code",
      "source": [
        "smart_speaker.say_hello()"
      ],
      "metadata": {
        "id": "vTsX8twG64R3",
        "outputId": "b13bd85e-4829-49b5-cce5-f9026e563abd",
        "colab": {
          "base_uri": "https://localhost:8080/"
        }
      },
      "execution_count": 44,
      "outputs": [
        {
          "output_type": "stream",
          "name": "stdout",
          "text": [
            "Hello! I am Alexa!\n"
          ]
        }
      ]
    },
    {
      "cell_type": "markdown",
      "metadata": {
        "id": "CQ7TBIY0Iesv"
      },
      "source": [
        "### Задача 1"
      ]
    },
    {
      "cell_type": "markdown",
      "metadata": {
        "id": "xnPj7MrFIhl4"
      },
      "source": [
        "Реализуйте для класса Human метод __bool__, который будет проверять нашего человека на совершеннолетие."
      ]
    },
    {
      "cell_type": "code",
      "execution_count": 45,
      "metadata": {
        "id": "dvLosmSiIeCZ"
      },
      "outputs": [],
      "source": [
        "class Human:\n",
        "  def __init__(self, name, surname, age):\n",
        "      self.name = name\n",
        "      self.surname = surname\n",
        "      self.age = age\n",
        "\n",
        "  def __str__(self):\n",
        "      return f'{self.name} {self.surname}, {self.age}'\n",
        "\n",
        "  def __repr__(self):\n",
        "      return f\"Human('{self.name}', '{self.surname}', {self.age})\"\n",
        "\n",
        "  def __bool__(self):\n",
        "    if self.age < 18:\n",
        "      return f'{self.name} несовершеннолетний(яя)'\n",
        "    return f'{self.name} совершеннолетний(яя)'"
      ]
    },
    {
      "cell_type": "code",
      "execution_count": 46,
      "metadata": {
        "id": "Zcu_egFXJiLz"
      },
      "outputs": [],
      "source": [
        "vasya = Human('Вася', 'Пупкин', 20)\n",
        "petya = Human('Петя', 'Иванов', 17)"
      ]
    },
    {
      "cell_type": "code",
      "execution_count": 47,
      "metadata": {
        "colab": {
          "base_uri": "https://localhost:8080/",
          "height": 35
        },
        "id": "0_sIWHj2J5MH",
        "outputId": "01602a25-3338-4b91-e97c-5969db042f77"
      },
      "outputs": [
        {
          "output_type": "execute_result",
          "data": {
            "text/plain": [
              "'Вася совершеннолетний(яя)'"
            ],
            "application/vnd.google.colaboratory.intrinsic+json": {
              "type": "string"
            }
          },
          "metadata": {},
          "execution_count": 47
        }
      ],
      "source": [
        "vasya.__bool__()"
      ]
    },
    {
      "cell_type": "markdown",
      "metadata": {
        "id": "vLDgqp35M42q"
      },
      "source": [
        "### Зачада 2"
      ]
    },
    {
      "cell_type": "markdown",
      "metadata": {
        "id": "uecum940M7GH"
      },
      "source": [
        "Напишите класс Linguist, у которого при создании будут повляться четыре динамических атрибута: имя, аффилиация, показатель выносливости (stamina) и список публикаций (по умолчанию пустой)."
      ]
    },
    {
      "cell_type": "code",
      "execution_count": 48,
      "metadata": {
        "id": "vGfjJv8bNAry"
      },
      "outputs": [],
      "source": [
        "from time import sleep # sleep(n) - программа будет ждать n секунд"
      ]
    },
    {
      "cell_type": "code",
      "execution_count": null,
      "metadata": {
        "id": "jIEdhRQOR470"
      },
      "outputs": [],
      "source": [
        "#from random import randint"
      ]
    },
    {
      "cell_type": "code",
      "execution_count": 69,
      "metadata": {
        "id": "OyVhjI5zKH44"
      },
      "outputs": [],
      "source": [
        "class Linguist:\n",
        "    def __init__(self, name, affiliation, stamina):\n",
        "      self.name = name\n",
        "      self.affiliation = affiliation\n",
        "      self.stamina = stamina\n",
        "      self.publication = []\n",
        "\n",
        "    def __str__(self):\n",
        "        return f'{self.name}, {self.affiliation}, {self.stamina}, {self.publication}'\n",
        "\n",
        "    def __repr__(self):\n",
        "        return f\"Student('{self.name}', '{self.affiliation}', {self.stamina}, {self.publication})\"\n",
        "\n",
        "    def work(self, publication):\n",
        "        '''\n",
        "        Лингвист работает над публикацией n времени (можете придумать, как вычислять его на основе названия публикации).\n",
        "        За это время он устает в k*n раз (вычитаем это из его выносливости, только следите, чтобы усталость отрицательной не сделалась).\n",
        "        '''\n",
        "        n = len(publication)\n",
        "        self.publication.append(publication)\n",
        "        if self.stamina - (n * 0.5) < 0:\n",
        "          return\n",
        "        self.stamina -= (n * 0.5)\n",
        "\n",
        "    def sleep(self, hours):\n",
        "        '''Лингвист спит n часов, восстанавливая k*n выносливости'''\n",
        "        if self.stamina + (hours * 1.5) > 100:\n",
        "          return\n",
        "        self.stamina += (hours * 1.5)\n",
        "\n",
        "    def show_publications(self):\n",
        "        '''Лингвист сообщает, какие у него появились публикации'''\n",
        "        print('Список публикаций лингвиста:', ', '.join(self.publication))"
      ]
    },
    {
      "cell_type": "code",
      "execution_count": 70,
      "metadata": {
        "id": "iLnKOKp7XIJ5"
      },
      "outputs": [],
      "source": [
        "petya = Linguist('Петя', 'RSUH', 100)"
      ]
    },
    {
      "cell_type": "code",
      "execution_count": 71,
      "metadata": {
        "colab": {
          "base_uri": "https://localhost:8080/"
        },
        "id": "kXJqXJCd1a87",
        "outputId": "1b3a8032-2236-4cc1-a003-56fe8709a1b3"
      },
      "outputs": [
        {
          "output_type": "execute_result",
          "data": {
            "text/plain": [
              "86.5"
            ]
          },
          "metadata": {},
          "execution_count": 71
        }
      ],
      "source": [
        "petya.work('Морфосинтаксические парсеры')\n",
        "petya.stamina"
      ]
    },
    {
      "cell_type": "code",
      "execution_count": 72,
      "metadata": {
        "colab": {
          "base_uri": "https://localhost:8080/"
        },
        "id": "yk2b4Ed97Fq8",
        "outputId": "f11931af-b02d-46e8-f994-2d990b4ba547"
      },
      "outputs": [
        {
          "output_type": "execute_result",
          "data": {
            "text/plain": [
              "94.0"
            ]
          },
          "metadata": {},
          "execution_count": 72
        }
      ],
      "source": [
        "petya.sleep(5)\n",
        "petya.stamina"
      ]
    },
    {
      "cell_type": "code",
      "execution_count": 73,
      "metadata": {
        "colab": {
          "base_uri": "https://localhost:8080/"
        },
        "id": "EPsGiAJU7tpi",
        "outputId": "ab9da857-f09f-435d-f9c7-3b1a86830fab"
      },
      "outputs": [
        {
          "output_type": "stream",
          "name": "stdout",
          "text": [
            "Список публикаций лингвиста: Морфосинтаксические парсеры\n"
          ]
        }
      ],
      "source": [
        "petya.show_publications()"
      ]
    },
    {
      "cell_type": "code",
      "execution_count": 54,
      "metadata": {
        "colab": {
          "base_uri": "https://localhost:8080/"
        },
        "id": "8uY3dPpH8B7I",
        "outputId": "31cb896f-711f-4be3-e234-71d365df037a"
      },
      "outputs": [
        {
          "output_type": "stream",
          "name": "stdout",
          "text": [
            "['Морфосинтаксические парсеры']\n"
          ]
        }
      ],
      "source": [
        "print(petya.publication)"
      ]
    },
    {
      "cell_type": "code",
      "execution_count": 74,
      "metadata": {
        "id": "B9Ya_BOA8JIj",
        "colab": {
          "base_uri": "https://localhost:8080/"
        },
        "outputId": "1163a8ff-ac40-4a13-cd79-012a8bcacd7c"
      },
      "outputs": [
        {
          "output_type": "execute_result",
          "data": {
            "text/plain": [
              "75.0"
            ]
          },
          "metadata": {},
          "execution_count": 74
        }
      ],
      "source": [
        "petya.work('Типология сложносочиненных предложений')\n",
        "petya.stamina"
      ]
    },
    {
      "cell_type": "code",
      "source": [
        "petya.sleep(6)\n",
        "petya.stamina"
      ],
      "metadata": {
        "colab": {
          "base_uri": "https://localhost:8080/"
        },
        "id": "VwOWZZbxbhyd",
        "outputId": "d7ce852c-80d8-446b-8dd5-cbb7a3624b10"
      },
      "execution_count": 75,
      "outputs": [
        {
          "output_type": "execute_result",
          "data": {
            "text/plain": [
              "84.0"
            ]
          },
          "metadata": {},
          "execution_count": 75
        }
      ]
    },
    {
      "cell_type": "code",
      "source": [
        "petya.show_publications()"
      ],
      "metadata": {
        "colab": {
          "base_uri": "https://localhost:8080/"
        },
        "id": "Jo8WDGFvblh2",
        "outputId": "ef139dac-7399-4195-c7d2-6ac2a16eba2f"
      },
      "execution_count": 76,
      "outputs": [
        {
          "output_type": "stream",
          "name": "stdout",
          "text": [
            "Список публикаций лингвиста: Морфосинтаксические парсеры, Типология сложносочиненных предложений\n"
          ]
        }
      ]
    },
    {
      "cell_type": "markdown",
      "metadata": {
        "id": "-DvYttUq9NQi"
      },
      "source": [
        "### Зачада 3"
      ]
    },
    {
      "cell_type": "markdown",
      "metadata": {
        "id": "1DSoxiX-9NQj"
      },
      "source": [
        "Доработаем задачу 2: добавьте класс \"публикация\", чтобы у публикации была еще некоторая информация о ее объеме (и, соответственно, чтобы можно было вычислять количество времени, которое на нее нужно потратить). А у лингвиста теперь должен появиться показатель \"наработал в экспедициях\", который будет пополняться в специальном методе go_to_expedition(), и если его значение будет недостаточным для выбранной публикации, нужно об этом предупреждать и публикацию не добавлять."
      ]
    },
    {
      "cell_type": "code",
      "execution_count": 99,
      "metadata": {
        "id": "OaZS0epJ9RII"
      },
      "outputs": [],
      "source": [
        "class Linguist:\n",
        "    def __init__(self, name, affiliation, stamina):\n",
        "      self.name = name\n",
        "      self.affiliation = affiliation\n",
        "      self.stamina = stamina\n",
        "      self.publications = []\n",
        "      self.expedition = 0 # добавили новый показатель - работа в экспедиции\n",
        "\n",
        "    def __str__(self):\n",
        "        return f'{self.name}, {self.affiliation}, {self.stamina}, {self.publications}'\n",
        "\n",
        "    def __repr__(self):\n",
        "        return f\"Student('{self.name}', '{self.affiliation}', {self.stamina}, {self.publications})\"\n",
        "\n",
        "    def work(self, publication):\n",
        "        if publication.data > self.expedition:\n",
        "          return f'Недостаточно материала для работы над этой публикацией :('\n",
        "        n = publication.volume / 2\n",
        "        self.publications.append(publication.name)\n",
        "        if self.stamina - (n * 0.5) < 0:\n",
        "          return\n",
        "        self.stamina -= (n * 0.5)\n",
        "        print('Работа с материалом успешно проведена!')\n",
        "\n",
        "    def sleep(self, hours):\n",
        "        self.stamina += (hours * 1.5)\n",
        "\n",
        "    def show_publications(self):\n",
        "        '''Лингвист сообщает, какие у него появились публикации'''\n",
        "        print('Список публикаций лингвиста:', ', '.join(self.publications))\n",
        "\n",
        "    def go_to_expedition(self, area, days):\n",
        "        if 'кавказ' in area.lower():\n",
        "          self.expedition += round(days * 0.75, 2)\n",
        "        elif 'африка' in area.lower():\n",
        "          self.expedition += round(days * 0.9, 2)\n",
        "        else:\n",
        "          self.expedition += round(days * 0.5, 2)"
      ]
    },
    {
      "cell_type": "code",
      "execution_count": 88,
      "metadata": {
        "id": "9u7aSybS9dez"
      },
      "outputs": [],
      "source": [
        "class Publication:\n",
        "    def __init__(self, name, volume, data):\n",
        "        self.name = name # имя публикации\n",
        "        self.volume = volume # количество страниц\n",
        "        self.data = data # количество необходимого материала (будет в котиках)\n",
        "\n",
        "    def __str__(self):\n",
        "        return f'{self.name}, {self.volume}, {self.data}'\n",
        "\n",
        "    def __repr__(self):\n",
        "        return f\"Publication('{self.name}', {self.volume}, {self.data})\""
      ]
    },
    {
      "cell_type": "code",
      "source": [
        "petya = Linguist('Петя', 'РГГУ', 100)"
      ],
      "metadata": {
        "id": "XZ-T1QufcPL6"
      },
      "execution_count": 100,
      "outputs": []
    },
    {
      "cell_type": "code",
      "source": [
        "petya.go_to_expedition('Северная Африка', 21)"
      ],
      "metadata": {
        "id": "_eTi5WP-1-x7"
      },
      "execution_count": 101,
      "outputs": []
    },
    {
      "cell_type": "code",
      "source": [
        "petya.expedition"
      ],
      "metadata": {
        "colab": {
          "base_uri": "https://localhost:8080/"
        },
        "id": "ERGQfYi02J2b",
        "outputId": "09cb8660-2141-462a-a4de-40caba1dfdf1"
      },
      "execution_count": 102,
      "outputs": [
        {
          "output_type": "execute_result",
          "data": {
            "text/plain": [
              "18.9"
            ]
          },
          "metadata": {},
          "execution_count": 102
        }
      ]
    },
    {
      "cell_type": "code",
      "source": [
        "pblc = Publication('Морфосинтаксические парсеры', 9, 15)"
      ],
      "metadata": {
        "id": "se1zcPNe2OWL"
      },
      "execution_count": 103,
      "outputs": []
    },
    {
      "cell_type": "code",
      "source": [
        "petya.work(pblc)"
      ],
      "metadata": {
        "id": "eU_cCxjW2YdQ",
        "colab": {
          "base_uri": "https://localhost:8080/"
        },
        "outputId": "a90d11cf-fed3-4af2-fc82-3957a6ca79c1"
      },
      "execution_count": 104,
      "outputs": [
        {
          "output_type": "stream",
          "name": "stdout",
          "text": [
            "Работа с материалом успешно проведена!\n"
          ]
        }
      ]
    },
    {
      "cell_type": "code",
      "source": [
        "petya.stamina"
      ],
      "metadata": {
        "colab": {
          "base_uri": "https://localhost:8080/"
        },
        "id": "fL3PI2Ng2h-U",
        "outputId": "db791834-a9ce-43a7-cbc3-50101487b75e"
      },
      "execution_count": 105,
      "outputs": [
        {
          "output_type": "execute_result",
          "data": {
            "text/plain": [
              "97.75"
            ]
          },
          "metadata": {},
          "execution_count": 105
        }
      ]
    },
    {
      "cell_type": "code",
      "source": [
        "petya.show_publications()"
      ],
      "metadata": {
        "colab": {
          "base_uri": "https://localhost:8080/"
        },
        "id": "5ob1Cmk53L74",
        "outputId": "fbb59b96-9f2e-411a-d217-a4cbc60145f9"
      },
      "execution_count": 106,
      "outputs": [
        {
          "output_type": "stream",
          "name": "stdout",
          "text": [
            "Список публикаций лингвиста: Морфосинтаксические парсеры\n"
          ]
        }
      ]
    },
    {
      "cell_type": "code",
      "source": [
        "petya.publications"
      ],
      "metadata": {
        "colab": {
          "base_uri": "https://localhost:8080/"
        },
        "id": "9N6E4EdX3TJ-",
        "outputId": "629fc07d-04e5-4ee1-d9af-439b3ac41c22"
      },
      "execution_count": null,
      "outputs": [
        {
          "output_type": "execute_result",
          "data": {
            "text/plain": [
              "['Морфосинтаксические парсеры']"
            ]
          },
          "metadata": {},
          "execution_count": 199
        }
      ]
    },
    {
      "cell_type": "code",
      "source": [
        "petya.sleep(7)\n",
        "petya.stamina"
      ],
      "metadata": {
        "colab": {
          "base_uri": "https://localhost:8080/"
        },
        "id": "OGtQqfO23g45",
        "outputId": "8da8424d-8167-469e-a26d-1d8abc88d4b3"
      },
      "execution_count": 107,
      "outputs": [
        {
          "output_type": "execute_result",
          "data": {
            "text/plain": [
              "108.25"
            ]
          },
          "metadata": {},
          "execution_count": 107
        }
      ]
    },
    {
      "cell_type": "code",
      "source": [
        "publc1 = Publication('Видовременные формы русских глаголов', 25, 100)"
      ],
      "metadata": {
        "id": "Jd2vbdzQ8jlf"
      },
      "execution_count": 108,
      "outputs": []
    },
    {
      "cell_type": "code",
      "source": [
        "petya.work(publc1)"
      ],
      "metadata": {
        "colab": {
          "base_uri": "https://localhost:8080/",
          "height": 35
        },
        "id": "Zhvrj_uc9GPw",
        "outputId": "c69e169a-4735-4a2e-efa8-0c226a4bbbe6"
      },
      "execution_count": 109,
      "outputs": [
        {
          "output_type": "execute_result",
          "data": {
            "text/plain": [
              "'Недостаточно материала для работы над этой публикацией :('"
            ],
            "application/vnd.google.colaboratory.intrinsic+json": {
              "type": "string"
            }
          },
          "metadata": {},
          "execution_count": 109
        }
      ]
    },
    {
      "cell_type": "code",
      "source": [
        "petya.go_to_expedition('Архангельская область', 14)"
      ],
      "metadata": {
        "id": "ZwyjbWwO9IKx"
      },
      "execution_count": 110,
      "outputs": []
    },
    {
      "cell_type": "code",
      "source": [
        "petya.expedition"
      ],
      "metadata": {
        "colab": {
          "base_uri": "https://localhost:8080/"
        },
        "id": "ZHd6TvjJfv8C",
        "outputId": "d3b27c60-2751-4d8a-94dd-bcabeba7bdab"
      },
      "execution_count": 111,
      "outputs": [
        {
          "output_type": "execute_result",
          "data": {
            "text/plain": [
              "25.9"
            ]
          },
          "metadata": {},
          "execution_count": 111
        }
      ]
    },
    {
      "cell_type": "code",
      "source": [
        "publc1 = Publication('Видовременные формы русских глаголов', 10, 23)"
      ],
      "metadata": {
        "id": "INUIqNazfxz8"
      },
      "execution_count": 115,
      "outputs": []
    },
    {
      "cell_type": "code",
      "source": [
        "petya.work(publc1)"
      ],
      "metadata": {
        "colab": {
          "base_uri": "https://localhost:8080/"
        },
        "id": "w5ildzoSf1YP",
        "outputId": "6d51ec6a-c5ba-4bd2-d020-6cde63417f9a"
      },
      "execution_count": 116,
      "outputs": [
        {
          "output_type": "stream",
          "name": "stdout",
          "text": [
            "Работа с материалом успешно проведена!\n"
          ]
        }
      ]
    },
    {
      "cell_type": "code",
      "source": [
        "petya.show_publications()"
      ],
      "metadata": {
        "colab": {
          "base_uri": "https://localhost:8080/"
        },
        "id": "1aJoO5y5f2jy",
        "outputId": "29d02c96-7048-4b1b-bf97-ffb54212cedd"
      },
      "execution_count": 118,
      "outputs": [
        {
          "output_type": "stream",
          "name": "stdout",
          "text": [
            "Список публикаций лингвиста: Морфосинтаксические парсеры, Видовременные формы русских глаголов\n"
          ]
        }
      ]
    },
    {
      "cell_type": "code",
      "source": [],
      "metadata": {
        "id": "d_lbOwlHgL17"
      },
      "execution_count": null,
      "outputs": []
    }
  ],
  "metadata": {
    "colab": {
      "provenance": [],
      "authorship_tag": "ABX9TyMzNK0KrZw33jM5FtYSU4le"
    },
    "kernelspec": {
      "display_name": "Python 3",
      "name": "python3"
    },
    "language_info": {
      "name": "python"
    }
  },
  "nbformat": 4,
  "nbformat_minor": 0
}