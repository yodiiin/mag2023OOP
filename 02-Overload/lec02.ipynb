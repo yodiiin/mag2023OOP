{
 "cells": [
  {
   "cell_type": "markdown",
   "id": "1369afb1-9ef0-424d-b740-64756a2fabb1",
   "metadata": {},
   "source": [
    "## Перегрузка методов. Индексирование и нарезание. Протокол итерации. "
   ]
  },
  {
   "cell_type": "markdown",
   "id": "e4c82e10-8230-4a67-850a-c6973927be04",
   "metadata": {},
   "source": [
    "На прошлом семинаре мы говорили о том, что в классах бывают следующие разновидности методов:\n",
    "\n",
    "- методы экземпляра класса\n",
    "- методы класса\n",
    "- статические методы\n",
    "- магические методы (по сути, тоже методы экземпляра класса, но с зарезервированным именем)\n",
    "\n",
    "Вот последние методы нас и интересуют сегодня. Это те методы, которые обычно явным образом не вызываются, и их имена зарезервированы в питоне (они пишутся обычно с двумя нижними подчеркиваниями слева и справа). Часть этих методов определена в верхнем объекте иерархии питона object, от которого неявно наследуют все создаваемые классы. Смысл многих из этих методов вам будет интуитивно понятен. Ниже приведен полный их список."
   ]
  },
  {
   "cell_type": "markdown",
   "id": "17ce35ee-329c-4b57-816e-660970e01948",
   "metadata": {
    "jupyter": {
     "source_hidden": true
    },
    "tags": []
   },
   "source": [
    "|Метод|Описание|\n",
    "|---|---|\n",
    "|\\_\\_abs\\_\\_|Absolute value of a given argument|\n",
    "|\\_\\_add\\_\\_|Addition x + y for x and y arguments|\n",
    "|\\_\\_aenter\\_\\_|Like \\_\\_enter\\_\\_() but must return an awaitable|\n",
    "|\\_\\_aexit\\_\\_|Like \\_\\_exit\\_\\_() but must return an awaitable|\n",
    "|\\_\\_aiter\\_\\_|Returns an asynchronous iterator|\n",
    "|\\_\\_and\\_\\_|Bitwise “AND” of a and b|\n",
    "|\\_\\_anext\\_\\_|Return an awaitable as the next value of the iterator argument|\n",
    "|\\_\\_annotations\\_\\_|A dict containing annotations (values) associated to parameter names (keys)|\n",
    "|\\_\\_await\\_\\_|Return an iterator to implement awaitable objects|\n",
    "|\\_\\_bool\\_\\_|Truth value testing for built-in bool() returning False or True. If undefined, call \\_\\_len\\_\\_()|\n",
    "|\\_\\_bytes\\_\\_|Called by bytes() to compute a byte-string representation of an object. Must return a bytes object.|\n",
    "|\\_\\_call\\_\\_|Called when a given instance is called as a function|\n",
    "|\\_\\_ceil\\_\\_|Implement math function ceil()|\n",
    "|\\_\\_complex\\_\\_|Implement the built-in functions complex() to create a new complex number|\n",
    "|\\_\\_contains\\_\\_|Implements the Python in operator to check membership.|\n",
    "|\\_\\_del\\_\\_|Called when the instance is about to be destroyed|\n",
    "|\\_\\_delattr\\_\\_|Delete an attribute|\n",
    "|\\_\\_delete\\_\\_|Delete the attribute on an instance of the owner class.|\n",
    "|\\_\\_delitem\\_\\_|Remove the value of the first argument at index as defined in second argument.|\n",
    "|\\_\\_dir\\_\\_|Called when dir(x) is called on object x.|\n",
    "|\\_\\_div\\_\\_|The division operator (/) in Python 2 is implemented by this dunder method. For Python 3, the \\_\\_truediv\\_\\_() method is used instead.|\n",
    "|\\_\\_divmod\\_\\_|Implements the divmod() built-in method. Python’s built-in divmod(a, b) function takes two integer or float numbers a and b as input arguments and returns a tuple (a // b, a % b).|\n",
    "|\\_\\_enter\\_\\_|Enter the runtime context related to this object.|\n",
    "|\\_\\_eq\\_\\_|Rich comparison: x==y calls x.\\_\\_eq\\_\\_(y)|\n",
    "|\\_\\_exit\\_\\_|Exit the runtime context related to this object.|\n",
    "|\\_\\_float\\_\\_|Called to implement the built-in function float().|\n",
    "|\\_\\_floor\\_\\_|Implements behavior for math.floor(), i.e., rounding down to the nearest integer.|\n",
    "|\\_\\_floordiv\\_\\_|Implements a//b|\n",
    "|\\_\\_format\\_\\_|The Python \\_\\_format\\_\\_() method implements the built-in format() function as well as the string.format() method. So, when you call format(x, spec) or string.format(spec), Python attempts to call x.\\_\\_format\\_\\_(spec). The return value is a string.|\n",
    "|\\_\\_ge\\_\\_|Return whether x is greater than or equal y|\n",
    "|\\_\\_get\\_\\_|Called on the attribute type to get a class attribute or instance attribute of the owner class.|\n",
    "|\\_\\_getattr\\_\\_|Called when the default attribute access fails with an AttributeError|\n",
    "|\\_\\_getattribute\\_\\_|Called unconditionally to implement attribute accesses for instances of the class. If the class also defines \\_\\_getattr\\_\\_(), this method won’t be called unless \\_\\_getattribute\\_\\_() either calls it explicitly or raises an AttributeError.|\n",
    "|\\_\\_getitem\\_\\_|Return the value of a at index b.|\n",
    "|\\_\\_gt\\_\\_|Returns the result of the greater than operation x > y|\n",
    "|\\_\\_hash\\_\\_|Called by built-in function hash(), should return an integer.|\n",
    "|\\_\\_hex\\_\\_|Does not work for Python 3. Use \\_\\_index\\_\\_() instead.|\n",
    "|\\_\\_iadd\\_\\_|a = iadd(a, b) is equivalent to a += b.|\n",
    "|\\_\\_iand\\_\\_|a = iand(a, b) is equivalent to a &= b.|\n",
    "|\\_\\_idiv\\_\\_|a = idiv(a, b) is equivalent to a /= b in Python 2. In Python 3, this is replaced by \\_\\_itruediv\\_\\_.|\n",
    "|\\_\\_ifloordiv\\_\\_|a = ifloordiv(a, b) is equivalent to a //= b.|\n",
    "|\\_\\_ilshift\\_\\_|a = ilshift(a, b) is equivalent to a <<= b.|\n",
    "|\\_\\_imatmul\\_\\_|a = imatmul(a, b) is equivalent to a @= b.|\n",
    "|\\_\\_imod\\_\\_|a = imod(a, b) is equivalent to a %= b.|\n",
    "|\\_\\_import\\_\\_|Import a library by name. For example, to import the NumPy library dynamically, you could run \\_\\_import\\_\\_('numpy').|\n",
    "|\\_\\_imul\\_\\_|a = imul(a, b) is equivalent to a *= b.|\n",
    "|\\_\\_index\\_\\_|Returns the object converted to an integer. This is used for many built-in functions such as oct(), hex(), or bin().|\n",
    "|\\_\\_init\\_\\_|Called after the instance has been created (by \\_\\_new\\_\\_()), but before it is returned to the caller.|\n",
    "|\\_\\_init_subclass\\_\\_|This method is called whenever the class defining it is subclassed.|\n",
    "|\\_\\_instancecheck\\_\\_|Return True if instance should be considered a direct or indirect instance of class. If defined, called to implement isinstance(instance, class).|\n",
    "|\\_\\_int\\_\\_|Called to implement the built-in function int().|\n",
    "|\\_\\_invert\\_\\_(x)|Return the bitwise inverse ~x of the number x.|\n",
    "|\\_\\_ior\\_\\_|a = ior(a, b) is equivalent to a |= b.|\n",
    "|\\_\\_ipow\\_\\_|a = ipow(a, b) is equivalent to a \\*\\*= b.|\n",
    "|\\_\\_irshift\\_\\_|a = irshift(a, b) is equivalent to a >>= b.|\n",
    "|\\_\\_isub\\_\\_|a = isub(a, b) is equivalent to a -= b.|\n",
    "|\\_\\_iter\\_\\_|This method is called when an iterator is required for a container. It returns a new iterator object that can iterate over all the objects in the container.|\n",
    "|\\_\\_itruediv\\_\\_|a = itruediv(a, b) is equivalent to a /= b.|\n",
    "|\\_\\_ixor\\_\\_|a = ixor(a, b) is equivalent to a ^= b.|\n",
    "|\\_\\_le\\_\\_|Returns True if the former is less than or equal to the latter argument, i.e., x <= y|\n",
    "|\\_\\_len\\_\\_|Called to implement the built-in function len(). Returns the length of the object >= 0. An object that doesn’t define \\_\\_bool\\_\\_() is considered False if its \\_\\_len\\_\\_() method returns zero.|\n",
    "|\\_\\_lshift\\_\\_|Return x shifted left by y.|\n",
    "|\\_\\_lt\\_\\_|Returns the result of the less than operation x < y|\n",
    "|\\_\\_matmul\\_\\_|Return a @ b.|\n",
    "|\\_\\_missing\\_\\_|Called by dict.\\_\\_getitem\\_\\_() to implement self[key] for dict subclasses when key is not in the dictionary.|\n",
    "|\\_\\_mod\\_\\_|Return x % y.|\n",
    "|\\_\\_mul\\_\\_|Return a * b, for a and b numbers.|\n",
    "|\\_\\_ne\\_\\_|Rich comparison: x!=y and x<>y call x.\\_\\_ne\\_\\_(y)|\n",
    "|\\_\\_neg\\_\\_|Return x negated (-x).|\n",
    "|\\_\\_new\\_\\_|Called to create a new instance of a given class cls.|\n",
    "|\\_\\_next\\_\\_|Return the next item from the container.|\n",
    "|\\_\\_oct\\_\\_|Does not work for Python 3. Use \\_\\_index\\_\\_() instead.|\n",
    "|\\_\\_or\\_\\_|Return the bitwise or of a and b.|\n",
    "|\\_\\_pow\\_\\_|Return a ** b, for a and b numbers.|\n",
    "|\\_\\_radd\\_\\_|Called to implement the binary arithmetic operation + with reflected (swapped) operands. Only called if the left operand does not support the corresponding operation and the operands are of different types.|\n",
    "|\\_\\_rand\\_\\_|Called to implement the binary arithmetic operation & (\\_\\_and\\_\\_) with reflected (swapped) operands. Only called if the left operand does not support the corresponding operation and the operands are of different types.|\n",
    "|\\_\\_rdiv\\_\\_|Called to implement the binary arithmetic operation / (\\_\\_div\\_\\_) with reflected (swapped) operands. Only called if the left operand does not support the corresponding operation and the operands are of different types.|\n",
    "|\\_\\_rdivmod\\_\\_|Called to implement the binary arithmetic operation divmod() with reflected (swapped) operands. Only called if the left operand does not support the corresponding operation and the operands are of different types.|\n",
    "|\\_\\_repr\\_\\_|Called by the repr() built-in function to compute the “official” string representation of an object.|\n",
    "|\\_\\_reversed\\_\\_|Called (if present) by the reversed() built-in to implement reverse iteration. It should return a new iterator object that iterates over all the objects in the container in reverse order.|\n",
    "|\\_\\_rfloordiv\\_\\_|Called to implement the binary arithmetic operation // (\\_\\_floordiv\\_\\_) with reflected (swapped) operands. Only called if the left operand does not support the corresponding operation and the operands are of different types.|\n",
    "|\\_\\_rlshift\\_\\_|Called to implement the binary arithmetic operation << (\\_\\_lshift\\_\\_) with reflected (swapped) operands. Only called if the left operand does not support the corresponding operation and the operands are of different types.|\n",
    "|\\_\\_rmatmul\\_\\_|Called to implement the matmul operation @ (\\_\\_matmul\\_\\_) with reflected (swapped) operands. Only called if the left operand does not support the corresponding operation and the operands are of different types.|\n",
    "|\\_\\_rmod\\_\\_|Called to implement the binary arithmetic operation % (\\_\\_mod\\_\\_) with reflected (swapped) operands. Only called if the left operand does not support the corresponding operation and the operands are of different types.|\n",
    "|\\_\\_rmul\\_\\_|Called to implement the binary arithmetic operation * (\\_\\_mul\\_\\_) with reflected (swapped) operands. Only called if the left operand does not support the corresponding operation and the operands are of different types.|\n",
    "|\\_\\_ror\\_\\_|Called to implement the binary arithmetic operation \\| (\\_\\_or\\_\\_) with reflected (swapped) operands. Only called if the left operand does not support the corresponding operation and the operands are of different types.|\n",
    "|\\_\\_round\\_\\_|Called to implement the built-in function round() and math functions trunc(), floor() and ceil().|\n",
    "|\\_\\_rpow\\_\\_|Called to implement the arithmetic multiplication operation ** (\\_\\_pow\\_\\_) with reflected (swapped) operands. Only called if the left operand does not support the corresponding operation and the operands are of different types.|\n",
    "|\\_\\_rrshift\\_\\_|Called to implement the binary arithmetic operation >> (\\_\\_rshift\\_\\_) with reflected (swapped) operands. Only called if the left operand does not support the corresponding operation and the operands are of different types.|\n",
    "|\\_\\_rshift\\_\\_|Return a shifted right by b, i.e., a >> b.|\n",
    "|\\_\\_rsub\\_\\_|Called to implement the binary arithmetic operation – (\\_\\_sub\\_\\_) with reflected (swapped) operands. Only called if the left operand does not support the corresponding operation and the operands are of different types.|\n",
    "|\\_\\_rtruediv\\_\\_|Called to implement the binary arithmetic operation / (\\_\\_truediv\\_\\_) with reflected (swapped) operands. Only called if the left operand does not support the corresponding operation and the operands are of different types.|\n",
    "|\\_\\_rxor\\_\\_|Called to implement the binary arithmetic operation ^ (\\_\\_xor\\_\\_) with reflected (swapped) operands. Only called if the left operand does not support the corresponding operation and the operands are of different types.|\n",
    "|\\_\\_set\\_\\_|Called to set the attribute on an instance of the owner class to a new value.|\n",
    "|\\_\\_set_name\\_\\_|Called at the time the owning class owner is created. The descriptor has been assigned to name.|\n",
    "|\\_\\_setattr\\_\\_|Called when you assign an attribute via setattr() instead of the normal mechanism of storing the value in the instance dictionary.|\n",
    "|\\_\\_setitem\\_\\_|Set a given element at a given index to a new value.|\n",
    "|\\_\\_sizeof\\_\\_|Returns the internal size in bytes for the given object|\n",
    "|\\_\\_str\\_\\_|Called by str(object) and the built-in functions format() and print() to compute the “informal” or printable string representation of an object.|\n",
    "|\\_\\_sub\\_\\_|Return a - b.|\n",
    "|\\_\\_subclasscheck\\_\\_|Return true if subclass should be considered a (direct or indirect) subclass of class. If defined, called to implement issubclass(subclass, class).|\n",
    "|\\_\\_subclasses\\_\\_|Finds all subclasses of a given class.|\n",
    "|\\_\\_truediv\\_\\_|Return a / b where 2/3 is .66 rather than 0. This is also known as “true” division.|\n",
    "|\\_\\_trunc\\_\\_|Called to implement the math.trunc() function.|\n",
    "|\\_\\_xor\\_\\_|Return the bitwise exclusive or of a and b."
   ]
  },
  {
   "cell_type": "markdown",
   "id": "06c439a5-0610-4fff-b676-cca4e95632d4",
   "metadata": {},
   "source": [
    "Итак, что же такое перегрузка операций? \n",
    "\n",
    "Перегрузка операций позволяет объектам, созданным из классов, перехватывать и реагировать на операции, которые работают со встроенными типами: сложение, нарезание, вывод, уточнение и т.д. То есть, это и есть когда мы переопределяем магические методы. Все эти методы переопределять необязательно, но если мы потом попытаемся применить такой метод, не переопределив его, вызовем исключение. \n",
    "\n",
    "Как правило, перегрузка операций используется разработчиками инструментов: обычным программистам может быть проще писать обычные методы экземпляра класса. Один из немногих методов, который обычно перегружается, - это \\_\\_init\\_\\_. Знать о перегрузке все же полезно, потому что тогда становятся понятны многие механизмы, работающие в этих самых инструментах, например, будет понятно, почему мы в pytorch пишем nn.Flatten()(x) и как в razdel устроена работа sentenize. "
   ]
  },
  {
   "cell_type": "markdown",
   "id": "e4621c59-e219-45ee-a49c-811122e064ad",
   "metadata": {},
   "source": [
    "До сегодняшнего мы перегружали в основном три метода: \\_\\_init\\_\\_, \\_\\_repr\\_\\_ и \\_\\_str\\_\\_. С двумя последними вроде все понятно, а вот первый может иногда хотеться перегрузить не полностью: не перезаписать его с нуля, а только добавить что-то свое. Например, у класса Human есть в динамических атрибутах имя и возраст, а у класса-ребенка Student хотим добавить курс. Как сделать это без копипасты?\n",
    "\n",
    "Можно при перегрузке метода \\_\\_init\\_\\_ вызвать из него же родительский метод \\_\\_init\\_\\_. Это может выглядеть так:"
   ]
  },
  {
   "cell_type": "code",
   "execution_count": 5,
   "id": "614f2f31-9b0a-4232-a3f9-ab953c95d16d",
   "metadata": {},
   "outputs": [],
   "source": [
    "class Human:\n",
    "    def __init__(self, name, age):\n",
    "        self.name = name\n",
    "        self.age = age\n",
    "    \n",
    "class Student(Human):\n",
    "    def __init__(self, name, age, course):\n",
    "        Human.__init__(self, name, age) # явно передаем self тоже, потому что вызываем метод от имени класса\n",
    "        self.course = course"
   ]
  },
  {
   "cell_type": "code",
   "execution_count": 6,
   "id": "c6c14686-f7a4-4c0e-a349-522652f52b25",
   "metadata": {},
   "outputs": [],
   "source": [
    "vasya = Student('Вася', 19, 2)"
   ]
  },
  {
   "cell_type": "markdown",
   "id": "70fd8146-72ef-4ad5-8fe0-1667aef714d1",
   "metadata": {},
   "source": [
    "Но в питоне (для лучшей поддержки кода) есть специальная немного особенная функция, которая называется super(). Она служит ровно для этого:"
   ]
  },
  {
   "cell_type": "code",
   "execution_count": 7,
   "id": "d527c093-6006-4d87-98bd-670522b818da",
   "metadata": {},
   "outputs": [],
   "source": [
    "class Student(Human):\n",
    "    def __init__(self, name, age, course):\n",
    "        super().__init__(name, age) # тут не нужно передавать self - super() сам его отыщет и передаст куда надо\n",
    "        self.course = course\n",
    "        \n",
    "vasya = Student('Вася', 19, 2)"
   ]
  },
  {
   "cell_type": "markdown",
   "id": "66c3344a-26a8-4091-95a1-4e1770a8ab97",
   "metadata": {},
   "source": [
    "### Итерирование и связанные методы"
   ]
  },
  {
   "cell_type": "markdown",
   "id": "289feb6c-793c-44a9-a4e6-f1d2f30b42f7",
   "metadata": {},
   "source": [
    "Основная тема сегодняшнего разговора, однако - это **итерирование** и связанные с ним магические методы. "
   ]
  },
  {
   "cell_type": "markdown",
   "id": "a22f02a6-9d6f-44c1-bd16-8b74eb115d4a",
   "metadata": {},
   "source": [
    "С понятием итерируемого объекта связаны несколько важных вещей (действий), которые обычно с итерируемыми объектами и исполняются. Это:\n",
    "- индексирование и нарезание (slicing, когда берем срезы)\n",
    "- собственно итерация\n",
    "- проверка членства in \n",
    "\n",
    "Все эти вещи реализуются с помощью магических методов. "
   ]
  },
  {
   "cell_type": "markdown",
   "id": "366e131f-6756-4cf3-9409-bb12b3de1a02",
   "metadata": {
    "tags": []
   },
   "source": [
    "#### Индексирование и нарезание"
   ]
  },
  {
   "cell_type": "markdown",
   "id": "d6e50e70-485c-41f2-99f1-424b429cdb0c",
   "metadata": {},
   "source": [
    "Индексирование реализуется в питоне с помощью магического метода \\_\\_getitem\\_\\_. Нарезание тоже. Обратите внимание, что способ записи вида lst[1:2:3] - это только синтаксический сахар, на самом деле запись 1:2:3 превращается внутри питона в объект класса slice: slice(1, 2, 3). Соответственно, когда мы пишем в квадратных скобочках либо число, либо слайс, этот объект неявным образом передается в магический метод \\_\\_getitem\\_\\_. Как реализовать полностью идентичную обычной работу с индексированием и нарезанием:"
   ]
  },
  {
   "cell_type": "code",
   "execution_count": null,
   "id": "ea7fdb03-137f-493f-a0eb-a96a7eebad2d",
   "metadata": {
    "id": "oX_yhaUXMrFQ"
   },
   "outputs": [],
   "source": [
    "from time import sleep\n",
    "\n",
    "sleep(2)\n",
    "\n",
    "class Human:\n",
    "    eyes = 2\n",
    "    def __init__(self, name):\n",
    "        self.name = name\n",
    "\n",
    "    def work(self):\n",
    "        raise NotImplementedError\n",
    "\n",
    "    def eat(self):\n",
    "        print('I eat')\n",
    "\n",
    "    def sleep(self, n):\n",
    "        sleep(n)"
   ]
  },
  {
   "cell_type": "code",
   "execution_count": null,
   "id": "3ea50855-ae2e-41e3-9937-588bca673c28",
   "metadata": {
    "id": "wBHWGZXvNkMi"
   },
   "outputs": [],
   "source": [
    "class Linguist(Human):\n",
    "    def __init__(self, name, publications):\n",
    "        super().__init__(name)\n",
    "        self.publications = publications\n",
    "\n",
    "    def __getitem__(self, index):\n",
    "        if isinstance(index, int):  # если передано просто число - значит, берем один элемент с индексом\n",
    "            return self.publications[index]\n",
    "        else:  # если не число, то значит,  slice. У этого объекта есть три атрибута, которые мы и используем\n",
    "            return self.publications[index.start:index.stop:index.step]\n",
    "\n",
    "    def __contains__(self, x):\n",
    "        return x in self.publications\n",
    "  \n",
    "    def work(self, new_publ):\n",
    "        self.publications.append(new_publ)"
   ]
  },
  {
   "cell_type": "markdown",
   "id": "94c950eb-e463-4cc9-948f-6182f385cc2b",
   "metadata": {},
   "source": [
    "Соответствующий метод, который реализует присваивание элементу с индексом какого-то значения - это \\_\\_setitem\\_\\_. Он работает примерно аналогичным образом. "
   ]
  },
  {
   "cell_type": "markdown",
   "id": "568ab164-ead9-4cb6-9bc2-6b1b76395de5",
   "metadata": {},
   "source": [
    "Магический метод \\_\\_index\\_\\_ тесно связан с этими двумя, но делает наоборот: возвращает индекс для запрашиваемого экземпляра. "
   ]
  },
  {
   "cell_type": "markdown",
   "id": "7b71f3c4-c520-4ee8-8cd1-a60e2a3834f8",
   "metadata": {},
   "source": [
    "#### Протокол итерации. Итерирование"
   ]
  },
  {
   "cell_type": "markdown",
   "id": "a98028df-8fca-4384-9a92-4ad8cd2ab815",
   "metadata": {},
   "source": [
    "Когда мы с вами вызываем какой-нибудь цикл или пишем генераторное выражение, на самом деле внутри питона в этот момент происходит следующее:\n",
    "\n",
    "    Мы написали:\n",
    "    for elem in lst:\n",
    "        do something\n",
    "    \n",
    "    Питон делает:\n",
    "    i = iter(lst)  # превращает список в объект \"итератор\"\n",
    "    next(i)\n",
    "    next(i)\n",
    "    ...\n",
    "    Когда итератор закончится, он вызовет исключение StopIteration, которое и отлавливает протокол итерации, останавливая все действие. \n",
    "    \n",
    "Функции iter() и next() - встроенные функции питона. Их \"магические\" эквиваленты, которые они на самом деле вызывают - \\_\\_iter\\_\\_ и \\_\\_next\\_\\_. \n",
    "\n",
    "Их-то и нужно переопределить, если мы хотим научиться итерироваться по экземплярам нашего класса. Здесь есть несколько вариантов. "
   ]
  },
  {
   "cell_type": "markdown",
   "id": "55d95686-8b91-4524-ab7c-e358c154b222",
   "metadata": {},
   "source": [
    "№1. \"Простое\" итерирование: мы создаем класс, который сам по себе является итератором, и когда мы проитерируемся по такому экземпляру один раз, второй уже будет нельзя. "
   ]
  },
  {
   "cell_type": "code",
   "execution_count": null,
   "id": "2e1a2165-4842-4384-a1fe-9f433b09850a",
   "metadata": {},
   "outputs": [],
   "source": [
    "class Squares:\n",
    "    \"\"\" Класс-итератор, который будет делать ровно то же, что range, только возвращать квадраты чисел. \"\"\"\n",
    "    def __init__(self, start, stop):\n",
    "        self.value = start - 1\n",
    "        self.stop = stop - 1\n",
    "    \n",
    "    def __iter__(self):\n",
    "        return self # такой объект возвращает самого себя для итерации\n",
    "    \n",
    "    def __next__(self):\n",
    "        if self.value == self.stop:\n",
    "            raise StopIteration\n",
    "        self.value += 1\n",
    "        return self.value ** 2"
   ]
  },
  {
   "cell_type": "markdown",
   "id": "f85fa167-b6c6-4e2b-9d3d-8f7353f804c8",
   "metadata": {},
   "source": [
    "№2. Множественное итерирование: мы создаем отдельный класс для итерации, таким образом, чтобы при итерации состояние нашего объекта сохранялось и можно было итерироваться по нему много раз, хоть одновременно во вложенных циклах:"
   ]
  },
  {
   "cell_type": "code",
   "execution_count": null,
   "id": "ba819938-607f-4761-afe6-9aebe956d85a",
   "metadata": {},
   "outputs": [],
   "source": [
    "class Squares:\n",
    "    \"\"\"Собственно наш объект, который итератором по себе не является\"\"\"\n",
    "    def __init__(self, start, stop):\n",
    "        self.start = start\n",
    "        self.stop = stop\n",
    "\n",
    "    def __iter__(self):\n",
    "        return SquaresIterator(self.start, self.stop)  # когда мы хотим итерироваться, создается отдельный объект-итератор\n",
    "\n",
    "class SquaresIterator:\n",
    "    \"\"\"А вот и класс для этого объекта\"\"\"\n",
    "    def __init__(self, start, stop):\n",
    "        self.value = start - 1\n",
    "        self.stop = stop - 1\n",
    " \n",
    "    def __next__(self):\n",
    "        if self.value == self.stop:\n",
    "            raise StopIteration\n",
    "        self.value += 1\n",
    "        return self.value ** 2 "
   ]
  },
  {
   "cell_type": "markdown",
   "id": "e34df018-3a14-4eb0-8021-66c884206f4c",
   "metadata": {},
   "source": [
    "№3. Итерирование с помощью генераторов. Тут нужно быстро пробежаться по генераторным функциям. "
   ]
  },
  {
   "cell_type": "markdown",
   "id": "dfbcb3b3-7768-426b-b6ed-1184704a81dc",
   "metadata": {},
   "source": [
    "Что вообще такое генераторы? Генераторная функция - это понятие из функционального программирования. Такая функция не вычисляет все, что надо, сразу, а делает это только по требованию (и поэтому работает очень быстро). То есть, на самом деле задачку с Squares можно было написать просто функцией:"
   ]
  },
  {
   "cell_type": "code",
   "execution_count": null,
   "id": "edece0c2-97ee-4c3f-b057-3dc39d98a179",
   "metadata": {},
   "outputs": [],
   "source": [
    "def gsquares(start, stop):\n",
    "    for i in range(start, stop):\n",
    "        yield i ** 2"
   ]
  },
  {
   "cell_type": "markdown",
   "id": "f38435b3-2e69-45a5-ae63-421550058c36",
   "metadata": {},
   "source": [
    "yield - это оператор, который работает почти как return, но не выводит нас из функции сразу (их может быть больше одного), а возвращает результат, когда с него это потребовали. \n",
    "\n",
    "Генераторные выражения - это выражения, которые нам давно хорошо знакомы, обычно мы их используем вместе с представлением списка (списковым включением, list comprehension):\n",
    "\n",
    "    [x for x in lst]\n",
    "    \n",
    "если мы напишем круглые скобочки, а не квадратные, то получим объект типа \"генератор\", который будет существовать себе и ждать, когда мы попросим его нагенерировать то, что он умеет. \n",
    "\n",
    "В связи с генераторами неплохо вспомнить такие функции, как map, filter & reduce: это все инструменты функционального программирования, которые в результате своей работы возвращают генераторы. Напомню о них:\n",
    "\n",
    "- map отображает функции на итерируемые объекты:\n",
    "\n",
    "        list(map(pow, [1, 2, 3], [4, 5, 6]))\n",
    "        \n",
    "        Вернет список всех чисел первого списка, возведенных в степень из второго списка. \n",
    "        \n",
    "- filter - выбирает элементы из итерируемых объектов, которые соответствуют функции-условию. \n",
    "\n",
    "        list(filter(lambda x: x > 0, range(-5, 5)))\n",
    "        \n",
    "        Вернет только положительные числа. \n",
    "        \n",
    "- reduce: эта функция находится в стандартном модуле functools. На каждом шаге она передает результат выполненной функции-аргумента вместе с очередным элементом из списка. \n",
    "\n",
    "        reduce((lambda x, y: x + y), [1, 2, 3, 4])\n",
    "        \n",
    "        Просуммирует все элементы в списке. "
   ]
  },
  {
   "cell_type": "markdown",
   "id": "ea69fa86-7c25-48a6-8478-ac03432e9abd",
   "metadata": {},
   "source": [
    "Так вот, можно сочетать генераторные функции с переопределением итерирования очень лаконичным и красивым способом:"
   ]
  },
  {
   "cell_type": "code",
   "execution_count": null,
   "id": "d7be4c12-4acc-4c16-84f7-0635496a59d9",
   "metadata": {},
   "outputs": [],
   "source": [
    "class Squares:\n",
    "    def __init__(self, start, stop):\n",
    "        self.start = start\n",
    "        self.stop = stop\n",
    "\n",
    "    def __iter__(self):\n",
    "        \"\"\" Такой вариант автоматически создает множественный итератор. \"\"\"\n",
    "        for item in range(self.start, self.stop):\n",
    "            yield item ** 2"
   ]
  },
  {
   "cell_type": "markdown",
   "id": "64bd7646-fe34-4594-9c4c-be96345ddb55",
   "metadata": {},
   "source": [
    "Генераторная функция сама работает по протоколу итерации (каждый next() заставляет срабатывать yield и возвращать новое значение), поэтому мы и можем так сократить код. \n",
    "\n",
    "Казалось бы, для чего нам тогда вариант 2? Но для некоторых сложных случаев (и для большей гибкости работы) он все равно может пригождаться. "
   ]
  },
  {
   "cell_type": "markdown",
   "id": "f230bd6e-f1dc-40f4-a625-970eb66426df",
   "metadata": {},
   "source": [
    "### Contains, iter, getitem: приоритеты"
   ]
  },
  {
   "cell_type": "markdown",
   "id": "3094d7ad-ab4f-473d-900a-aa55ed202ca7",
   "metadata": {},
   "source": [
    "Все эти методы (+ метод \\_\\_contains\\_\\_, который вызывается при проверке членства in) могут частично друг друга взаимозаменять: так, если определен getitem, мы автоматически сможем и итерироваться в цикле for, а если определен хотя бы один из getitem & iter, то будет работать проверка членства. Но питон, естественно, старается использовать \"правильные\" методы, поэтому если у вас в классе определены все три, для индексирования питон охотнее будет использовать getitem, для итерации - iter, для проверки членства - contains. "
   ]
  },
  {
   "cell_type": "markdown",
   "id": "145a4cdd-7fef-4792-8e5e-4de2dbe6d34d",
   "metadata": {},
   "source": [
    "Последнее, о чем мы успели весьма бегло поговорить - это метод \\_\\_call\\_\\_. Как легко догадаться, его перегрузка позволяет вызывать экземпляр класса, будто функцию:"
   ]
  },
  {
   "cell_type": "code",
   "execution_count": 1,
   "id": "c20027e3-fa85-49f4-a9fa-03b739d7516a",
   "metadata": {},
   "outputs": [],
   "source": [
    "class Callee:\n",
    "    def __call__(self):\n",
    "        print('Called')"
   ]
  },
  {
   "cell_type": "code",
   "execution_count": 2,
   "id": "3f0d74b0-2b3d-49b2-a546-60c2b2638771",
   "metadata": {},
   "outputs": [
    {
     "name": "stdout",
     "output_type": "stream",
     "text": [
      "Called\n"
     ]
    }
   ],
   "source": [
    "Callee()()"
   ]
  },
  {
   "cell_type": "markdown",
   "id": "642d134b-e0c6-40ee-8491-f3093080af92",
   "metadata": {},
   "source": [
    "Именно этот метод и вызывает артефакт с двумя скобочками при одновременном создании экземпляра класса и его вызове. Встречается, как я уже говорила, в pytorch на постоянной основе (с функциями активации и некоторыми другими вещами). "
   ]
  }
 ],
 "metadata": {
  "kernelspec": {
   "display_name": "Python 3 (ipykernel)",
   "language": "python",
   "name": "python3"
  },
  "language_info": {
   "codemirror_mode": {
    "name": "ipython",
    "version": 3
   },
   "file_extension": ".py",
   "mimetype": "text/x-python",
   "name": "python",
   "nbconvert_exporter": "python",
   "pygments_lexer": "ipython3",
   "version": "3.11.5"
  }
 },
 "nbformat": 4,
 "nbformat_minor": 5
}
