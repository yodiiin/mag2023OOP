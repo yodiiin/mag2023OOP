{
 "cells": [
  {
   "cell_type": "markdown",
   "metadata": {},
   "source": [
    " #### Варианты перегрузки метода экземпляра класса:"
   ]
  },
  {
   "cell_type": "code",
   "execution_count": null,
   "metadata": {},
   "outputs": [],
   "source": [
    "class Worker:\n",
    "    def __init__(self, name, salary):\n",
    "        self.name = name\n",
    "        self.salary = salary\n",
    "\n",
    "class Manager(Worker):\n",
    "    def __init__(self, name, salary, workers):\n",
    "        Worker.__init__(name, salary)\n",
    "        self.workers = workers"
   ]
  },
  {
   "cell_type": "code",
   "execution_count": null,
   "metadata": {},
   "outputs": [],
   "source": [
    "class Worker:\n",
    "    def __init__(self, name, salary):\n",
    "        self.name = name\n",
    "        self.salary = salary\n",
    "\n",
    "class Manager(Worker):\n",
    "    def __init__(self, name, salary, workers):\n",
    "        super().__init__(name, salary) # self не передается\n",
    "        self.workers = workers"
   ]
  },
  {
   "cell_type": "markdown",
   "metadata": {},
   "source": [
    "super() любят не все..."
   ]
  },
  {
   "cell_type": "markdown",
   "metadata": {},
   "source": [
    "### Нарезание"
   ]
  },
  {
   "cell_type": "code",
   "execution_count": null,
   "metadata": {},
   "outputs": [],
   "source": [
    "A = [1, 2, 3]\n",
    "A[1:2]\n",
    "A[::-1] # slice(0, len(A), -1)"
   ]
  },
  {
   "cell_type": "code",
   "execution_count": 25,
   "metadata": {},
   "outputs": [],
   "source": [
    "class NoBookException(Exception):\n",
    "    pass\n",
    "\n",
    "class Library:\n",
    "    def __init__(self, books):\n",
    "        self.books = books\n",
    "        # self.idx = -1\n",
    "    \n",
    "    # реализуем индексирование: обращаемся к книжке из библиотеки по её индексу\n",
    "    def __getitem__(self, index): # вызывается когда пишем квадратные скобки\n",
    "        # if isinstance(index, int):\n",
    "        #     return self.books[index]\n",
    "        # else:\n",
    "        #     return self.books[index.start:index.stop:index.step]\n",
    "        if isinstance(index, str):\n",
    "            return [b for b in self.books if b.index == index]\n",
    "        elif isinstance(index, int):\n",
    "            return self.books[index]\n",
    "        raise NoBookException\n",
    "    \n",
    "    def __contains__(self, book):\n",
    "        return book in self.books\n",
    "    \n",
    "    def __iter__(self):\n",
    "        return self\n",
    "    \n",
    "    # def __next__(self):\n",
    "    #     if self.idx == len(self.books) - 1:\n",
    "    #         raise StopIteration\n",
    "    #     self.idx += 1\n",
    "    #     return self.books[self.idx]\n",
    "        \n",
    "class LibraryIterator:\n",
    "    def __init__(self, books):\n",
    "        self.books = books\n",
    "        self.idx = -1\n",
    "    \n",
    "    def __next__(self):\n",
    "        \n",
    "\n",
    "\n",
    "class Book:\n",
    "    def __init__(self, index, title, author):\n",
    "        self.index = index\n",
    "        self.title = title\n",
    "        self.author = author\n",
    "    \n",
    "    def __repr__(self):\n",
    "        return f\"{self.author}: {self.title}\""
   ]
  },
  {
   "cell_type": "code",
   "execution_count": 29,
   "metadata": {},
   "outputs": [],
   "source": [
    "l = Library([Book('A', 'Tender is the Night', 'Fitzgerald'), Book('B', 'Преступление и наказание', 'Достоевский')])"
   ]
  },
  {
   "cell_type": "code",
   "execution_count": 8,
   "metadata": {},
   "outputs": [
    {
     "data": {
      "text/plain": [
       "Fitzgerald: Tender is the Night"
      ]
     },
     "execution_count": 8,
     "metadata": {},
     "output_type": "execute_result"
    }
   ],
   "source": [
    "l[0]"
   ]
  },
  {
   "cell_type": "code",
   "execution_count": 30,
   "metadata": {},
   "outputs": [
    {
     "name": "stdout",
     "output_type": "stream",
     "text": [
      "Fitzgerald: Tender is the Night\n",
      "Достоевский: Преступление и наказание\n"
     ]
    }
   ],
   "source": [
    "for i in l:\n",
    "    print(i)"
   ]
  },
  {
   "cell_type": "code",
   "execution_count": 10,
   "metadata": {},
   "outputs": [
    {
     "data": {
      "text/plain": [
       "False"
      ]
     },
     "execution_count": 10,
     "metadata": {},
     "output_type": "execute_result"
    }
   ],
   "source": [
    "Book('A', 'Tender is the Night', 'Fitzgerald') in l"
   ]
  },
  {
   "cell_type": "markdown",
   "metadata": {},
   "source": [
    "### Протокол итерации"
   ]
  },
  {
   "cell_type": "code",
   "execution_count": 14,
   "metadata": {},
   "outputs": [],
   "source": [
    "A = [1, 2, 3]"
   ]
  },
  {
   "cell_type": "code",
   "execution_count": 13,
   "metadata": {},
   "outputs": [
    {
     "name": "stdout",
     "output_type": "stream",
     "text": [
      "1\n",
      "2\n",
      "3\n"
     ]
    }
   ],
   "source": [
    "for elem in A:\n",
    "    print(elem)"
   ]
  },
  {
   "cell_type": "code",
   "execution_count": 39,
   "metadata": {},
   "outputs": [],
   "source": [
    "class Range:\n",
    "    def __init__(self, start, stop):\n",
    "        self.start = start\n",
    "        self.value = start - 1\n",
    "        self.stop = stop - 1\n",
    "    \n",
    "    def __iter__(self):\n",
    "        return RangeIterator(self.value, self.stop)\n",
    "\n",
    "class RangeIterator:\n",
    "    def __init__(self, start, stop):\n",
    "        self.start = start\n",
    "        self.value = start\n",
    "        self.stop = stop\n",
    "    \n",
    "    # def __iter__(self):\n",
    "    #     return self # из-за того что мы возвращаем сам объект обратно, мы не можем повторно итерироваться\n",
    "    \n",
    "    def __next__(self):\n",
    "        if self.value == self.stop:\n",
    "            raise StopIteration\n",
    "        self.value += 1\n",
    "        return self.value"
   ]
  },
  {
   "cell_type": "code",
   "execution_count": 40,
   "metadata": {},
   "outputs": [],
   "source": [
    "r = Range(1, 5)\n",
    "# r.value = 0, r.stop = 4"
   ]
  },
  {
   "cell_type": "code",
   "execution_count": 42,
   "metadata": {},
   "outputs": [
    {
     "name": "stdout",
     "output_type": "stream",
     "text": [
      "1\n",
      "2\n",
      "3\n",
      "4\n"
     ]
    }
   ],
   "source": [
    "for i in r:\n",
    "    print(i)"
   ]
  },
  {
   "cell_type": "markdown",
   "metadata": {},
   "source": [
    "#### Генераторы"
   ]
  },
  {
   "cell_type": "code",
   "execution_count": 43,
   "metadata": {},
   "outputs": [],
   "source": [
    "def gen(start, stop):\n",
    "    for i in range(start, stop):\n",
    "        yield i # срабатывает при вызове next()"
   ]
  },
  {
   "cell_type": "code",
   "execution_count": 44,
   "metadata": {},
   "outputs": [
    {
     "data": {
      "text/plain": [
       "<generator object gen at 0x000001CF2C4D3220>"
      ]
     },
     "execution_count": 44,
     "metadata": {},
     "output_type": "execute_result"
    }
   ],
   "source": [
    "g = gen(1, 5)\n",
    "g"
   ]
  },
  {
   "cell_type": "code",
   "execution_count": 49,
   "metadata": {},
   "outputs": [
    {
     "ename": "StopIteration",
     "evalue": "",
     "output_type": "error",
     "traceback": [
      "\u001b[1;31m---------------------------------------------------------------------------\u001b[0m",
      "\u001b[1;31mStopIteration\u001b[0m                             Traceback (most recent call last)",
      "Cell \u001b[1;32mIn[49], line 1\u001b[0m\n\u001b[1;32m----> 1\u001b[0m \u001b[38;5;28;43mnext\u001b[39;49m\u001b[43m(\u001b[49m\u001b[43mg\u001b[49m\u001b[43m)\u001b[49m\n",
      "\u001b[1;31mStopIteration\u001b[0m: "
     ]
    }
   ],
   "source": [
    "next(g)"
   ]
  },
  {
   "cell_type": "code",
   "execution_count": null,
   "metadata": {},
   "outputs": [],
   "source": []
  }
 ],
 "metadata": {
  "kernelspec": {
   "display_name": "Python 3",
   "language": "python",
   "name": "python3"
  },
  "language_info": {
   "codemirror_mode": {
    "name": "ipython",
    "version": 3
   },
   "file_extension": ".py",
   "mimetype": "text/x-python",
   "name": "python",
   "nbconvert_exporter": "python",
   "pygments_lexer": "ipython3",
   "version": "3.12.4"
  }
 },
 "nbformat": 4,
 "nbformat_minor": 2
}
