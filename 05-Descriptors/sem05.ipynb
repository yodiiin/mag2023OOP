{
 "cells": [
  {
   "cell_type": "markdown",
   "id": "c6626c3b-57c9-4f70-8590-86e969a165db",
   "metadata": {},
   "source": [
    "#### Задача 1. \n",
    "\n",
    "Перепишите один из наших предыдущих классов (лингвиста, компьютерного лингвиста или программиста) таким образом, чтобы у него были два атрибута, управляемых дескриптором: зарплата и количество рабочих часов в неделю. Дескриптор должен не давать устанавливать зарплату меньше какого-то значения (можно поругаться), а количество рабочих часов - больше положенного."
   ]
  },
  {
   "cell_type": "code",
   "execution_count": 15,
   "id": "8e931092",
   "metadata": {},
   "outputs": [],
   "source": [
    "from time import sleep"
   ]
  },
  {
   "cell_type": "code",
   "execution_count": 52,
   "id": "c1378f79-6479-4e7d-ba5f-9d84d3f58937",
   "metadata": {},
   "outputs": [],
   "source": [
    "class SalaryDescriptor:\n",
    "    def __init__(self):\n",
    "        self.min_salary = 500\n",
    "    \n",
    "    def __get__(self, instance, owner=None):\n",
    "        return instance.__dict__.get('_salary')\n",
    "    \n",
    "    def __set__(self, instance, value):\n",
    "        # while True:\n",
    "        #     try:\n",
    "                if value < self.min_salary:\n",
    "                    raise ValueError(f\"Зарплата лингвиста не может быть установлена меньше {value}!\")\n",
    "                instance.__dict__['_salary'] = value\n",
    "            #     break\n",
    "            # except ValueError as e:\n",
    "            #     print(e)\n",
    "            #     value = float(input(\"Введите корректное значение зарпалты (не меньше 500): \"))\n",
    "\n",
    "\n",
    "class WorkingHoursDescriptor:\n",
    "    def __init__(self):\n",
    "        self.max_hours = 40\n",
    "    \n",
    "    def __get__(self, instance, owner=None):\n",
    "        return instance.__dict__.get('_hours')\n",
    "    \n",
    "    def __set__(self, instance, value):\n",
    "        # while True:\n",
    "        #     try:\n",
    "                if value > self.max_hours:\n",
    "                    raise ValueError(f\"Лингвист не может работать больше {value} ч. в неделю!\")\n",
    "                instance.__dict__['_hours'] = value\n",
    "            # except ValueError as e:\n",
    "            #     print(e)\n",
    "            #     value = float(input(\"Введите корректное значение рабочих часов в неделю (не больше 40): \"))\n",
    "            \n",
    "\n",
    "class Linguist:\n",
    "    salary = SalaryDescriptor()\n",
    "    working_hours = WorkingHoursDescriptor()\n",
    "\n",
    "    def __init__(self, name, surname, salary=500, working_hours=40):\n",
    "        self.name = name\n",
    "        self.surname = surname\n",
    "        self.salary = salary\n",
    "        self.working_hours = working_hours\n",
    "        self.bankaccount = 0\n",
    "        self.publications = []\n",
    "    \n",
    "    def __repr__(self):\n",
    "        return f\"Linguist({self.name}, {self.surname}, salary={self.salary}, working_hours={self.working_hours})\"\n",
    "    \n",
    "    def work(self, hours, name_of_publ):\n",
    "        print('Working...')\n",
    "        sleep(hours)\n",
    "        self.bankaccount += self.salary * hours\n",
    "        self.publications.append(name_of_publ)\n",
    "        print(f'{self.name} {self.surname} has published a paper {name_of_publ} in Voprosy Yazykoznaniya')\n",
    "\n",
    "    def readlingpapers(self, lingpaper):\n",
    "        print('Reading...')\n",
    "        sleep(len(lingpaper) // 10)\n",
    "        print(f'{self.name} {self.surname} has read {lingpaper}')\n",
    "    \n",
    "    def show_bankaccount(self):\n",
    "        print(f'{self.name} has {self.bankaccount}$\\n')"
   ]
  },
  {
   "cell_type": "code",
   "execution_count": 53,
   "id": "1c4f272f",
   "metadata": {},
   "outputs": [
    {
     "data": {
      "text/plain": [
       "Linguist(Вася, Пупкин, salary=500, working_hours=40)"
      ]
     },
     "execution_count": 53,
     "metadata": {},
     "output_type": "execute_result"
    }
   ],
   "source": [
    "a = Linguist('Вася', 'Пупкин')\n",
    "a"
   ]
  },
  {
   "cell_type": "code",
   "execution_count": 54,
   "id": "2752fa86",
   "metadata": {},
   "outputs": [
    {
     "ename": "ValueError",
     "evalue": "Зарплата лингвиста не может быть установлена меньше 300!",
     "output_type": "error",
     "traceback": [
      "\u001b[1;31m---------------------------------------------------------------------------\u001b[0m",
      "\u001b[1;31mValueError\u001b[0m                                Traceback (most recent call last)",
      "Cell \u001b[1;32mIn[54], line 1\u001b[0m\n\u001b[1;32m----> 1\u001b[0m \u001b[43ma\u001b[49m\u001b[38;5;241;43m.\u001b[39;49m\u001b[43msalary\u001b[49m \u001b[38;5;241m=\u001b[39m \u001b[38;5;241m300\u001b[39m\n",
      "Cell \u001b[1;32mIn[52], line 12\u001b[0m, in \u001b[0;36mSalaryDescriptor.__set__\u001b[1;34m(self, instance, value)\u001b[0m\n\u001b[0;32m      8\u001b[0m \u001b[38;5;28;01mdef\u001b[39;00m \u001b[38;5;21m__set__\u001b[39m(\u001b[38;5;28mself\u001b[39m, instance, value):\n\u001b[0;32m      9\u001b[0m     \u001b[38;5;66;03m# while True:\u001b[39;00m\n\u001b[0;32m     10\u001b[0m     \u001b[38;5;66;03m#     try:\u001b[39;00m\n\u001b[0;32m     11\u001b[0m             \u001b[38;5;28;01mif\u001b[39;00m value \u001b[38;5;241m<\u001b[39m \u001b[38;5;28mself\u001b[39m\u001b[38;5;241m.\u001b[39mmin_salary:\n\u001b[1;32m---> 12\u001b[0m                 \u001b[38;5;28;01mraise\u001b[39;00m \u001b[38;5;167;01mValueError\u001b[39;00m(\u001b[38;5;124mf\u001b[39m\u001b[38;5;124m\"\u001b[39m\u001b[38;5;124mЗарплата лингвиста не может быть установлена меньше \u001b[39m\u001b[38;5;132;01m{\u001b[39;00mvalue\u001b[38;5;132;01m}\u001b[39;00m\u001b[38;5;124m!\u001b[39m\u001b[38;5;124m\"\u001b[39m)\n\u001b[0;32m     13\u001b[0m             instance\u001b[38;5;241m.\u001b[39m\u001b[38;5;18m__dict__\u001b[39m[\u001b[38;5;124m'\u001b[39m\u001b[38;5;124m_salary\u001b[39m\u001b[38;5;124m'\u001b[39m] \u001b[38;5;241m=\u001b[39m value\n",
      "\u001b[1;31mValueError\u001b[0m: Зарплата лингвиста не может быть установлена меньше 300!"
     ]
    }
   ],
   "source": [
    "a.salary = 300"
   ]
  },
  {
   "cell_type": "code",
   "execution_count": 55,
   "id": "2aea9bf0",
   "metadata": {},
   "outputs": [
    {
     "data": {
      "text/plain": [
       "Linguist(Вася, Пупкин, salary=700, working_hours=40)"
      ]
     },
     "execution_count": 55,
     "metadata": {},
     "output_type": "execute_result"
    }
   ],
   "source": [
    "a.salary = 700\n",
    "a"
   ]
  },
  {
   "cell_type": "code",
   "execution_count": 56,
   "id": "512a5848",
   "metadata": {},
   "outputs": [
    {
     "data": {
      "text/plain": [
       "Linguist(Вася, Пупкин, salary=700, working_hours=35)"
      ]
     },
     "execution_count": 56,
     "metadata": {},
     "output_type": "execute_result"
    }
   ],
   "source": [
    "a.working_hours = 35\n",
    "a"
   ]
  },
  {
   "cell_type": "code",
   "execution_count": 57,
   "id": "5fed3197",
   "metadata": {},
   "outputs": [
    {
     "ename": "ValueError",
     "evalue": "Лингвист не может работать больше 41 ч. в неделю!",
     "output_type": "error",
     "traceback": [
      "\u001b[1;31m---------------------------------------------------------------------------\u001b[0m",
      "\u001b[1;31mValueError\u001b[0m                                Traceback (most recent call last)",
      "Cell \u001b[1;32mIn[57], line 1\u001b[0m\n\u001b[1;32m----> 1\u001b[0m \u001b[43ma\u001b[49m\u001b[38;5;241;43m.\u001b[39;49m\u001b[43mworking_hours\u001b[49m \u001b[38;5;241m=\u001b[39m \u001b[38;5;241m41\u001b[39m\n",
      "Cell \u001b[1;32mIn[52], line 31\u001b[0m, in \u001b[0;36mWorkingHoursDescriptor.__set__\u001b[1;34m(self, instance, value)\u001b[0m\n\u001b[0;32m     27\u001b[0m \u001b[38;5;28;01mdef\u001b[39;00m \u001b[38;5;21m__set__\u001b[39m(\u001b[38;5;28mself\u001b[39m, instance, value):\n\u001b[0;32m     28\u001b[0m     \u001b[38;5;66;03m# while True:\u001b[39;00m\n\u001b[0;32m     29\u001b[0m     \u001b[38;5;66;03m#     try:\u001b[39;00m\n\u001b[0;32m     30\u001b[0m             \u001b[38;5;28;01mif\u001b[39;00m value \u001b[38;5;241m>\u001b[39m \u001b[38;5;28mself\u001b[39m\u001b[38;5;241m.\u001b[39mmax_hours:\n\u001b[1;32m---> 31\u001b[0m                 \u001b[38;5;28;01mraise\u001b[39;00m \u001b[38;5;167;01mValueError\u001b[39;00m(\u001b[38;5;124mf\u001b[39m\u001b[38;5;124m\"\u001b[39m\u001b[38;5;124mЛингвист не может работать больше \u001b[39m\u001b[38;5;132;01m{\u001b[39;00mvalue\u001b[38;5;132;01m}\u001b[39;00m\u001b[38;5;124m ч. в неделю!\u001b[39m\u001b[38;5;124m\"\u001b[39m)\n\u001b[0;32m     32\u001b[0m             instance\u001b[38;5;241m.\u001b[39m\u001b[38;5;18m__dict__\u001b[39m[\u001b[38;5;124m'\u001b[39m\u001b[38;5;124m_hours\u001b[39m\u001b[38;5;124m'\u001b[39m] \u001b[38;5;241m=\u001b[39m value\n",
      "\u001b[1;31mValueError\u001b[0m: Лингвист не может работать больше 41 ч. в неделю!"
     ]
    }
   ],
   "source": [
    "a.working_hours = 41"
   ]
  },
  {
   "cell_type": "code",
   "execution_count": 58,
   "id": "c1ee8806",
   "metadata": {},
   "outputs": [
    {
     "data": {
      "text/plain": [
       "Linguist(Вася, Пупкин, salary=700, working_hours=25)"
      ]
     },
     "execution_count": 58,
     "metadata": {},
     "output_type": "execute_result"
    }
   ],
   "source": [
    "a.working_hours = 25\n",
    "a"
   ]
  },
  {
   "cell_type": "code",
   "execution_count": 49,
   "id": "51311a12",
   "metadata": {},
   "outputs": [
    {
     "data": {
      "text/plain": [
       "{'name': 'Вася',\n",
       " 'surname': 'Пупкин',\n",
       " '_salary': 700,\n",
       " '_hours': 35,\n",
       " 'bankaccount': 0,\n",
       " 'publications': []}"
      ]
     },
     "execution_count": 49,
     "metadata": {},
     "output_type": "execute_result"
    }
   ],
   "source": [
    "vars(a)"
   ]
  },
  {
   "cell_type": "markdown",
   "id": "f79de710-5452-4884-8962-c571c9e5de60",
   "metadata": {},
   "source": [
    "#### Задача 2. \n",
    "\n",
    "Напишите скрипт, который будет пытаться открыть файл и считать из него текст. Отлавливаться должна ошибка UnicodeDecodeError. Файл обязательно должен закрываться. (То есть, нужно его открыть, попробовать с него что-нибудь прочитать, если получилось - что-нибудь сделать с прочитанным, и в любом случае файл закрыть)."
   ]
  },
  {
   "cell_type": "code",
   "execution_count": 59,
   "id": "811ee58e-8593-435b-aef9-d3ecc424edf3",
   "metadata": {},
   "outputs": [
    {
     "name": "stdout",
     "output_type": "stream",
     "text": [
      "Ok\n",
      "------------------\n",
      "Wrong encoding\n"
     ]
    }
   ],
   "source": [
    "file_path = \"uroki_fr.txt\"\n",
    "try:\n",
    "    with open(file_path, 'r', encoding='utf-8') as file:\n",
    "        print('Ok\\n------------------')\n",
    "        print(file.read())\n",
    "except UnicodeDecodeError:\n",
    "    print('Wrong encoding')"
   ]
  },
  {
   "cell_type": "markdown",
   "id": "4e783495-f91f-458e-9723-1ed83b90beeb",
   "metadata": {},
   "source": [
    "#### Задача 3. \n",
    "\n",
    "Перепишите задачу 1 таким образом, чтобы при попытке установить нелегальное значение атрибута возникало исключение ValueError с вашим текстом об ошибке. "
   ]
  },
  {
   "cell_type": "code",
   "execution_count": null,
   "id": "e8bbc4e9-4b7c-44d9-9325-ae3d8ee4e994",
   "metadata": {},
   "outputs": [],
   "source": [
    "# your code here"
   ]
  },
  {
   "cell_type": "markdown",
   "id": "21b6624b-2f75-4a85-a02d-eefdc83e14e5",
   "metadata": {},
   "source": [
    "#### Задача 4. \n",
    "\n",
    "Добавьте к третьей задаче код, который будет перехватывать ваше исключение и требовать ввести правильное значение (в цикле, например). "
   ]
  },
  {
   "cell_type": "code",
   "execution_count": null,
   "id": "5db03043-480c-4905-b3ce-7515b93d419a",
   "metadata": {},
   "outputs": [],
   "source": [
    "# your code here"
   ]
  }
 ],
 "metadata": {
  "kernelspec": {
   "display_name": "Python 3",
   "language": "python",
   "name": "python3"
  },
  "language_info": {
   "codemirror_mode": {
    "name": "ipython",
    "version": 3
   },
   "file_extension": ".py",
   "mimetype": "text/x-python",
   "name": "python",
   "nbconvert_exporter": "python",
   "pygments_lexer": "ipython3",
   "version": "3.12.4"
  }
 },
 "nbformat": 4,
 "nbformat_minor": 5
}
