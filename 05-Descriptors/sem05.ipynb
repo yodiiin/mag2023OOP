{
 "cells": [
  {
   "cell_type": "markdown",
   "id": "c6626c3b-57c9-4f70-8590-86e969a165db",
   "metadata": {},
   "source": [
    "#### Задача 1. \n",
    "\n",
    "Перепишите один из наших предыдущих классов (лингвиста, компьютерного лингвиста или программиста) таким образом, чтобы у него были два атрибута, управляемых дескриптором: зарплата и количество рабочих часов в неделю. Дескриптор должен не давать устанавливать зарплату меньше какого-то значения (можно поругаться), а количество рабочих часов - больше положенного. "
   ]
  },
  {
   "cell_type": "code",
   "execution_count": null,
   "id": "c1378f79-6479-4e7d-ba5f-9d84d3f58937",
   "metadata": {},
   "outputs": [],
   "source": [
    "# your code here"
   ]
  },
  {
   "cell_type": "markdown",
   "id": "f79de710-5452-4884-8962-c571c9e5de60",
   "metadata": {},
   "source": [
    "#### Задача 2. \n",
    "\n",
    "Напишите скрипт, который будет пытаться открыть файл и считать из него текст. Отлавливаться должна ошибка UnicodeDecodeError. Файл обязательно должен закрываться. (То есть, нужно его открыть, попробовать с него что-нибудь прочитать, если получилось - что-нибудь сделать с прочитанным, и в любом случае файл закрыть). "
   ]
  },
  {
   "cell_type": "code",
   "execution_count": null,
   "id": "811ee58e-8593-435b-aef9-d3ecc424edf3",
   "metadata": {},
   "outputs": [],
   "source": [
    "# your code here"
   ]
  },
  {
   "cell_type": "markdown",
   "id": "4e783495-f91f-458e-9723-1ed83b90beeb",
   "metadata": {},
   "source": [
    "#### Задача 3. \n",
    "\n",
    "Перепишите задачу 1 таким образом, чтобы при попытке установить нелегальное значение атрибута возникало исключение ValueError с вашим текстом об ошибке. "
   ]
  },
  {
   "cell_type": "code",
   "execution_count": null,
   "id": "e8bbc4e9-4b7c-44d9-9325-ae3d8ee4e994",
   "metadata": {},
   "outputs": [],
   "source": [
    "# your code here"
   ]
  },
  {
   "cell_type": "markdown",
   "id": "21b6624b-2f75-4a85-a02d-eefdc83e14e5",
   "metadata": {},
   "source": [
    "#### Задача 4. \n",
    "\n",
    "Добавьте к третьей задаче код, который будет перехватывать ваше исключение и требовать ввести правильное значение (в цикле, например). "
   ]
  },
  {
   "cell_type": "code",
   "execution_count": null,
   "id": "5db03043-480c-4905-b3ce-7515b93d419a",
   "metadata": {},
   "outputs": [],
   "source": [
    "# your code here"
   ]
  }
 ],
 "metadata": {
  "kernelspec": {
   "display_name": "Python 3 (ipykernel)",
   "language": "python",
   "name": "python3"
  },
  "language_info": {
   "codemirror_mode": {
    "name": "ipython",
    "version": 3
   },
   "file_extension": ".py",
   "mimetype": "text/x-python",
   "name": "python",
   "nbconvert_exporter": "python",
   "pygments_lexer": "ipython3",
   "version": "3.11.5"
  }
 },
 "nbformat": 4,
 "nbformat_minor": 5
}
