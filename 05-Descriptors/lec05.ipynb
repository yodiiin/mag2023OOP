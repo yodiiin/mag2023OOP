{
 "cells": [
  {
   "cell_type": "markdown",
   "id": "4cd60e90-7c78-4465-826a-7427b26226a7",
   "metadata": {},
   "source": [
    "## Дескрипторы. Исключения. "
   ]
  },
  {
   "cell_type": "markdown",
   "id": "6a7378fd-ab99-40e9-b38c-cad93b8e1f84",
   "metadata": {},
   "source": [
    "Итак, напоминаю: дескриптор - это отдельный класс, экземпляр которого пристегивается к нашему классу в качестве статического атрибута. Что делает дескриптор:\n",
    "\n",
    "- имплементирует протокол дескриптора (Descriptor Protocol) \n",
    "- приписывается атрибуту\n",
    "\n",
    "То есть, дескриптор может переопределять следующие методы:\n",
    "\n",
    "    __get__(self, instance, owner)\n",
    "    __set__(self, instance, value)\n",
    "    __delete__(self, instance)\n",
    "    __set_name__(self, owner, name)\n",
    "    \n",
    "Что эти методы делают и когда они вызываются:"
   ]
  },
  {
   "cell_type": "code",
   "execution_count": 37,
   "id": "0d91cbf2-6caf-41c9-80e8-5dfd3d6a08c9",
   "metadata": {
    "colab": {
     "base_uri": "https://localhost:8080/"
    },
    "executionInfo": {
     "elapsed": 5,
     "status": "ok",
     "timestamp": 1665062126609,
     "user": {
      "displayName": "Alexandra Ivoylova",
      "userId": "06069991353189522669"
     },
     "user_tz": -180
    },
    "id": "wnYZGEdTQtXG",
    "outputId": "9f050b91-2adb-42bd-97eb-34bda118bdcf"
   },
   "outputs": [
    {
     "name": "stdout",
     "output_type": "stream",
     "text": [
      "__init__\n",
      "__init__\n",
      "__set_name__(owner=<class '__main__.A'>, name=a)\n",
      "__set_name__(owner=<class '__main__.A'>, name=b)\n"
     ]
    }
   ],
   "source": [
    "class Descriptors:\n",
    "  def __init__(self):\n",
    "    print('__init__')\n",
    "    self.name = 42\n",
    "  def __set_name__(self, owner, name):\n",
    "    \"\"\"Вызывается при создании экземпляра класса, когда мы впервые узнаем, \n",
    "    что у нас есть атрибут с именем name, и приписываем его нашему классу\"\"\"\n",
    "    print(f'__set_name__(owner={owner}, name={name})')\n",
    "    self.name = name  # тут можно сразу его и задать\n",
    "  def __get__(self, instance, owner=None):\n",
    "    \"\"\"При запрашивании атрибута у экземпляра класса\"\"\"\n",
    "    print(f'__get__(instance={instance}, owner={owner})')\n",
    "    return instance.__dict__.get(self.name)\n",
    "  def __set__(self, instance, value):\n",
    "        \"\"\"При устанавливании атрибута в виде instance.name = value\"\"\"\n",
    "    if self.name == 'a':\n",
    "      print('a')\n",
    "    instance.__dict__[self.name] = value\n",
    "  def __delete__(self, instance):\n",
    "    \"\"\"При удалении атрибута\"\"\"\n",
    "    print(f'__delete__(instance={instance})')\n",
    "    del instance.__dict__[self.name]\n",
    "\n",
    "class A:\n",
    "  a = Descriptors()\n",
    "  b = Descriptors()\n",
    "  def __repr__(self):\n",
    "    return 'A()'\n",
    "\n",
    "class B(A):\n",
    "  def __repr__(self):\n",
    "    return 'B()'"
   ]
  },
  {
   "cell_type": "markdown",
   "id": "474951c3-b073-4cd3-bb82-10b5d5a350ed",
   "metadata": {},
   "source": [
    "Для чего можно использовать дескрипторы? Например, для создания атрибутов, которые нельзя перезаписывать:"
   ]
  },
  {
   "cell_type": "code",
   "execution_count": 40,
   "id": "6dfeca4c-bab7-4891-9283-8c327ce87aa5",
   "metadata": {
    "executionInfo": {
     "elapsed": 416,
     "status": "ok",
     "timestamp": 1665062920096,
     "user": {
      "displayName": "Alexandra Ivoylova",
      "userId": "06069991353189522669"
     },
     "user_tz": -180
    },
    "id": "Rp6rg-GEeYqq"
   },
   "outputs": [],
   "source": [
    "class ReadOnlyAttribute:\n",
    "  def __init__(self, value):\n",
    "    self.value = value\n",
    "  def __set_name__(self, owner, name):\n",
    "    self.name = name\n",
    "  def __get__(self, instance, owner=None):\n",
    "    return self.value\n",
    "  def __set__(self, instance, value):\n",
    "    raise AttributeError(f'{self.name} is read-only')\n",
    "\n",
    "class A:\n",
    "  a = ReadOnlyAttribute(42)"
   ]
  },
  {
   "cell_type": "code",
   "execution_count": 41,
   "id": "4619d0af-164c-4490-8f8b-cc145affef84",
   "metadata": {
    "executionInfo": {
     "elapsed": 3,
     "status": "ok",
     "timestamp": 1665062927420,
     "user": {
      "displayName": "Alexandra Ivoylova",
      "userId": "06069991353189522669"
     },
     "user_tz": -180
    },
    "id": "5v379K59e-Wf"
   },
   "outputs": [],
   "source": [
    "ins = A()"
   ]
  },
  {
   "cell_type": "code",
   "execution_count": 42,
   "id": "a581934e-f274-424c-be1b-9a1245e759d2",
   "metadata": {
    "colab": {
     "base_uri": "https://localhost:8080/"
    },
    "executionInfo": {
     "elapsed": 7,
     "status": "ok",
     "timestamp": 1665062931689,
     "user": {
      "displayName": "Alexandra Ivoylova",
      "userId": "06069991353189522669"
     },
     "user_tz": -180
    },
    "id": "junzvfYQe_pf",
    "outputId": "9c32591b-9116-4b75-f015-5c412d9270b4"
   },
   "outputs": [
    {
     "data": {
      "text/plain": [
       "42"
      ]
     },
     "execution_count": 42,
     "metadata": {},
     "output_type": "execute_result"
    }
   ],
   "source": [
    "ins.a"
   ]
  },
  {
   "cell_type": "code",
   "execution_count": 43,
   "id": "ffe821a8-9c87-418f-be73-bd34d9dc256b",
   "metadata": {
    "colab": {
     "base_uri": "https://localhost:8080/",
     "height": 288
    },
    "executionInfo": {
     "elapsed": 7,
     "status": "error",
     "timestamp": 1665062936870,
     "user": {
      "displayName": "Alexandra Ivoylova",
      "userId": "06069991353189522669"
     },
     "user_tz": -180
    },
    "id": "GkW9ko1mfAb_",
    "outputId": "4ecf1725-9a82-48c7-e588-dc65689b534c"
   },
   "outputs": [
    {
     "ename": "AttributeError",
     "evalue": "ignored",
     "output_type": "error",
     "traceback": [
      "\u001b[0;31m---------------------------------------------------------------------------\u001b[0m",
      "\u001b[0;31mAttributeError\u001b[0m                            Traceback (most recent call last)",
      "\u001b[0;32m<ipython-input-43-c47a4723339b>\u001b[0m in \u001b[0;36m<module>\u001b[0;34m\u001b[0m\n\u001b[0;32m----> 1\u001b[0;31m \u001b[0mins\u001b[0m\u001b[0;34m.\u001b[0m\u001b[0ma\u001b[0m \u001b[0;34m=\u001b[0m \u001b[0;36m2\u001b[0m\u001b[0;34m\u001b[0m\u001b[0;34m\u001b[0m\u001b[0m\n\u001b[0m",
      "\u001b[0;32m<ipython-input-40-70cc7fb21431>\u001b[0m in \u001b[0;36m__set__\u001b[0;34m(self, instance, value)\u001b[0m\n\u001b[1;32m      7\u001b[0m     \u001b[0;32mreturn\u001b[0m \u001b[0mself\u001b[0m\u001b[0;34m.\u001b[0m\u001b[0mvalue\u001b[0m\u001b[0;34m\u001b[0m\u001b[0;34m\u001b[0m\u001b[0m\n\u001b[1;32m      8\u001b[0m   \u001b[0;32mdef\u001b[0m \u001b[0m__set__\u001b[0m\u001b[0;34m(\u001b[0m\u001b[0mself\u001b[0m\u001b[0;34m,\u001b[0m \u001b[0minstance\u001b[0m\u001b[0;34m,\u001b[0m \u001b[0mvalue\u001b[0m\u001b[0;34m)\u001b[0m\u001b[0;34m:\u001b[0m\u001b[0;34m\u001b[0m\u001b[0;34m\u001b[0m\u001b[0m\n\u001b[0;32m----> 9\u001b[0;31m     \u001b[0;32mraise\u001b[0m \u001b[0mAttributeError\u001b[0m\u001b[0;34m(\u001b[0m\u001b[0;34mf'{self.name} is read-only'\u001b[0m\u001b[0;34m)\u001b[0m\u001b[0;34m\u001b[0m\u001b[0;34m\u001b[0m\u001b[0m\n\u001b[0m\u001b[1;32m     10\u001b[0m \u001b[0;34m\u001b[0m\u001b[0m\n\u001b[1;32m     11\u001b[0m \u001b[0;32mclass\u001b[0m \u001b[0mA\u001b[0m\u001b[0;34m:\u001b[0m\u001b[0;34m\u001b[0m\u001b[0;34m\u001b[0m\u001b[0m\n",
      "\u001b[0;31mAttributeError\u001b[0m: a is read-only"
     ]
    }
   ],
   "source": [
    "ins.a = 2"
   ]
  },
  {
   "cell_type": "markdown",
   "id": "1edbfec1-9608-47f7-84c4-8af036e62758",
   "metadata": {},
   "source": [
    "Также дескрипторы бывают двух видов:\n",
    "\n",
    "- Data Descriptor (переопределяет set)\n",
    "- Non Data Descriptor (переопределяет только get)\n",
    "\n",
    "В чем разница:"
   ]
  },
  {
   "cell_type": "code",
   "execution_count": 50,
   "id": "d05137f5-19b8-48aa-8a4c-9dc937b6a88d",
   "metadata": {
    "executionInfo": {
     "elapsed": 302,
     "status": "ok",
     "timestamp": 1665063146525,
     "user": {
      "displayName": "Alexandra Ivoylova",
      "userId": "06069991353189522669"
     },
     "user_tz": -180
    },
    "id": "c7vzybR-fB6o"
   },
   "outputs": [],
   "source": [
    "class DataDesc:\n",
    "  def __set_name__(self, owner, name):\n",
    "    self.name = name\n",
    "  def __get__(self, instance, owner=None):\n",
    "    print('get method')\n",
    "    return instance.__dict__.get(self.name)\n",
    "  def __set__(self, instance, value):\n",
    "    print('Set method')\n",
    "    instance.__dict__[self.name] = value\n",
    "\n",
    "class NonDataDesc:\n",
    "  def __set_name__(self, owner, name):\n",
    "    self.name = name\n",
    "  def __get__(self, instance, owner=None):\n",
    "    print('get method')\n",
    "    return instance.__dict__.get(self.name)"
   ]
  },
  {
   "cell_type": "code",
   "execution_count": 51,
   "id": "3c4ec6cd-763a-4806-a045-58ee69fb3f92",
   "metadata": {
    "executionInfo": {
     "elapsed": 252,
     "status": "ok",
     "timestamp": 1665063148702,
     "user": {
      "displayName": "Alexandra Ivoylova",
      "userId": "06069991353189522669"
     },
     "user_tz": -180
    },
    "id": "Fg4hrIMRfgsj"
   },
   "outputs": [],
   "source": [
    "class Example:\n",
    "  a = DataDesc()\n",
    "  b = NonDataDesc()"
   ]
  },
  {
   "cell_type": "code",
   "execution_count": 57,
   "id": "4880ba99-1502-4c25-8f08-6b525b4e1057",
   "metadata": {
    "executionInfo": {
     "elapsed": 281,
     "status": "ok",
     "timestamp": 1665063229578,
     "user": {
      "displayName": "Alexandra Ivoylova",
      "userId": "06069991353189522669"
     },
     "user_tz": -180
    },
    "id": "8-0vq0nXfnZC"
   },
   "outputs": [],
   "source": [
    "e = Example()"
   ]
  },
  {
   "cell_type": "code",
   "execution_count": 61,
   "id": "135e7448-b920-41b8-9fd4-5dc83d68840f",
   "metadata": {
    "colab": {
     "base_uri": "https://localhost:8080/"
    },
    "executionInfo": {
     "elapsed": 257,
     "status": "ok",
     "timestamp": 1665063264622,
     "user": {
      "displayName": "Alexandra Ivoylova",
      "userId": "06069991353189522669"
     },
     "user_tz": -180
    },
    "id": "J0YIYaKrfpb4",
    "outputId": "8ca71bd5-96e1-4b8e-bc2e-6c43fbd6b803"
   },
   "outputs": [
    {
     "name": "stdout",
     "output_type": "stream",
     "text": [
      "get method\n"
     ]
    },
    {
     "data": {
      "text/plain": [
       "1"
      ]
     },
     "execution_count": 61,
     "metadata": {},
     "output_type": "execute_result"
    }
   ],
   "source": [
    "e.a"
   ]
  },
  {
   "cell_type": "code",
   "execution_count": 64,
   "id": "4d9cdd17-d062-4bee-bb22-49913f8ec124",
   "metadata": {
    "colab": {
     "base_uri": "https://localhost:8080/"
    },
    "executionInfo": {
     "elapsed": 280,
     "status": "ok",
     "timestamp": 1665063316616,
     "user": {
      "displayName": "Alexandra Ivoylova",
      "userId": "06069991353189522669"
     },
     "user_tz": -180
    },
    "id": "hjsUGXXDfqMB",
    "outputId": "58f51628-4413-4c0c-db38-0eda7811302a"
   },
   "outputs": [
    {
     "data": {
      "text/plain": [
       "{'a': 1, 'b': 1}"
      ]
     },
     "execution_count": 64,
     "metadata": {},
     "output_type": "execute_result"
    }
   ],
   "source": [
    "e.__dict__"
   ]
  },
  {
   "cell_type": "code",
   "execution_count": 62,
   "id": "5ade4bdc-d834-49a3-b23f-3f887ae54c4c",
   "metadata": {
    "executionInfo": {
     "elapsed": 7,
     "status": "ok",
     "timestamp": 1665063280101,
     "user": {
      "displayName": "Alexandra Ivoylova",
      "userId": "06069991353189522669"
     },
     "user_tz": -180
    },
    "id": "sxaFbxVCfq94"
   },
   "outputs": [],
   "source": [
    "e.b = 1"
   ]
  },
  {
   "cell_type": "markdown",
   "id": "cdbfbdba-322a-49cb-9011-5411c5836798",
   "metadata": {},
   "source": [
    "В момент, когда мы впервые обращаемся к атрибуту наших двух экземпляров, вызываются методы дескрипторов, потому что у обоих есть get. Но если мы попытаемся записать атрибут, то Data Descriptor вызовет свой метод, потому что у него он есть, а Non Data Descriptor потеряется и уступит место обычному протоколу, так что в дальнейшем его get перестанет работать для существующего атрибута. То есть, что будет делать питон:\n",
    "\n",
    "Мы обратились к атрибуту по синтаксису object.attr. Питон:\n",
    "\n",
    "- посмотрит, есть ли data дескриптор для этого атрибута;\n",
    "- если нет, то будет просто проверять object.\\_\\_dict\\_\\_ на наличие такого ключа;\n",
    "- если ключа там нет, только тогда проверит, а вдруг есть non data дескриптор. "
   ]
  },
  {
   "cell_type": "markdown",
   "id": "cfc27ac2-57ac-4821-ae68-191c79fe8d3a",
   "metadata": {},
   "source": [
    "Использование дескрипторов выгодно, если у нас есть несколько атрибутов, которыми мы хотим одинаково управлять. "
   ]
  },
  {
   "cell_type": "markdown",
   "id": "3232247f-bb5e-44f7-b549-b73d7cadc320",
   "metadata": {},
   "source": [
    "#### Еще пара слов о super()"
   ]
  },
  {
   "cell_type": "markdown",
   "id": "148af04d-c8be-46b1-8999-89e7f99f1a6e",
   "metadata": {},
   "source": [
    "Функция super() - неоднозначная; М. Лутц, например, считает, что она вообще вредная и лучше без нее. В общем и целом у нас три способа добраться до атрибутов и методов класса-родителя:\n",
    "\n",
    "1. Напрямую через его имя: Parent.method(self, \\*attrs)\n",
    "2. С помощью super без аргументов: super().method(\\*attrs)\n",
    "3. C помощь. super с аргументами: super(Child, self).method(\\*attrs)\n",
    "\n",
    "Обратите внимание, последний вариант будет искать метод method сразу в классе Parent!\n",
    "\n",
    "Так вот, в общем и целом использовать super() хорошо и полезно и все это делают, но когда у нас множественное наследование, мы с помощью super() иногда не можем добраться до методов того класса-родителя, который стоит в списке родителей не первым. \n",
    "\n",
    "Подробно про это можно почитать [здесь](https://realpython.com/python-super/). "
   ]
  },
  {
   "cell_type": "markdown",
   "id": "61c5b884-8cd1-4243-b5f9-a6e02d3926a9",
   "metadata": {},
   "source": [
    "### Исключения\n",
    "\n",
    "Во-первых, есть такая конструкция, как try-except:"
   ]
  },
  {
   "cell_type": "code",
   "execution_count": null,
   "id": "567db91c-ecff-478f-8de9-1689acb62444",
   "metadata": {
    "id": "zNd0KhRakifX"
   },
   "outputs": [],
   "source": [
    "a = int(input())\n",
    "try:\n",
    "  a += 2\n",
    "except Exception:  # except (IndexError, TypeError, ValueError):\n",
    "  print('String too short')\n",
    "else:\n",
    "  print('String long enough')\n",
    "finally:\n",
    "  print(a)\n",
    "  print('Script ended')\n"
   ]
  },
  {
   "cell_type": "markdown",
   "id": "6b5e8baf-4b32-45eb-805a-54a1032b718c",
   "metadata": {},
   "source": [
    "Обязательные ее части - только try и except. Как она устроена:\n",
    "\n",
    "1. try ставит маркер в том месте программы, где его вызвали, и запоминает ее состояние, а потом пытается выполнить те команды, которые написаны в его теле. \n",
    "2. Если команды внутри try вызвали ошибку, он откатывает на свой маркер и вызывает except. \n",
    "3. except смотрит, какое исключение вызвалось внутри try, и если оно указано в его аргументах, то выполняет то, что у него в теле. \n",
    "4. если ошибка не должна перехватываться except, питон ищет оператор try верхнего уровня (они бывают вложенные), а если не находит, то за работу беретс стандартный перехватчик исключений, с которым мы все постоянно имеем дело. \n",
    "5. если except внутри себя вызвал новую ошибку, происходит то же, что в пункте 4. \n",
    "6. Если ошибки в try не было, вызовется else, если он есть. \n",
    "7. Когда вся эта хитрая конструкция завершилась, вне зависимости от того, что произошло, выполнится finally. "
   ]
  },
  {
   "cell_type": "markdown",
   "id": "184efc0a-da2d-4410-8d71-5cecfdc41b67",
   "metadata": {},
   "source": [
    "except может быть больше одного, а еще ему можно передавать исключения разными способами:\n",
    "\n",
    "    except: # без всего - будет перехватывать абсолютно все исключения, включая такие, как KeyboardInterrupt, и вы не сможете остановить свою программу. \n",
    "    except Exception: # будет перехватывать исключение Exception и все исключения, которые наследуют от него\n",
    "    except (TypeError, IndexError): # будет перехватывать исключения из списочка (и их детей)"
   ]
  },
  {
   "cell_type": "markdown",
   "id": "231b2ff8-17b0-4f37-8620-e8cfd5f2fc9b",
   "metadata": {},
   "source": [
    "Для того, чтобы искусственным образом вызвать исключение, используется оператор raise. Его тоже можно использовать несколькими способами:\n",
    "\n",
    "    raise IndexError  # неявным образом создаст экземпляр класса IndexError и вызовет его\n",
    "    raise IndexError() # сделает то же самое, но экземпляр создаем явно. В скобочках можем передать аргумент-строку. \n",
    "    exc = IndexError()\n",
    "    raise exc # совсем явно создаем экземпляр класса IndexError и кладем его сперва в переменную\n",
    "    raise # без всего вызывает исключение, которое возникало раньше в работе программы"
   ]
  },
  {
   "cell_type": "markdown",
   "id": "70dff8c8-b53a-47a9-b23d-3ab04c5ecac1",
   "metadata": {},
   "source": [
    "Для чего может использоваться последняя форма:"
   ]
  },
  {
   "cell_type": "code",
   "execution_count": null,
   "id": "e9290e46-4e24-4863-9141-1fb4508c8a44",
   "metadata": {
    "id": "pEoCTODdsiKT"
   },
   "outputs": [],
   "source": [
    "try:\n",
    "    try:\n",
    "      'ac' + 2\n",
    "    except TypeError: # перехватит ошибку\n",
    "      print('Type Error')\n",
    "      raise # выполнит принт и все равно ее опять вызовет\n",
    "except TypeError:\n",
    "  print('Haha') # но мы ее снова перехватили..."
   ]
  },
  {
   "cell_type": "markdown",
   "id": "b5d616c0-714d-452a-adb2-eecd795ff9df",
   "metadata": {},
   "source": [
    "Исключения можно связывать друг с другом:"
   ]
  },
  {
   "cell_type": "code",
   "execution_count": 1,
   "id": "70e3e661-56ab-4d71-a472-de938964252a",
   "metadata": {},
   "outputs": [
    {
     "ename": "TypeError",
     "evalue": "Bad",
     "output_type": "error",
     "traceback": [
      "\u001b[0;31m---------------------------------------------------------------------------\u001b[0m",
      "\u001b[0;31mZeroDivisionError\u001b[0m                         Traceback (most recent call last)",
      "Input \u001b[0;32mIn [1]\u001b[0m, in \u001b[0;36m<cell line: 1>\u001b[0;34m()\u001b[0m\n\u001b[1;32m      1\u001b[0m \u001b[38;5;28;01mtry\u001b[39;00m:\n\u001b[0;32m----> 2\u001b[0m     \u001b[38;5;241;43m1\u001b[39;49m\u001b[43m \u001b[49m\u001b[38;5;241;43m/\u001b[39;49m\u001b[43m \u001b[49m\u001b[38;5;241;43m0\u001b[39;49m\n\u001b[1;32m      3\u001b[0m \u001b[38;5;28;01mexcept\u001b[39;00m \u001b[38;5;167;01mException\u001b[39;00m \u001b[38;5;28;01mas\u001b[39;00m E:\n",
      "\u001b[0;31mZeroDivisionError\u001b[0m: division by zero",
      "\nThe above exception was the direct cause of the following exception:\n",
      "\u001b[0;31mTypeError\u001b[0m                                 Traceback (most recent call last)",
      "Input \u001b[0;32mIn [1]\u001b[0m, in \u001b[0;36m<cell line: 1>\u001b[0;34m()\u001b[0m\n\u001b[1;32m      2\u001b[0m     \u001b[38;5;241m1\u001b[39m \u001b[38;5;241m/\u001b[39m \u001b[38;5;241m0\u001b[39m\n\u001b[1;32m      3\u001b[0m \u001b[38;5;28;01mexcept\u001b[39;00m \u001b[38;5;167;01mException\u001b[39;00m \u001b[38;5;28;01mas\u001b[39;00m E:\n\u001b[0;32m----> 4\u001b[0m     \u001b[38;5;28;01mraise\u001b[39;00m \u001b[38;5;167;01mTypeError\u001b[39;00m(\u001b[38;5;124m'\u001b[39m\u001b[38;5;124mBad\u001b[39m\u001b[38;5;124m'\u001b[39m) \u001b[38;5;28;01mfrom\u001b[39;00m \u001b[38;5;21;01mE\u001b[39;00m\n",
      "\u001b[0;31mTypeError\u001b[0m: Bad"
     ]
    }
   ],
   "source": [
    "try:\n",
    "    1 / 0\n",
    "except Exception as E:\n",
    "    raise TypeError('Bad') from E"
   ]
  },
  {
   "cell_type": "markdown",
   "id": "7a8af9e4-f403-4e7b-898a-cd2c239dc376",
   "metadata": {},
   "source": [
    "Также пару слов нужно сказать про оператор assert, который обычно используется для отладки. Как он работает:\n",
    "\n",
    "    assert <condition>[, 'message']\n",
    "    \n",
    "(То есть, строка-месседж не обязательная). \n",
    "\n",
    "Если условие в assert вернет True, то он промолчит, а если вывалится ошибка, то возникнет исключение AssertionError с тем текстом, который вы передали как 'message':"
   ]
  },
  {
   "cell_type": "code",
   "execution_count": 2,
   "id": "cb0e6f74-6ac4-420a-a146-f64636719ba7",
   "metadata": {
    "id": "pEoCTODdsiKT"
   },
   "outputs": [
    {
     "ename": "AssertionError",
     "evalue": "Two is less than three you idiot!",
     "output_type": "error",
     "traceback": [
      "\u001b[0;31m---------------------------------------------------------------------------\u001b[0m",
      "\u001b[0;31mAssertionError\u001b[0m                            Traceback (most recent call last)",
      "Input \u001b[0;32mIn [2]\u001b[0m, in \u001b[0;36m<cell line: 1>\u001b[0;34m()\u001b[0m\n\u001b[0;32m----> 1\u001b[0m \u001b[38;5;28;01massert\u001b[39;00m \u001b[38;5;241m2\u001b[39m \u001b[38;5;241m>\u001b[39m \u001b[38;5;241m3\u001b[39m, \u001b[38;5;124m'\u001b[39m\u001b[38;5;124mTwo is less than three you idiot!\u001b[39m\u001b[38;5;124m'\u001b[39m\n",
      "\u001b[0;31mAssertionError\u001b[0m: Two is less than three you idiot!"
     ]
    }
   ],
   "source": [
    "assert 2 > 3, 'Two is less than three you idiot!'"
   ]
  },
  {
   "cell_type": "markdown",
   "id": "f3248580-6a24-42ed-8ed6-6dcebd021cf1",
   "metadata": {},
   "source": [
    "#### Кастомные исключения\n",
    "\n",
    "Исключение в питоне - это тоже объект какого-то класса. У исключений есть своя иерархия, которая выглядит в стандартном случае как-то так:\n",
    "\n",
    "    BaseException\n",
    "    Exception\n",
    "    ArithmeticError, LookupError...\n",
    "    (LookupError = IndexError, KeyError...)\n",
    "    \n",
    "Иерархия образуется, конечно, через наследование. \n",
    "\n",
    "Чтобы определить собственное исключение, достаточно написать:"
   ]
  },
  {
   "cell_type": "code",
   "execution_count": 3,
   "id": "3eea509c-3bb0-49aa-b6e6-bac3f7f94196",
   "metadata": {},
   "outputs": [
    {
     "ename": "MyExc",
     "evalue": "This is my exception",
     "output_type": "error",
     "traceback": [
      "\u001b[0;31m---------------------------------------------------------------------------\u001b[0m",
      "\u001b[0;31mMyExc\u001b[0m                                     Traceback (most recent call last)",
      "Input \u001b[0;32mIn [3]\u001b[0m, in \u001b[0;36m<cell line: 3>\u001b[0;34m()\u001b[0m\n\u001b[1;32m      1\u001b[0m \u001b[38;5;28;01mclass\u001b[39;00m \u001b[38;5;21;01mMyExc\u001b[39;00m(\u001b[38;5;167;01mException\u001b[39;00m): \u001b[38;5;28;01mpass\u001b[39;00m\n\u001b[0;32m----> 3\u001b[0m \u001b[38;5;28;01mraise\u001b[39;00m MyExc(\u001b[38;5;124m'\u001b[39m\u001b[38;5;124mThis is my exception\u001b[39m\u001b[38;5;124m'\u001b[39m)\n",
      "\u001b[0;31mMyExc\u001b[0m: This is my exception"
     ]
    }
   ],
   "source": [
    "class MyExc(Exception): pass\n",
    "\n",
    "raise MyExc('This is my exception')"
   ]
  },
  {
   "cell_type": "markdown",
   "id": "158f4891-8f1d-4e1a-a7f4-7423a1dfe888",
   "metadata": {},
   "source": [
    "Можно строчку по умолчанию сразу переопределить:"
   ]
  },
  {
   "cell_type": "code",
   "execution_count": 4,
   "id": "727a85ca-4432-4533-a36a-899aca6be292",
   "metadata": {},
   "outputs": [
    {
     "ename": "Career",
     "evalue": "So I became a linguist...",
     "output_type": "error",
     "traceback": [
      "\u001b[0;31m---------------------------------------------------------------------------\u001b[0m",
      "\u001b[0;31mCareer\u001b[0m                                    Traceback (most recent call last)",
      "Input \u001b[0;32mIn [4]\u001b[0m, in \u001b[0;36m<cell line: 5>\u001b[0;34m()\u001b[0m\n\u001b[1;32m      2\u001b[0m     \u001b[38;5;28;01mdef\u001b[39;00m \u001b[38;5;21m__str__\u001b[39m(\u001b[38;5;28mself\u001b[39m):\n\u001b[1;32m      3\u001b[0m         \u001b[38;5;28;01mreturn\u001b[39;00m \u001b[38;5;124m'\u001b[39m\u001b[38;5;124mSo I became a linguist...\u001b[39m\u001b[38;5;124m'\u001b[39m\n\u001b[0;32m----> 5\u001b[0m \u001b[38;5;28;01mraise\u001b[39;00m Career\n",
      "\u001b[0;31mCareer\u001b[0m: So I became a linguist..."
     ]
    }
   ],
   "source": [
    "class Career(Exception):\n",
    "    def __str__(self):\n",
    "        return 'So I became a linguist...'\n",
    "    \n",
    "raise Career"
   ]
  },
  {
   "cell_type": "markdown",
   "id": "fdbba536-80d8-41ae-8ae5-2b8caed888b7",
   "metadata": {},
   "source": [
    "Также бывает полезно хранить в экземпляре класса своего исключения какие-то добавочные данные. "
   ]
  },
  {
   "cell_type": "code",
   "execution_count": 5,
   "id": "7958f047-398a-47b5-9ece-8f803904da7b",
   "metadata": {
    "id": "pEoCTODdsiKT"
   },
   "outputs": [],
   "source": [
    "class FileReadError(Exception):\n",
    "    def __init__(self, line, file):\n",
    "        self.line = line\n",
    "        self.file = file\n",
    "    def __str__(self):\n",
    "        return f'Error at line {self.line}, file {self.file}'"
   ]
  },
  {
   "cell_type": "code",
   "execution_count": 6,
   "id": "5bef84fd-89f8-49b7-8799-45fa7329b842",
   "metadata": {},
   "outputs": [
    {
     "name": "stdout",
     "output_type": "stream",
     "text": [
      "Error at line 42, file myfile.txt\n"
     ]
    }
   ],
   "source": [
    "try:\n",
    "    raise FileReadError(42, 'myfile.txt')\n",
    "except FileReadError as X:\n",
    "    print(f'Error at line {X.line}, file {X.file}')"
   ]
  },
  {
   "cell_type": "markdown",
   "id": "54af57d5-b071-42e7-b73f-e7c6c94c4b41",
   "metadata": {},
   "source": [
    "Последнее, о чем мы с вами вскользь поговорили - это менеджер контекстов with. \n",
    "\n",
    "На самом деле поддержка диспетчер контекстов пишется самими программистами-разработчиками, и вы можете в своем приложении тоже ее реализовать для какого-то класса, но как это делать - мы рассматривать не будем, нам достаточно знать, что это такое. По духу диспетчер контекстов очень близок try-except: он точно так же запоминает состояние программы в момент своего запуска, выполняет то, что находится в его теле, и возвращается к исходному состоянию. Так, диспетчер контекстов реализован для функции open у файлов:"
   ]
  },
  {
   "cell_type": "code",
   "execution_count": null,
   "id": "c7ed09f5-1edd-40b0-abd0-a7121d0efb3e",
   "metadata": {},
   "outputs": [],
   "source": [
    "with open(path) as file:\n",
    "    file.read()"
   ]
  },
  {
   "cell_type": "markdown",
   "id": "cdd3fc0c-c43f-4a9b-a2cc-beb940bb4da4",
   "metadata": {},
   "source": [
    "Как мы с вами прекрасно знаем, в таком случае нет необходимости явным образом закрывать файл. Закрытие файла реализовано в диспетчере контекстов. \n",
    "\n",
    "В дальнейшем мы с вами будем иметь дело с другими диспетчерами контекстов. Самые распространенные - это, например, диспетчер контекстов, который используется при распараллеливании процессов (если захотите, очень рекомендую поизучать библиотеку multithreading), а мы столкнемся с конструкцией\n",
    "\n",
    "    with torch.nograd():\n",
    "    \n",
    "Для торча. "
   ]
  }
 ],
 "metadata": {
  "kernelspec": {
   "display_name": "Python 3 (ipykernel)",
   "language": "python",
   "name": "python3"
  },
  "language_info": {
   "codemirror_mode": {
    "name": "ipython",
    "version": 3
   },
   "file_extension": ".py",
   "mimetype": "text/x-python",
   "name": "python",
   "nbconvert_exporter": "python",
   "pygments_lexer": "ipython3",
   "version": "3.9.18"
  }
 },
 "nbformat": 4,
 "nbformat_minor": 5
}
