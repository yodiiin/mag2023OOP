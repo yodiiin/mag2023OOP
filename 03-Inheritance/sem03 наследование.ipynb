{
 "cells": [
  {
   "cell_type": "code",
   "execution_count": 1,
   "metadata": {},
   "outputs": [],
   "source": [
    "from time import sleep"
   ]
  },
  {
   "cell_type": "code",
   "execution_count": 19,
   "metadata": {},
   "outputs": [],
   "source": [
    "class Employee:\n",
    "    def __init__(self, name, surname):\n",
    "        self.name = name\n",
    "        self.surname = surname\n",
    "        self.__salary = 350  # псевдозакрытый атрибут _Employee.__salary\n",
    "        self.bankaccount = 0\n",
    "    \n",
    "    def work(self, *args):\n",
    "        raise NotImplementedError\n",
    "    \n",
    "    def show_bankaccount(self):\n",
    "        print(f'{self.name} has {self.bankaccount}$\\n')"
   ]
  },
  {
   "cell_type": "code",
   "execution_count": 9,
   "metadata": {},
   "outputs": [],
   "source": [
    "e = Employee(1, 2)"
   ]
  },
  {
   "cell_type": "code",
   "execution_count": 10,
   "metadata": {},
   "outputs": [
    {
     "ename": "AttributeError",
     "evalue": "'Employee' object has no attribute '__salary'",
     "output_type": "error",
     "traceback": [
      "\u001b[1;31m---------------------------------------------------------------------------\u001b[0m",
      "\u001b[1;31mAttributeError\u001b[0m                            Traceback (most recent call last)",
      "Cell \u001b[1;32mIn[10], line 1\u001b[0m\n\u001b[1;32m----> 1\u001b[0m \u001b[43me\u001b[49m\u001b[38;5;241;43m.\u001b[39;49m\u001b[43m__salary\u001b[49m\n",
      "\u001b[1;31mAttributeError\u001b[0m: 'Employee' object has no attribute '__salary'"
     ]
    }
   ],
   "source": [
    "e.__salary"
   ]
  },
  {
   "cell_type": "code",
   "execution_count": 11,
   "metadata": {},
   "outputs": [
    {
     "data": {
      "text/plain": [
       "350"
      ]
     },
     "execution_count": 11,
     "metadata": {},
     "output_type": "execute_result"
    }
   ],
   "source": [
    "e._Employee__salary"
   ]
  },
  {
   "cell_type": "code",
   "execution_count": 31,
   "metadata": {},
   "outputs": [],
   "source": [
    "class Linguist(Employee):\n",
    "    def __init__(self, name, surname):\n",
    "        Employee.__init__(self, name, surname)\n",
    "        self.__salary = self._Employee__salary * 1.2\n",
    "        self.publications = []\n",
    "    \n",
    "    def work(self, hours, name_of_publ):\n",
    "        print('Working...')\n",
    "        sleep(hours)\n",
    "        self.bankaccount += self.__salary * hours\n",
    "        self.publications.append(name_of_publ)\n",
    "    \n",
    "    def readpaper(self, paper):\n",
    "        print(f'{self.name} is reading {paper}.\\n')\n",
    "        sleep(3)"
   ]
  },
  {
   "cell_type": "code",
   "execution_count": 21,
   "metadata": {},
   "outputs": [],
   "source": [
    "class Programmer(Employee):\n",
    "    def __init__(self, name, surname):\n",
    "        Employee.__init__(self, name, surname)\n",
    "        self.__salary = self._Employee__salary * 2\n",
    "        self.projects = []\n",
    "\n",
    "    def work(self, hours, project):\n",
    "        print('Working...')\n",
    "        sleep(hours)\n",
    "        self.bankaccount += self.__salary * hours\n",
    "        self.projects.append(project)\n",
    "    \n",
    "    def studylanguage(self, language):\n",
    "        print(f'{self.name} is learning {language}.\\n')\n",
    "        sleep(3)"
   ]
  },
  {
   "cell_type": "code",
   "execution_count": 23,
   "metadata": {},
   "outputs": [
    {
     "name": "stdout",
     "output_type": "stream",
     "text": [
      "Working...\n",
      "Working...\n"
     ]
    }
   ],
   "source": [
    "testelets = Linguist('Яков', 'Тестелец')\n",
    "b = Programmer('Steve', 'Jobs')\n",
    "testelets.work(3, 'Generative syntax')\n",
    "b.work(2, 'parser')"
   ]
  },
  {
   "cell_type": "code",
   "execution_count": 25,
   "metadata": {},
   "outputs": [
    {
     "name": "stdout",
     "output_type": "stream",
     "text": [
      "Steve has 1400$\n",
      "\n"
     ]
    }
   ],
   "source": [
    "b.show_bankaccount()"
   ]
  },
  {
   "cell_type": "code",
   "execution_count": 26,
   "metadata": {},
   "outputs": [
    {
     "name": "stdout",
     "output_type": "stream",
     "text": [
      "Яков has 1260.0$\n",
      "\n"
     ]
    }
   ],
   "source": [
    "testelets.show_bankaccount()"
   ]
  },
  {
   "cell_type": "code",
   "execution_count": 27,
   "metadata": {},
   "outputs": [],
   "source": [
    "class ComputationalLingust(Linguist, Programmer):\n",
    "    def __init__(self, name, surname):\n",
    "        Programmer.__init__(self, name, surname)\n",
    "        Linguist.__init__(self, name, surname)\n",
    "        self.__salary = self._Programmer__salary + self._Linguist__salary"
   ]
  },
  {
   "cell_type": "code",
   "execution_count": 28,
   "metadata": {},
   "outputs": [],
   "source": [
    "c = ComputationalLingust('Alexandra', 'Ivoylova')"
   ]
  },
  {
   "cell_type": "code",
   "execution_count": 29,
   "metadata": {},
   "outputs": [
    {
     "data": {
      "text/plain": [
       "1120.0"
      ]
     },
     "execution_count": 29,
     "metadata": {},
     "output_type": "execute_result"
    }
   ],
   "source": [
    "c._ComputationalLingust__salary"
   ]
  },
  {
   "cell_type": "code",
   "execution_count": 30,
   "metadata": {},
   "outputs": [
    {
     "name": "stdout",
     "output_type": "stream",
     "text": [
      "Alexandra is readinf paper.\n",
      "\n"
     ]
    }
   ],
   "source": [
    "c.readpaper('paper')"
   ]
  },
  {
   "cell_type": "code",
   "execution_count": 37,
   "metadata": {},
   "outputs": [],
   "source": [
    "class Employee:\n",
    "    def __init__(self, name, surname):\n",
    "        self.name = name\n",
    "        self.surname = surname\n",
    "        self.salary = 350  # псевдозакрытый атрибут _Employee.__salary\n",
    "        self.bankaccount = 0\n",
    "    \n",
    "    def work(self, *args):\n",
    "        raise NotImplementedError\n",
    "    \n",
    "    def show_bankaccount(self):\n",
    "        print(f'{self.name} has {self.bankaccount}$\\n')"
   ]
  },
  {
   "cell_type": "code",
   "execution_count": 38,
   "metadata": {},
   "outputs": [],
   "source": [
    "class Linguist:\n",
    "    def __init__(self, name, surname):\n",
    "        self.employee = Employee(name, surname)\n",
    "        self.employee.salary *= 1.2\n",
    "        self.publications = []\n",
    "    \n",
    "    def work(self, hours, publication):\n",
    "        print('Working on a publication')\n",
    "        sleep(hours)\n",
    "        self.employee.bankaccount += self.employee.salary * hours\n",
    "        self.publications.append(publication)"
   ]
  },
  {
   "cell_type": "code",
   "execution_count": 39,
   "metadata": {},
   "outputs": [],
   "source": [
    "l = Linguist('Jacob', 'Testelets')"
   ]
  },
  {
   "cell_type": "code",
   "execution_count": 40,
   "metadata": {},
   "outputs": [
    {
     "data": {
      "text/plain": [
       "{'employee': <__main__.Employee at 0x16f683f9e50>, 'publications': []}"
      ]
     },
     "execution_count": 40,
     "metadata": {},
     "output_type": "execute_result"
    }
   ],
   "source": [
    "vars(l)"
   ]
  },
  {
   "cell_type": "code",
   "execution_count": 41,
   "metadata": {},
   "outputs": [
    {
     "ename": "AttributeError",
     "evalue": "'Linguist' object has no attribute 'showbankaccount'",
     "output_type": "error",
     "traceback": [
      "\u001b[1;31m---------------------------------------------------------------------------\u001b[0m",
      "\u001b[1;31mAttributeError\u001b[0m                            Traceback (most recent call last)",
      "Cell \u001b[1;32mIn[41], line 1\u001b[0m\n\u001b[1;32m----> 1\u001b[0m \u001b[43ml\u001b[49m\u001b[38;5;241;43m.\u001b[39;49m\u001b[43mshowbankaccount\u001b[49m()\n",
      "\u001b[1;31mAttributeError\u001b[0m: 'Linguist' object has no attribute 'showbankaccount'"
     ]
    }
   ],
   "source": [
    "l.showbankaccount()"
   ]
  },
  {
   "cell_type": "code",
   "execution_count": 53,
   "metadata": {},
   "outputs": [],
   "source": [
    "class Linguist:\n",
    "    def __init__(self, name, surname):\n",
    "        self.employee = Employee(name, surname)\n",
    "        self.employee.salary *= 1.2\n",
    "        self.publications = []\n",
    "    \n",
    "    def __repr__(self):\n",
    "        return f\"{self.__class__.__name__}('{self.name}', {self.employee.salary})\"\n",
    "    \n",
    "    def work(self, hours):\n",
    "        print('Working on a publication')\n",
    "        sleep(hours)\n",
    "        self.employee.bankaccount += self.employee.salary * hours\n",
    "        # self.publications.append(publication)\n",
    "    \n",
    "    def __getattr__(self, attr):\n",
    "        return getattr(self.employee, attr)\n",
    "    \n",
    "    def __setattr__(self, attr, value):\n",
    "        print(f'Trying to set {attr}')\n",
    "        self.__dict__[attr] = value # словарь содержащий атрибуты нашего класса\n",
    "        # self.attr = value вызовет рекурсию\n",
    "    \n",
    "    def raise_salary(self, coef):\n",
    "        self.employee.salary *= coef\n",
    "        print(f'Now the salary for {self.employee.name} is {self.employee.salary}')"
   ]
  },
  {
   "cell_type": "code",
   "execution_count": 50,
   "metadata": {},
   "outputs": [
    {
     "name": "stdout",
     "output_type": "stream",
     "text": [
      "Trying to set employee\n",
      "Trying to set publications\n"
     ]
    }
   ],
   "source": [
    "l = Linguist('Jacob', 'Testelets')"
   ]
  },
  {
   "cell_type": "code",
   "execution_count": 51,
   "metadata": {},
   "outputs": [
    {
     "data": {
      "text/plain": [
       "Linguist('Jacob', 420.0)"
      ]
     },
     "execution_count": 51,
     "metadata": {},
     "output_type": "execute_result"
    }
   ],
   "source": [
    "l"
   ]
  },
  {
   "cell_type": "code",
   "execution_count": 45,
   "metadata": {},
   "outputs": [
    {
     "name": "stdout",
     "output_type": "stream",
     "text": [
      "Jacob has 0$\n",
      "\n"
     ]
    }
   ],
   "source": [
    "l.show_bankaccount()"
   ]
  },
  {
   "cell_type": "code",
   "execution_count": 46,
   "metadata": {},
   "outputs": [
    {
     "data": {
      "text/plain": [
       "{'employee': <__main__.Employee at 0x16f683fb500>, 'publications': []}"
      ]
     },
     "execution_count": 46,
     "metadata": {},
     "output_type": "execute_result"
    }
   ],
   "source": [
    "vars(l)"
   ]
  },
  {
   "cell_type": "code",
   "execution_count": 47,
   "metadata": {},
   "outputs": [
    {
     "data": {
      "text/plain": [
       "{'employee': <__main__.Employee at 0x16f683fb500>, 'publications': []}"
      ]
     },
     "execution_count": 47,
     "metadata": {},
     "output_type": "execute_result"
    }
   ],
   "source": [
    "l.__dict__ # атрибута show_bankaccount всё так же нет..."
   ]
  },
  {
   "cell_type": "markdown",
   "metadata": {},
   "source": [
    "##### Другие зарезервированные атрибуты класса"
   ]
  },
  {
   "cell_type": "code",
   "execution_count": 48,
   "metadata": {},
   "outputs": [
    {
     "data": {
      "text/plain": [
       "__main__.Linguist"
      ]
     },
     "execution_count": 48,
     "metadata": {},
     "output_type": "execute_result"
    }
   ],
   "source": [
    "l.__class__"
   ]
  },
  {
   "cell_type": "code",
   "execution_count": null,
   "metadata": {},
   "outputs": [],
   "source": [
    "class ARD:\n",
    "    def __init__(self, *args):\n",
    "        self.members = list(args)\n",
    "    \n",
    "    def add_member(self, worker):\n",
    "        self.members.append(worker)\n",
    "    \n",
    "    def raise_salary_all(self, coef):\n",
    "        for linguist in self.members:\n",
    "            linguist.raise_salary(coef)\n",
    "    \n",
    "    def work_everyone(self, hours):\n",
    "        for member in self.members:\n",
    "            member.work(hours)"
   ]
  }
 ],
 "metadata": {
  "kernelspec": {
   "display_name": "Python 3",
   "language": "python",
   "name": "python3"
  },
  "language_info": {
   "codemirror_mode": {
    "name": "ipython",
    "version": 3
   },
   "file_extension": ".py",
   "mimetype": "text/x-python",
   "name": "python",
   "nbconvert_exporter": "python",
   "pygments_lexer": "ipython3",
   "version": "3.12.4"
  }
 },
 "nbformat": 4,
 "nbformat_minor": 2
}
