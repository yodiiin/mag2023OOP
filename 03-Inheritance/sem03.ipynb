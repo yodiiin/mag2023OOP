{
 "cells": [
  {
   "cell_type": "markdown",
   "id": "db32c013-4ac6-4016-9d03-152520f73034",
   "metadata": {},
   "source": [
    "Единственная задача: обобщить написанный на семинаре код и сымитировать работу одного большого отдела ABBYY, в котором есть три маленьких подотдела с лингвистами, программистами и комплингом. То есть, что у нас должно быть реализовано:\n",
    "\n",
    "- родительский класс \"работник\"\n",
    "- базовые классы \"лингвист\", \"программист\" и \"компьютерный лингвист\"\n",
    "- у всех методы work\n",
    "- классы \"босс_лингвист\", \"босс_программист\" и \"босс_кл\", которые могут наследовать (с подмешиванием) от общего класса \"босс\"\n",
    "- у боссов в атрибутах сидят их подчиненные\n",
    "- босс подотдела получает квесты от менеджера главного отдела и принуждает сотрудников работать\n",
    "- в главном отделе есть метод для выдачи квестов\n",
    "- соответственно, используем как наследование, так и композицию с делегированием"
   ]
  },
  {
   "cell_type": "code",
   "execution_count": 1,
   "id": "f502f7a8",
   "metadata": {},
   "outputs": [],
   "source": [
    "from time import sleep"
   ]
  },
  {
   "cell_type": "code",
   "execution_count": null,
   "id": "503e417e-9789-42d7-95e3-b2f1917d63cf",
   "metadata": {},
   "outputs": [],
   "source": [
    "class Employee:\n",
    "    def __init__(self, name, surname):\n",
    "        self.name = name\n",
    "        self.surname = surname\n",
    "        self.salary = 350 \n",
    "        self.bankaccount = 0\n",
    "    \n",
    "    def work(self, *args):\n",
    "        raise NotImplementedError\n",
    "    \n",
    "    def show_bankaccount(self):\n",
    "        print(f'{self.name} has {self.bankaccount}$.\\n')"
   ]
  },
  {
   "cell_type": "code",
   "execution_count": null,
   "id": "8c7b1db3",
   "metadata": {},
   "outputs": [],
   "source": [
    "class Linguist(Employee):\n",
    "    def __init__(self, name, surname):\n",
    "        Employee.__init__(self, name, surname)\n",
    "        self.salary *= 1.2\n",
    "        self.publications = []\n",
    "    \n",
    "    def work(self, hours, name_of_publ):\n",
    "        print('Working...')\n",
    "        sleep(hours)\n",
    "        self.bankaccount += self.__salary * hours\n",
    "        self.publications.append(name_of_publ)\n",
    "    \n",
    "    def readpaper(self, paper):\n",
    "        print(f'{self.name} is reading {paper}.\\n')\n",
    "        sleep(3)"
   ]
  },
  {
   "cell_type": "code",
   "execution_count": null,
   "id": "ab76debf",
   "metadata": {},
   "outputs": [],
   "source": [
    "class Programmer(Employee):\n",
    "    def __init__(self, name, surname):\n",
    "        Employee.__init__(self, name, surname)\n",
    "        self.__salary = self._Employee__salary * 2\n",
    "        self.projects = []\n",
    "\n",
    "    def work(self, hours, project):\n",
    "        print('Working...')\n",
    "        sleep(hours)\n",
    "        self.bankaccount += self.__salary * hours\n",
    "        self.projects.append(project)\n",
    "    \n",
    "    def studylanguage(self, language):\n",
    "        print(f'{self.name} is learning {language}.\\n')\n",
    "        sleep(3)"
   ]
  },
  {
   "cell_type": "code",
   "execution_count": null,
   "id": "698ecb66",
   "metadata": {},
   "outputs": [],
   "source": [
    "class ComputationalLingust(Linguist, Programmer):\n",
    "    def __init__(self, name, surname):\n",
    "        Programmer.__init__(self, name, surname)\n",
    "        Linguist.__init__(self, name, surname)\n",
    "        self.__salary = self._Programmer__salary + self._Linguist__salary\n",
    "    \n",
    "    def work(self, hours, publ):\n",
    "        ..."
   ]
  },
  {
   "cell_type": "code",
   "execution_count": null,
   "id": "cbef86e2",
   "metadata": {},
   "outputs": [],
   "source": [
    "class Boss(Employee):\n",
    "    def __init__(self, name, surname):\n",
    "        Employee.__init__(self, name, surname)\n",
    "        "
   ]
  },
  {
   "cell_type": "code",
   "execution_count": null,
   "id": "81a06c6c",
   "metadata": {},
   "outputs": [],
   "source": [
    "class LinguistBoss(Boss):\n",
    "    ..."
   ]
  },
  {
   "cell_type": "code",
   "execution_count": null,
   "id": "2f9dacbe",
   "metadata": {},
   "outputs": [],
   "source": [
    "class ProgrammerBoss(Boss):\n",
    "    ..."
   ]
  },
  {
   "cell_type": "code",
   "execution_count": null,
   "id": "acd76c29",
   "metadata": {},
   "outputs": [],
   "source": [
    "class CLBoss(Boss):\n",
    "    ..."
   ]
  }
 ],
 "metadata": {
  "kernelspec": {
   "display_name": "Python 3 (ipykernel)",
   "language": "python",
   "name": "python3"
  },
  "language_info": {
   "codemirror_mode": {
    "name": "ipython",
    "version": 3
   },
   "file_extension": ".py",
   "mimetype": "text/x-python",
   "name": "python",
   "nbconvert_exporter": "python",
   "pygments_lexer": "ipython3",
   "version": "3.12.4"
  }
 },
 "nbformat": 4,
 "nbformat_minor": 5
}
